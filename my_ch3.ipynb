{
 "cells": [
  {
   "cell_type": "code",
   "execution_count": 1,
   "metadata": {},
   "outputs": [],
   "source": [
    "import numpy as np\n",
    "import matplotlib.pyplot as plt\n",
    "%matplotlib inline\n",
    "\n",
    "#from keras.datasets import imdb"
   ]
  },
  {
   "cell_type": "markdown",
   "metadata": {},
   "source": [
    "#### Classifying movie reviews: a binary classification example"
   ]
  },
  {
   "cell_type": "code",
   "execution_count": 13,
   "metadata": {},
   "outputs": [],
   "source": [
    "(train_data, train_labels), (test_data, test_labels) = imdb.load_data(num_words=10000)"
   ]
  },
  {
   "cell_type": "code",
   "execution_count": 14,
   "metadata": {},
   "outputs": [
    {
     "data": {
      "text/plain": [
       "9999"
      ]
     },
     "execution_count": 14,
     "metadata": {},
     "output_type": "execute_result"
    }
   ],
   "source": [
    "max(max(seq) for seq in train_data)"
   ]
  },
  {
   "cell_type": "code",
   "execution_count": 6,
   "metadata": {},
   "outputs": [
    {
     "name": "stdout",
     "output_type": "stream",
     "text": [
      "Downloading data from https://s3.amazonaws.com/text-datasets/imdb_word_index.json\n",
      "1646592/1641221 [==============================] - 7s 4us/step\n"
     ]
    }
   ],
   "source": [
    "word2idx = imdb.get_word_index()\n",
    "idx2word = {i:w for w,i in word2idx.items()}"
   ]
  },
  {
   "cell_type": "code",
   "execution_count": 15,
   "metadata": {},
   "outputs": [
    {
     "data": {
      "text/plain": [
       "\"? this film was just brilliant casting location scenery story direction everyone's really suited the part they played and you could just imagine being there robert ? is an amazing actor and now the same being director ? father came from the same scottish island as myself so i loved the fact there was a real connection with this film the witty remarks throughout the film were great it was just brilliant so much that i bought the film as soon as it was released for ? and would recommend it to everyone to watch and the fly fishing was amazing really cried at the end it was so sad and you know what they say if you cry at a film it must have been good and this definitely was also ? to the two little boy's that played the ? of norman and paul they were just brilliant children are often left out of the ? list i think because the stars that play them all grown up are such a big profile for the whole film but these children are amazing and should be praised for what they have done don't you think the whole story was so lovely because it was true and was someone's life after all that was shared with us all\""
      ]
     },
     "execution_count": 15,
     "metadata": {},
     "output_type": "execute_result"
    }
   ],
   "source": [
    "\" \".join(idx2word.get(i-3, '?') for i in train_data[0])"
   ]
  },
  {
   "cell_type": "markdown",
   "metadata": {},
   "source": [
    "##### preparing the data"
   ]
  },
  {
   "cell_type": "code",
   "execution_count": 17,
   "metadata": {},
   "outputs": [],
   "source": [
    "def vectorize_sequence(sequences, dimension=10000):\n",
    "    results = np.zeros((len(sequences), dimension))\n",
    "    for i, seq in enumerate(sequences):\n",
    "        results[i, seq] = 1.\n",
    "    return results"
   ]
  },
  {
   "cell_type": "code",
   "execution_count": 25,
   "metadata": {},
   "outputs": [
    {
     "data": {
      "text/plain": [
       "array([[0., 1., 1., 1., 0.],\n",
       "       [0., 1., 0., 0., 1.],\n",
       "       [0., 0., 0., 1., 0.]])"
      ]
     },
     "execution_count": 25,
     "metadata": {},
     "output_type": "execute_result"
    }
   ],
   "source": [
    "vectorize_sequence([[1,2,3], [1,4], [3]], dimension=5)"
   ]
  },
  {
   "cell_type": "code",
   "execution_count": 19,
   "metadata": {},
   "outputs": [],
   "source": [
    "x_train = vectorize_sequence(train_data)"
   ]
  },
  {
   "cell_type": "code",
   "execution_count": 20,
   "metadata": {},
   "outputs": [],
   "source": [
    "x_test = vectorize_sequence(test_data)"
   ]
  },
  {
   "cell_type": "code",
   "execution_count": 27,
   "metadata": {},
   "outputs": [],
   "source": [
    "y_train = np.asarray(train_labels).astype('float32')\n",
    "y_test = np.asarray(test_labels).astype('float32')"
   ]
  },
  {
   "cell_type": "code",
   "execution_count": 84,
   "metadata": {},
   "outputs": [],
   "source": [
    "x_val, y_val = x_train[:10000], y_train[:10000]\n",
    "x_train, y_train = x_train[10000:], y_train[10000:]"
   ]
  },
  {
   "cell_type": "code",
   "execution_count": 85,
   "metadata": {},
   "outputs": [
    {
     "data": {
      "text/plain": [
       "((15000, 10000), (15000,), (10000, 10000), (10000,), (25000, 10000), (25000,))"
      ]
     },
     "execution_count": 85,
     "metadata": {},
     "output_type": "execute_result"
    }
   ],
   "source": [
    "x_train.shape, y_train.shape, x_val.shape, y_val.shape, x_test.shape, y_test.shape"
   ]
  },
  {
   "cell_type": "code",
   "execution_count": 86,
   "metadata": {},
   "outputs": [],
   "source": [
    "# building model\n",
    "from keras import models, layers, optimizers, losses, metrics\n",
    "\n",
    "nn = models.Sequential()\n",
    "nn.add(layers.Dense(units=16, activation='relu', input_shape=(10000,)))\n",
    "nn.add(layers.Dense(units=16, activation='relu'))\n",
    "nn.add(layers.Dense(units=1, activation='sigmoid'))\n",
    "\n",
    "# define loss function, optimizer and evaluation metric\n",
    "nn.compile(optimizer=optimizers.RMSprop(lr=1e-3), \n",
    "           loss=losses.binary_crossentropy, \n",
    "           metrics=['accuracy'])"
   ]
  },
  {
   "cell_type": "code",
   "execution_count": 76,
   "metadata": {},
   "outputs": [
    {
     "name": "stdout",
     "output_type": "stream",
     "text": [
      "Train on 15000 samples, validate on 10000 samples\n",
      "Epoch 1/2\n",
      "15000/15000 [==============================] - 5s 316us/step - loss: 0.5442 - acc: 0.7719 - val_loss: 0.4298 - val_acc: 0.8515\n",
      "Epoch 2/2\n",
      "15000/15000 [==============================] - 4s 243us/step - loss: 0.3354 - acc: 0.8971 - val_loss: 0.3191 - val_acc: 0.8857\n"
     ]
    }
   ],
   "source": [
    "history = nn.fit(x_train2, y_train2, \n",
    "                 batch_size=512, epochs=2, \n",
    "                 validation_data=(x_val, y_val))"
   ]
  },
  {
   "cell_type": "code",
   "execution_count": 77,
   "metadata": {},
   "outputs": [
    {
     "data": {
      "text/plain": [
       "dict_keys(['val_acc', 'acc', 'loss', 'val_loss'])"
      ]
     },
     "execution_count": 77,
     "metadata": {},
     "output_type": "execute_result"
    }
   ],
   "source": [
    "history.history.keys()"
   ]
  },
  {
   "cell_type": "code",
   "execution_count": 62,
   "metadata": {},
   "outputs": [],
   "source": [
    "loss_vals = history.history['val_loss']\n",
    "loss_tr = history.history['loss']\n",
    "val_acc = history.history['val_binary_accuracy']\n",
    "tr_acc = history.history['binary_accuracy']"
   ]
  },
  {
   "cell_type": "code",
   "execution_count": 63,
   "metadata": {},
   "outputs": [
    {
     "data": {
      "text/plain": [
       "Text(0,0.5,'accuracy')"
      ]
     },
     "execution_count": 63,
     "metadata": {},
     "output_type": "execute_result"
    },
    {
     "data": {
      "image/png": "[encoded data removed]",
      "text/plain": [
       "<Figure size 720x216 with 2 Axes>"
      ]
     },
     "metadata": {},
     "output_type": "display_data"
    }
   ],
   "source": [
    "fig, ax = plt.subplots(ncols=2, figsize=(10, 3))\n",
    "\n",
    "ax[0].plot(loss_vals, '--', label='val')\n",
    "ax[0].plot(loss_tr, label='train')\n",
    "ax[0].legend()\n",
    "ax[0].set_xlabel('epochs')\n",
    "ax[0].set_ylabel('loss')\n",
    "\n",
    "ax[1].plot(val_acc, '--', label='val')\n",
    "ax[1].plot(tr_acc, label='train')\n",
    "ax[1].legend()\n",
    "ax[1].set_xlabel('epochs')\n",
    "ax[1].set_ylabel('accuracy')"
   ]
  },
  {
   "cell_type": "code",
   "execution_count": 64,
   "metadata": {},
   "outputs": [
    {
     "name": "stdout",
     "output_type": "stream",
     "text": [
      "Epoch 1/4\n",
      "25000/25000 [==============================] - 5s 207us/step - loss: 0.4632 - binary_accuracy: 0.8182\n",
      "Epoch 2/4\n",
      "25000/25000 [==============================] - 4s 153us/step - loss: 0.2659 - binary_accuracy: 0.9061\n",
      "Epoch 3/4\n",
      "25000/25000 [==============================] - 4s 149us/step - loss: 0.2045 - binary_accuracy: 0.9273\n",
      "Epoch 4/4\n",
      "25000/25000 [==============================] - 4s 158us/step - loss: 0.1705 - binary_accuracy: 0.9400\n"
     ]
    },
    {
     "data": {
      "text/plain": [
       "<keras.callbacks.History at 0x1d26f48a278>"
      ]
     },
     "execution_count": 64,
     "metadata": {},
     "output_type": "execute_result"
    }
   ],
   "source": [
    "nn = models.Sequential()\n",
    "nn.add(layers.Dense(units=16, activation='relu', input_shape=(10000,)))\n",
    "nn.add(layers.Dense(units=16, activation='relu'))\n",
    "nn.add(layers.Dense(units=1, activation='sigmoid'))\n",
    "\n",
    "# define loss function, optimizer and evaluation metric\n",
    "nn.compile(optimizer=optimizers.RMSprop(lr=1e-3), \n",
    "           loss=losses.binary_crossentropy, \n",
    "           metrics=[metrics.binary_accuracy])\n",
    "\n",
    "nn.fit(x_train, y_train, epochs=4, batch_size=512)"
   ]
  },
  {
   "cell_type": "code",
   "execution_count": 66,
   "metadata": {},
   "outputs": [
    {
     "name": "stdout",
     "output_type": "stream",
     "text": [
      "25000/25000 [==============================] - 11s 437us/step\n"
     ]
    },
    {
     "data": {
      "text/plain": [
       "[0.2901304787540436, 0.88524]"
      ]
     },
     "execution_count": 66,
     "metadata": {},
     "output_type": "execute_result"
    }
   ],
   "source": [
    "nn.evaluate(x_test, y_test)"
   ]
  },
  {
   "cell_type": "code",
   "execution_count": 127,
   "metadata": {},
   "outputs": [],
   "source": [
    "def run_model(n_input, hiddens, n_output, X_train, y_train, X_val, y_val, \n",
    "              activation='relu', loss='binary_crossentropy', optimizer='rmsprop',\n",
    "              n_epochs=10, batch_size=512):\n",
    "    '''create Fully connected neural network and trained on the given data \n",
    "    return the best model evaluated on the validation data'''\n",
    "    model = models.Sequential()\n",
    "    assert len(hiddens) > 0\n",
    "    model.add(layers.Dense(units=hiddens[0], input_shape=(n_input,), activation=activation))\n",
    "    for n in hiddens[1:]:\n",
    "        model.add(layers.Dense(units=n, activation=activation))\n",
    "    model.add(layers.Dense(units=n_output, activation='sigmoid'))\n",
    "    model.compile(optimizer=optimizer, loss=loss, metrics=['accuracy'])\n",
    "    \n",
    "    history = model.fit(x_train, y_train, epochs=n_epochs, \n",
    "                        batch_size=batch_size, validation_data=(x_val, y_val))\n",
    "    \n",
    "    hx = history.history\n",
    "    loss_tr, acc_tr = hx['loss'], hx['acc']\n",
    "    loss_val, acc_val = hx['val_loss'], hx['val_acc']\n",
    "    best_epoch = np.argmax(acc_val) + 1\n",
    "    print(\"#\"*30)\n",
    "    print(\"Best validation accuracy: {} epochs, accuracy: {:.4f}\".format(best_epoch, acc_val[best_epoch-1]))\n",
    "    print(\"#\"*30)\n",
    "    xs = range(1, len(loss_tr)+1)\n",
    "    fig, ax = plt.subplots(ncols=2, figsize=(10, 3))\n",
    "    ax[0].plot(xs, loss_tr, label='train')\n",
    "    ax[0].plot(xs, loss_val, '--', label='val')\n",
    "    ax[0].set_xlabel('epochs')\n",
    "    ax[0].set_ylabel('loss')\n",
    "    ax[0].legend()\n",
    "    \n",
    "    ax[1].plot(xs, acc_tr, label='train')\n",
    "    ax[1].plot(xs, acc_val, '--', label='val')\n",
    "    ax[1].set_xlabel('epochs')\n",
    "    ax[1].set_ylabel('accuracy')\n",
    "    ax[1].legend()\n",
    "    \n",
    "    model = models.clone_model(model)\n",
    "    model.compile(optimizer=optimizer, loss=loss, metrics=['accuracy'])\n",
    "    model.fit(np.concatenate((x_train, x_val)), np.concatenate((y_train, y_val)), \n",
    "                           epochs=best_epoch, batch_size=batch_size, verbose=0)\n",
    "    return model"
   ]
  },
  {
   "cell_type": "code",
   "execution_count": 126,
   "metadata": {},
   "outputs": [
    {
     "name": "stdout",
     "output_type": "stream",
     "text": [
      "Train on 15000 samples, validate on 10000 samples\n",
      "Epoch 1/20\n",
      "15000/15000 [==============================] - 6s 389us/step - loss: 0.5167 - acc: 0.7741 - val_loss: 0.3778 - val_acc: 0.8651\n",
      "Epoch 2/20\n",
      "15000/15000 [==============================] - 4s 236us/step - loss: 0.2936 - acc: 0.9011 - val_loss: 0.3027 - val_acc: 0.8830\n",
      "Epoch 3/20\n",
      "15000/15000 [==============================] - 4s 242us/step - loss: 0.2070 - acc: 0.9317 - val_loss: 0.2746 - val_acc: 0.8889\n",
      "Epoch 4/20\n",
      "15000/15000 [==============================] - 4s 254us/step - loss: 0.1644 - acc: 0.9444 - val_loss: 0.2889 - val_acc: 0.8851\n",
      "Epoch 5/20\n",
      "15000/15000 [==============================] - 4s 255us/step - loss: 0.1330 - acc: 0.9563 - val_loss: 0.3112 - val_acc: 0.8821\n",
      "Epoch 6/20\n",
      "15000/15000 [==============================] - 4s 269us/step - loss: 0.1050 - acc: 0.9681 - val_loss: 0.3137 - val_acc: 0.8828\n",
      "Epoch 7/20\n",
      "15000/15000 [==============================] - 4s 263us/step - loss: 0.0882 - acc: 0.9725 - val_loss: 0.3357 - val_acc: 0.8839\n",
      "Epoch 8/20\n",
      "15000/15000 [==============================] - 4s 253us/step - loss: 0.0709 - acc: 0.9785 - val_loss: 0.3899 - val_acc: 0.8754\n",
      "Epoch 9/20\n",
      "15000/15000 [==============================] - 4s 263us/step - loss: 0.0583 - acc: 0.9827 - val_loss: 0.4088 - val_acc: 0.8785\n",
      "Epoch 10/20\n",
      "15000/15000 [==============================] - 4s 262us/step - loss: 0.0458 - acc: 0.9873 - val_loss: 0.4304 - val_acc: 0.8755\n",
      "Epoch 11/20\n",
      "15000/15000 [==============================] - 4s 263us/step - loss: 0.0343 - acc: 0.9910 - val_loss: 0.4685 - val_acc: 0.8753\n",
      "Epoch 12/20\n",
      "15000/15000 [==============================] - 4s 244us/step - loss: 0.0277 - acc: 0.9932 - val_loss: 0.4994 - val_acc: 0.8679\n",
      "Epoch 13/20\n",
      "15000/15000 [==============================] - 4s 264us/step - loss: 0.0229 - acc: 0.9944 - val_loss: 0.5334 - val_acc: 0.8697\n",
      "Epoch 14/20\n",
      "15000/15000 [==============================] - 4s 264us/step - loss: 0.0114 - acc: 0.9986 - val_loss: 0.8488 - val_acc: 0.8358\n",
      "Epoch 15/20\n",
      "15000/15000 [==============================] - 4s 247us/step - loss: 0.0128 - acc: 0.9967 - val_loss: 0.6124 - val_acc: 0.8693\n",
      "Epoch 16/20\n",
      "15000/15000 [==============================] - 4s 240us/step - loss: 0.0201 - acc: 0.9937 - val_loss: 0.6448 - val_acc: 0.8675\n",
      "Epoch 17/20\n",
      "15000/15000 [==============================] - 4s 267us/step - loss: 0.0036 - acc: 0.9999 - val_loss: 0.6712 - val_acc: 0.8666\n",
      "Epoch 18/20\n",
      "15000/15000 [==============================] - 4s 258us/step - loss: 0.0144 - acc: 0.9957 - val_loss: 0.7040 - val_acc: 0.8669\n",
      "Epoch 19/20\n",
      "15000/15000 [==============================] - 4s 263us/step - loss: 0.0022 - acc: 0.9999 - val_loss: 0.7269 - val_acc: 0.8651\n",
      "Epoch 20/20\n",
      "15000/15000 [==============================] - 4s 261us/step - loss: 0.0016 - acc: 0.9999 - val_loss: 0.8263 - val_acc: 0.8617\n",
      "##############################\n",
      "Best validation accuracy: 3 epochs, accuracy: 0.8889\n",
      "##############################\n"
     ]
    },
    {
     "data": {
      "image/png": "[encoded data removed]",
      "text/plain": [
       "<Figure size 720x216 with 2 Axes>"
      ]
     },
     "metadata": {},
     "output_type": "display_data"
    }
   ],
   "source": [
    "# 3 hidden layers model\n",
    "nn = run_model(10000, [16, 16, 16], 1, \n",
    "               x_train, y_train, x_val, y_val, n_epochs=20)"
   ]
  },
  {
   "cell_type": "code",
   "execution_count": 115,
   "metadata": {},
   "outputs": [
    {
     "name": "stdout",
     "output_type": "stream",
     "text": [
      "25000/25000 [==============================] - 8s 317us/step\n"
     ]
    },
    {
     "data": {
      "text/plain": [
       "[0.2853150769329071, 0.8868]"
      ]
     },
     "execution_count": 115,
     "metadata": {},
     "output_type": "execute_result"
    }
   ],
   "source": [
    "nn.evaluate(x_test, y_test)"
   ]
  },
  {
   "cell_type": "code",
   "execution_count": null,
   "metadata": {},
   "outputs": [],
   "source": []
  },
  {
   "cell_type": "code",
   "execution_count": 116,
   "metadata": {},
   "outputs": [
    {
     "name": "stdout",
     "output_type": "stream",
     "text": [
      "Train on 15000 samples, validate on 10000 samples\n",
      "Epoch 1/20\n",
      "15000/15000 [==============================] - 6s 383us/step - loss: 0.4973 - acc: 0.7767 - val_loss: 0.3475 - val_acc: 0.8779\n",
      "Epoch 2/20\n",
      "15000/15000 [==============================] - 4s 254us/step - loss: 0.2718 - acc: 0.9077 - val_loss: 0.2819 - val_acc: 0.8905\n",
      "Epoch 3/20\n",
      "15000/15000 [==============================] - 4s 256us/step - loss: 0.2009 - acc: 0.9309 - val_loss: 0.2825 - val_acc: 0.8888\n",
      "Epoch 4/20\n",
      "15000/15000 [==============================] - 4s 242us/step - loss: 0.1555 - acc: 0.9464 - val_loss: 0.2823 - val_acc: 0.8886\n",
      "Epoch 5/20\n",
      "15000/15000 [==============================] - 3s 233us/step - loss: 0.1241 - acc: 0.9577 - val_loss: 0.2970 - val_acc: 0.8861\n",
      "Epoch 6/20\n",
      "15000/15000 [==============================] - 3s 225us/step - loss: 0.0962 - acc: 0.9692 - val_loss: 0.3213 - val_acc: 0.8819\n",
      "Epoch 7/20\n",
      "15000/15000 [==============================] - 4s 242us/step - loss: 0.0735 - acc: 0.9782 - val_loss: 0.3632 - val_acc: 0.8807\n",
      "Epoch 8/20\n",
      "15000/15000 [==============================] - 4s 247us/step - loss: 0.0592 - acc: 0.9826 - val_loss: 0.4056 - val_acc: 0.8756\n",
      "Epoch 9/20\n",
      "15000/15000 [==============================] - 4s 249us/step - loss: 0.0450 - acc: 0.9870 - val_loss: 0.4246 - val_acc: 0.8765\n",
      "Epoch 10/20\n",
      "15000/15000 [==============================] - 3s 232us/step - loss: 0.0370 - acc: 0.9910 - val_loss: 0.5188 - val_acc: 0.8660\n",
      "Epoch 11/20\n",
      "15000/15000 [==============================] - 4s 244us/step - loss: 0.0332 - acc: 0.9896 - val_loss: 0.4858 - val_acc: 0.8739\n",
      "Epoch 12/20\n",
      "15000/15000 [==============================] - 4s 260us/step - loss: 0.0130 - acc: 0.9989 - val_loss: 0.5348 - val_acc: 0.8722\n",
      "Epoch 13/20\n",
      "15000/15000 [==============================] - 4s 263us/step - loss: 0.0231 - acc: 0.9935 - val_loss: 0.5511 - val_acc: 0.8736\n",
      "Epoch 14/20\n",
      "15000/15000 [==============================] - 4s 255us/step - loss: 0.0195 - acc: 0.9947 - val_loss: 0.5767 - val_acc: 0.8725\n",
      "Epoch 15/20\n",
      "15000/15000 [==============================] - 4s 253us/step - loss: 0.0050 - acc: 0.9998 - val_loss: 0.6081 - val_acc: 0.8708\n",
      "Epoch 16/20\n",
      "15000/15000 [==============================] - 4s 253us/step - loss: 0.0183 - acc: 0.9943 - val_loss: 0.6398 - val_acc: 0.8700\n",
      "Epoch 17/20\n",
      "15000/15000 [==============================] - 4s 254us/step - loss: 0.0027 - acc: 0.9999 - val_loss: 0.6706 - val_acc: 0.8688\n",
      "Epoch 18/20\n",
      "15000/15000 [==============================] - 4s 260us/step - loss: 0.0183 - acc: 0.9954 - val_loss: 0.7147 - val_acc: 0.8694\n",
      "Epoch 19/20\n",
      "15000/15000 [==============================] - 4s 253us/step - loss: 0.0016 - acc: 0.9999 - val_loss: 0.7284 - val_acc: 0.8680\n",
      "Epoch 20/20\n",
      "15000/15000 [==============================] - 4s 252us/step - loss: 0.0012 - acc: 0.9999 - val_loss: 0.7668 - val_acc: 0.8672\n",
      "##############################\n",
      "Best validation accuracy: 2 epochs, accuracy: 0.8905\n",
      "##############################\n"
     ]
    },
    {
     "data": {
      "image/png": "[encoded data removed]",
      "text/plain": [
       "<Figure size 720x216 with 2 Axes>"
      ]
     },
     "metadata": {},
     "output_type": "display_data"
    }
   ],
   "source": [
    "# hidden layer: 32 units\n",
    "nn = run_model(10000, [32, 32], 1, x_train, y_train, x_val, y_val, n_epochs=20)"
   ]
  },
  {
   "cell_type": "code",
   "execution_count": 117,
   "metadata": {},
   "outputs": [
    {
     "name": "stdout",
     "output_type": "stream",
     "text": [
      "25000/25000 [==============================] - 8s 335us/step\n"
     ]
    },
    {
     "data": {
      "text/plain": [
       "[0.33091116626739503, 0.8642]"
      ]
     },
     "execution_count": 117,
     "metadata": {},
     "output_type": "execute_result"
    }
   ],
   "source": [
    "nn.evaluate(x_test, y_test)"
   ]
  },
  {
   "cell_type": "code",
   "execution_count": 118,
   "metadata": {},
   "outputs": [
    {
     "name": "stdout",
     "output_type": "stream",
     "text": [
      "Train on 15000 samples, validate on 10000 samples\n",
      "Epoch 1/20\n",
      "15000/15000 [==============================] - 5s 341us/step - loss: 0.4954 - acc: 0.7994 - val_loss: 0.3906 - val_acc: 0.8664\n",
      "Epoch 2/20\n",
      "15000/15000 [==============================] - 4s 255us/step - loss: 0.3149 - acc: 0.9028 - val_loss: 0.3165 - val_acc: 0.8878\n",
      "Epoch 3/20\n",
      "15000/15000 [==============================] - 4s 240us/step - loss: 0.2441 - acc: 0.9257 - val_loss: 0.2890 - val_acc: 0.8913\n",
      "Epoch 4/20\n",
      "15000/15000 [==============================] - 4s 265us/step - loss: 0.2010 - acc: 0.9379 - val_loss: 0.2808 - val_acc: 0.8885\n",
      "Epoch 5/20\n",
      "15000/15000 [==============================] - 4s 244us/step - loss: 0.1709 - acc: 0.9490 - val_loss: 0.2847 - val_acc: 0.8862\n",
      "Epoch 6/20\n",
      "15000/15000 [==============================] - 4s 255us/step - loss: 0.1478 - acc: 0.9563 - val_loss: 0.2749 - val_acc: 0.8901\n",
      "Epoch 7/20\n",
      "15000/15000 [==============================] - 4s 252us/step - loss: 0.1290 - acc: 0.9627 - val_loss: 0.2795 - val_acc: 0.8881\n",
      "Epoch 8/20\n",
      "15000/15000 [==============================] - 4s 252us/step - loss: 0.1142 - acc: 0.9687 - val_loss: 0.2866 - val_acc: 0.8859\n",
      "Epoch 9/20\n",
      "15000/15000 [==============================] - 4s 247us/step - loss: 0.0993 - acc: 0.9737 - val_loss: 0.2956 - val_acc: 0.8840\n",
      "Epoch 10/20\n",
      "15000/15000 [==============================] - 4s 240us/step - loss: 0.0883 - acc: 0.9772 - val_loss: 0.3083 - val_acc: 0.8812\n",
      "Epoch 11/20\n",
      "15000/15000 [==============================] - 3s 219us/step - loss: 0.0782 - acc: 0.9807 - val_loss: 0.3194 - val_acc: 0.8798\n",
      "Epoch 12/20\n",
      "15000/15000 [==============================] - 4s 254us/step - loss: 0.0684 - acc: 0.9847 - val_loss: 0.3340 - val_acc: 0.8788\n",
      "Epoch 13/20\n",
      "15000/15000 [==============================] - 4s 257us/step - loss: 0.0611 - acc: 0.9866 - val_loss: 0.3522 - val_acc: 0.8754\n",
      "Epoch 14/20\n",
      "15000/15000 [==============================] - 4s 247us/step - loss: 0.0534 - acc: 0.9893 - val_loss: 0.3675 - val_acc: 0.8733\n",
      "Epoch 15/20\n",
      "15000/15000 [==============================] - 4s 238us/step - loss: 0.0480 - acc: 0.9907 - val_loss: 0.3793 - val_acc: 0.8771\n",
      "Epoch 16/20\n",
      "15000/15000 [==============================] - 4s 255us/step - loss: 0.0414 - acc: 0.9924 - val_loss: 0.3977 - val_acc: 0.8757\n",
      "Epoch 17/20\n",
      "15000/15000 [==============================] - 4s 250us/step - loss: 0.0370 - acc: 0.9945 - val_loss: 0.4163 - val_acc: 0.8741\n",
      "Epoch 18/20\n",
      "15000/15000 [==============================] - 4s 252us/step - loss: 0.0324 - acc: 0.9955 - val_loss: 0.4342 - val_acc: 0.8697\n",
      "Epoch 19/20\n",
      "15000/15000 [==============================] - 3s 222us/step - loss: 0.0288 - acc: 0.9955 - val_loss: 0.4506 - val_acc: 0.8695\n",
      "Epoch 20/20\n",
      "15000/15000 [==============================] - 3s 232us/step - loss: 0.0248 - acc: 0.9969 - val_loss: 0.4687 - val_acc: 0.8685\n",
      "##############################\n",
      "Best validation accuracy: 3 epochs, accuracy: 0.8913\n",
      "##############################\n"
     ]
    },
    {
     "data": {
      "image/png": "[encoded data removed]",
      "text/plain": [
       "<Figure size 720x216 with 2 Axes>"
      ]
     },
     "metadata": {},
     "output_type": "display_data"
    }
   ],
   "source": [
    "# 1 hidden layer model\n",
    "nn = run_model(10000, [16], 1, x_train, y_train, x_val, y_val, n_epochs=20)"
   ]
  },
  {
   "cell_type": "code",
   "execution_count": 119,
   "metadata": {},
   "outputs": [
    {
     "name": "stdout",
     "output_type": "stream",
     "text": [
      "25000/25000 [==============================] - 8s 327us/step\n"
     ]
    },
    {
     "data": {
      "text/plain": [
       "[0.2848165518665314, 0.88684]"
      ]
     },
     "execution_count": 119,
     "metadata": {},
     "output_type": "execute_result"
    }
   ],
   "source": [
    "nn.evaluate(x_test, y_test)"
   ]
  },
  {
   "cell_type": "code",
   "execution_count": 120,
   "metadata": {},
   "outputs": [
    {
     "name": "stdout",
     "output_type": "stream",
     "text": [
      "Train on 15000 samples, validate on 10000 samples\n",
      "Epoch 1/20\n",
      "15000/15000 [==============================] - 5s 361us/step - loss: 0.4770 - acc: 0.7813 - val_loss: 0.3416 - val_acc: 0.8650\n",
      "Epoch 2/20\n",
      "15000/15000 [==============================] - 4s 259us/step - loss: 0.2654 - acc: 0.8982 - val_loss: 0.2782 - val_acc: 0.8912\n",
      "Epoch 3/20\n",
      "15000/15000 [==============================] - 4s 260us/step - loss: 0.1884 - acc: 0.9283 - val_loss: 0.2774 - val_acc: 0.8889\n",
      "Epoch 4/20\n",
      "15000/15000 [==============================] - 4s 256us/step - loss: 0.1476 - acc: 0.9471 - val_loss: 0.3107 - val_acc: 0.8790\n",
      "Epoch 5/20\n",
      "15000/15000 [==============================] - 4s 259us/step - loss: 0.1013 - acc: 0.9649 - val_loss: 0.6700 - val_acc: 0.7992\n",
      "Epoch 6/20\n",
      "15000/15000 [==============================] - 3s 232us/step - loss: 0.0832 - acc: 0.9731 - val_loss: 0.3639 - val_acc: 0.8786\n",
      "Epoch 7/20\n",
      "15000/15000 [==============================] - 4s 261us/step - loss: 0.0598 - acc: 0.9813 - val_loss: 0.3848 - val_acc: 0.8762\n",
      "Epoch 8/20\n",
      "15000/15000 [==============================] - 4s 261us/step - loss: 0.0555 - acc: 0.9823 - val_loss: 0.4157 - val_acc: 0.8780\n",
      "Epoch 9/20\n",
      "15000/15000 [==============================] - 4s 258us/step - loss: 0.0451 - acc: 0.9875 - val_loss: 0.4517 - val_acc: 0.8781\n",
      "Epoch 10/20\n",
      "15000/15000 [==============================] - 4s 252us/step - loss: 0.0125 - acc: 0.9989 - val_loss: 0.5235 - val_acc: 0.8732\n",
      "Epoch 11/20\n",
      "15000/15000 [==============================] - 4s 253us/step - loss: 0.0356 - acc: 0.9901 - val_loss: 0.5289 - val_acc: 0.8759\n",
      "Epoch 12/20\n",
      "15000/15000 [==============================] - 4s 251us/step - loss: 0.0052 - acc: 0.9996 - val_loss: 0.6021 - val_acc: 0.8690\n",
      "Epoch 13/20\n",
      "15000/15000 [==============================] - 4s 257us/step - loss: 0.0312 - acc: 0.9916 - val_loss: 0.6231 - val_acc: 0.8746\n",
      "Epoch 14/20\n",
      "15000/15000 [==============================] - 4s 259us/step - loss: 0.0019 - acc: 0.9999 - val_loss: 0.6631 - val_acc: 0.8731\n",
      "Epoch 15/20\n",
      "15000/15000 [==============================] - 4s 260us/step - loss: 0.0332 - acc: 0.9915 - val_loss: 0.6819 - val_acc: 0.8721\n",
      "Epoch 16/20\n",
      "15000/15000 [==============================] - 4s 261us/step - loss: 9.9891e-04 - acc: 1.0000 - val_loss: 0.7109 - val_acc: 0.8730\n",
      "Epoch 17/20\n",
      "15000/15000 [==============================] - 4s 255us/step - loss: 6.7293e-04 - acc: 1.0000 - val_loss: 0.7543 - val_acc: 0.8717\n",
      "Epoch 18/20\n",
      "15000/15000 [==============================] - 4s 258us/step - loss: 4.1707e-04 - acc: 1.0000 - val_loss: 0.8726 - val_acc: 0.8630\n",
      "Epoch 19/20\n",
      "15000/15000 [==============================] - 4s 252us/step - loss: 0.0295 - acc: 0.9931 - val_loss: 0.8168 - val_acc: 0.8714\n",
      "Epoch 20/20\n",
      "15000/15000 [==============================] - 4s 261us/step - loss: 2.1948e-04 - acc: 1.0000 - val_loss: 0.8413 - val_acc: 0.8710\n",
      "##############################\n",
      "Best validation accuracy: 2 epochs, accuracy: 0.8912\n",
      "##############################\n"
     ]
    },
    {
     "data": {
      "image/png": "[encoded data removed]",
      "text/plain": [
       "<Figure size 720x216 with 2 Axes>"
      ]
     },
     "metadata": {},
     "output_type": "display_data"
    }
   ],
   "source": [
    "# hidden layer: 64 units\n",
    "nn = run_model(10000, [64, 64], 1, x_train, y_train, x_val, y_val, n_epochs=20)"
   ]
  },
  {
   "cell_type": "code",
   "execution_count": 121,
   "metadata": {},
   "outputs": [
    {
     "name": "stdout",
     "output_type": "stream",
     "text": [
      "25000/25000 [==============================] - 8s 339us/step\n"
     ]
    },
    {
     "data": {
      "text/plain": [
       "[0.3576681228351593, 0.8528]"
      ]
     },
     "execution_count": 121,
     "metadata": {},
     "output_type": "execute_result"
    }
   ],
   "source": [
    "nn.evaluate(x_test, y_test)"
   ]
  },
  {
   "cell_type": "code",
   "execution_count": 122,
   "metadata": {},
   "outputs": [
    {
     "name": "stdout",
     "output_type": "stream",
     "text": [
      "Train on 15000 samples, validate on 10000 samples\n",
      "Epoch 1/20\n",
      "15000/15000 [==============================] - 6s 382us/step - loss: 0.4828 - acc: 0.7957 - val_loss: 0.3781 - val_acc: 0.8574\n",
      "Epoch 2/20\n",
      "15000/15000 [==============================] - 3s 223us/step - loss: 0.2826 - acc: 0.9065 - val_loss: 0.3390 - val_acc: 0.8588\n",
      "Epoch 3/20\n",
      "15000/15000 [==============================] - 3s 231us/step - loss: 0.2007 - acc: 0.9353 - val_loss: 0.2873 - val_acc: 0.8814\n",
      "Epoch 4/20\n",
      "15000/15000 [==============================] - 4s 242us/step - loss: 0.1567 - acc: 0.9467 - val_loss: 0.2872 - val_acc: 0.8840\n",
      "Epoch 5/20\n",
      "15000/15000 [==============================] - 4s 235us/step - loss: 0.1186 - acc: 0.9622 - val_loss: 0.2936 - val_acc: 0.8851\n",
      "Epoch 6/20\n",
      "15000/15000 [==============================] - 4s 239us/step - loss: 0.0929 - acc: 0.9704 - val_loss: 0.3228 - val_acc: 0.8801\n",
      "Epoch 7/20\n",
      "15000/15000 [==============================] - 4s 234us/step - loss: 0.0742 - acc: 0.9775 - val_loss: 0.3610 - val_acc: 0.8760\n",
      "Epoch 8/20\n",
      "15000/15000 [==============================] - 4s 238us/step - loss: 0.0539 - acc: 0.9843 - val_loss: 0.4172 - val_acc: 0.8706\n",
      "Epoch 9/20\n",
      "15000/15000 [==============================] - 4s 234us/step - loss: 0.0440 - acc: 0.9888 - val_loss: 0.4507 - val_acc: 0.8718\n",
      "Epoch 10/20\n",
      "15000/15000 [==============================] - 3s 224us/step - loss: 0.0346 - acc: 0.9906 - val_loss: 0.4890 - val_acc: 0.8716\n",
      "Epoch 11/20\n",
      "15000/15000 [==============================] - 4s 245us/step - loss: 0.0287 - acc: 0.9924 - val_loss: 0.5369 - val_acc: 0.8669\n",
      "Epoch 12/20\n",
      "15000/15000 [==============================] - 4s 249us/step - loss: 0.0249 - acc: 0.9939 - val_loss: 0.5677 - val_acc: 0.8668\n",
      "Epoch 13/20\n",
      "15000/15000 [==============================] - 3s 232us/step - loss: 0.0211 - acc: 0.9941 - val_loss: 0.5939 - val_acc: 0.8683\n",
      "Epoch 14/20\n",
      "15000/15000 [==============================] - 3s 226us/step - loss: 0.0074 - acc: 0.9993 - val_loss: 0.6366 - val_acc: 0.8650\n",
      "Epoch 15/20\n",
      "15000/15000 [==============================] - 4s 253us/step - loss: 0.0199 - acc: 0.9951 - val_loss: 0.6629 - val_acc: 0.8680\n",
      "Epoch 16/20\n",
      "15000/15000 [==============================] - 4s 256us/step - loss: 0.0045 - acc: 0.9996 - val_loss: 0.6851 - val_acc: 0.8659\n",
      "Epoch 17/20\n",
      "15000/15000 [==============================] - 4s 252us/step - loss: 0.0036 - acc: 0.9997 - val_loss: 0.8686 - val_acc: 0.8476\n",
      "Epoch 18/20\n",
      "15000/15000 [==============================] - 4s 256us/step - loss: 0.0101 - acc: 0.9971 - val_loss: 0.7448 - val_acc: 0.8651\n",
      "Epoch 19/20\n",
      "15000/15000 [==============================] - 4s 255us/step - loss: 0.0027 - acc: 0.9997 - val_loss: 0.7837 - val_acc: 0.8629\n",
      "Epoch 20/20\n",
      "15000/15000 [==============================] - 4s 260us/step - loss: 0.0164 - acc: 0.9961 - val_loss: 0.7930 - val_acc: 0.8630\n",
      "##############################\n",
      "Best validation accuracy: 5 epochs, accuracy: 0.8851\n",
      "##############################\n"
     ]
    },
    {
     "data": {
      "image/png": "[encoded data removed]",
      "text/plain": [
       "<Figure size 720x216 with 2 Axes>"
      ]
     },
     "metadata": {},
     "output_type": "display_data"
    }
   ],
   "source": [
    "# tanh activation\n",
    "nn = run_model(10000, [16, 16], 1, x_train, y_train, x_val, y_val, n_epochs=20, activation='tanh')"
   ]
  },
  {
   "cell_type": "code",
   "execution_count": 123,
   "metadata": {},
   "outputs": [
    {
     "name": "stdout",
     "output_type": "stream",
     "text": [
      "25000/25000 [==============================] - 8s 318us/step\n"
     ]
    },
    {
     "data": {
      "text/plain": [
       "[0.3468791173505783, 0.87308]"
      ]
     },
     "execution_count": 123,
     "metadata": {},
     "output_type": "execute_result"
    }
   ],
   "source": [
    "nn.evaluate(x_test, y_test)"
   ]
  },
  {
   "cell_type": "markdown",
   "metadata": {},
   "source": [
    "#### Classifying newswires"
   ]
  },
  {
   "cell_type": "code",
   "execution_count": 2,
   "metadata": {},
   "outputs": [],
   "source": [
    "from keras.datasets import reuters"
   ]
  },
  {
   "cell_type": "code",
   "execution_count": 4,
   "metadata": {},
   "outputs": [],
   "source": [
    "from keras import layers, models, optimizers, losses"
   ]
  },
  {
   "cell_type": "code",
   "execution_count": 3,
   "metadata": {},
   "outputs": [
    {
     "name": "stdout",
     "output_type": "stream",
     "text": [
      "Downloading data from https://s3.amazonaws.com/text-datasets/reuters.npz\n",
      "2113536/2110848 [==============================] - 9s 4us/step\n"
     ]
    }
   ],
   "source": [
    "(train_data, train_labels), (test_data, test_labels) = reuters.load_data(num_words=10000)"
   ]
  },
  {
   "cell_type": "code",
   "execution_count": 7,
   "metadata": {},
   "outputs": [
    {
     "name": "stdout",
     "output_type": "stream",
     "text": [
      "Downloading data from https://s3.amazonaws.com/text-datasets/reuters_word_index.json\n",
      "557056/550378 [==============================] - 5s 10us/step\n"
     ]
    }
   ],
   "source": [
    "word2idx = reuters.get_word_index()"
   ]
  },
  {
   "cell_type": "code",
   "execution_count": 8,
   "metadata": {},
   "outputs": [],
   "source": [
    "idx2word = {i:w for w,i in word2idx.items()}"
   ]
  },
  {
   "cell_type": "code",
   "execution_count": 12,
   "metadata": {},
   "outputs": [
    {
     "data": {
      "text/plain": [
       "'? ? ? said as a result of its december acquisition of space co it expects earnings per share in 1987 of 1 15 to 1 30 dlrs per share up from 70 cts in 1986 the company said pretax net should rise to nine to 10 mln dlrs from six mln dlrs in 1986 and rental operation revenues to 19 to 22 mln dlrs from 12 5 mln dlrs it said cash flow per share this year should be 2 50 to three dlrs reuter 3'"
      ]
     },
     "execution_count": 12,
     "metadata": {},
     "output_type": "execute_result"
    }
   ],
   "source": [
    "\" \".join(idx2word.get(i-3, '?') for i in train_data[0])"
   ]
  },
  {
   "cell_type": "code",
   "execution_count": 15,
   "metadata": {},
   "outputs": [
    {
     "data": {
      "text/plain": [
       "(9999, 45)"
      ]
     },
     "execution_count": 15,
     "metadata": {},
     "output_type": "execute_result"
    }
   ],
   "source": [
    "max(max(seq) for seq in train_data), max(train_labels)"
   ]
  },
  {
   "cell_type": "code",
   "execution_count": 16,
   "metadata": {},
   "outputs": [],
   "source": [
    "# Helper functions: preparing the data\n",
    "\n",
    "def vectorize_sequence(sequences, dimension):\n",
    "    '''convert each list of integers in the sequences into\n",
    "    a vector with corresponding dimension'''\n",
    "    results = np.zeros((len(sequences), dimension))\n",
    "    for i, seq in enumerate(sequences):\n",
    "        results[i, seq] = 1.\n",
    "    return results\n",
    "\n",
    "def to_one_hot(labels, dimension):\n",
    "    '''convert integer labels in to array of one-hot vectors'''\n",
    "    results = np.zeros((len(labels), dimension))\n",
    "    for i, label in enumerate(labels):\n",
    "        results[i, label] = 1.\n",
    "    return results"
   ]
  },
  {
   "cell_type": "code",
   "execution_count": 17,
   "metadata": {},
   "outputs": [
    {
     "data": {
      "text/plain": [
       "((8982, 10000), (8982, 46), (2246, 10000), (2246, 46))"
      ]
     },
     "execution_count": 17,
     "metadata": {},
     "output_type": "execute_result"
    }
   ],
   "source": [
    "x_train = vectorize_sequence(train_data, dimension=10000)\n",
    "x_test = vectorize_sequence(test_data, dimension=10000)\n",
    "\n",
    "y_train_onehot = to_one_hot(train_labels, dimension=46)\n",
    "y_test_onehot = to_one_hot(test_labels, dimension=46)\n",
    "\n",
    "x_train.shape, y_train_onehot.shape, x_test.shape, y_test_onehot.shape"
   ]
  },
  {
   "cell_type": "code",
   "execution_count": 18,
   "metadata": {},
   "outputs": [
    {
     "data": {
      "text/plain": [
       "((7982, 10000), (7982, 46), (1000, 10000), (1000, 46))"
      ]
     },
     "execution_count": 18,
     "metadata": {},
     "output_type": "execute_result"
    }
   ],
   "source": [
    "x_val = x_train[:1000]\n",
    "y_val_onehot = y_train_onehot[:1000]\n",
    "\n",
    "x_train = x_train[1000:]\n",
    "y_train_onehot = y_train_onehot[1000:]\n",
    "\n",
    "x_train.shape, y_train_onehot.shape, x_val.shape, y_val_onehot.shape"
   ]
  },
  {
   "cell_type": "code",
   "execution_count": 41,
   "metadata": {},
   "outputs": [],
   "source": [
    "# building network\n",
    "\n",
    "inputs = 10000\n",
    "hiddens = [64, 64]\n",
    "outputs = 46\n",
    "\n",
    "hidden_activation = 'relu'\n",
    "output_activation = 'softmax'\n",
    "\n",
    "loss_func = 'categorical_crossentropy'\n",
    "optimizer = 'rmsprop'\n",
    "\n",
    "batch_size = 512\n",
    "epochs = 20\n",
    "\n",
    "def train_model(inputs, hiddens, outputs, hidden_activation='relu', \n",
    "                output_activation='softmax', loss_func='categorical_crossentropy', \n",
    "                optimizer='rmsprop', batch_size=512, epochs=20):\n",
    "    '''\n",
    "    - create and train model with train/val data\n",
    "    - display training result and get the best epoch\n",
    "    - retrain model with the best result using train + val data\n",
    "    '''\n",
    "    # create model\n",
    "    model = models.Sequential()\n",
    "    model.add(layers.Dense(hiddens[0], input_shape=(inputs,), \n",
    "                           activation=hidden_activation))\n",
    "    for n in hiddens[1:]:\n",
    "        model.add(layers.Dense(n, activation=hidden_activation))\n",
    "\n",
    "    model.add(layers.Dense(outputs, activation=output_activation))\n",
    "\n",
    "    model.compile(loss=loss_func, optimizer=optimizer, metrics=['accuracy'])\n",
    "\n",
    "    history = model.fit(x_train, y_train_onehot, batch_size=batch_size, epochs=epochs, \n",
    "                        verbose=1, validation_data=(x_val, y_val_onehot))\n",
    "\n",
    "    # display training result\n",
    "\n",
    "    hx = history.history\n",
    "    tr_acc, tr_loss = hx['acc'], hx['loss']\n",
    "    val_acc, val_loss = hx['val_acc'], hx['val_loss']\n",
    "\n",
    "    fig, ax = plt.subplots(ncols=2, figsize=(10, 3))\n",
    "\n",
    "    xs = range(1, len(tr_acc)+1)\n",
    "\n",
    "    ax[0].plot(xs, tr_loss, label='train')\n",
    "    ax[0].plot(xs, val_loss, '--', label='val')\n",
    "    ax[0].set_xlabel('epochs')\n",
    "    ax[0].set_ylabel('loss')\n",
    "    ax[0].legend(loc='best')\n",
    "\n",
    "    ax[1].plot(xs, tr_acc, label='train')\n",
    "    ax[1].plot(xs, val_acc, '--', label='val')\n",
    "    ax[1].set_xlabel('epochs')\n",
    "    ax[1].set_ylabel('accuracy')\n",
    "    ax[1].legend(loc='best')\n",
    "\n",
    "    fig.tight_layout()\n",
    "\n",
    "    # re-train final model with the best epoch\n",
    "\n",
    "    best_epoch = np.argmax(val_acc)\n",
    "    print(\"#\"*30)\n",
    "    print(\"Best epoch: {}, validation accuracy: {:.4f}\".format(best_epoch+1, val_acc[best_epoch]))\n",
    "    print(\"#\"*30)\n",
    "\n",
    "\n",
    "    final_model = models.clone_model(model)\n",
    "    final_model.compile(loss=loss_func, optimizer=optimizer, metrics=['accuracy'])\n",
    "    final_model.fit(np.concatenate((x_train, x_val)), np.concatenate((y_train_onehot, y_val_onehot)), \n",
    "                    epochs=best_epoch+1, batch_size=batch_size, verbose=0)\n",
    "    \n",
    "    return final_model"
   ]
  },
  {
   "cell_type": "code",
   "execution_count": 42,
   "metadata": {},
   "outputs": [
    {
     "name": "stdout",
     "output_type": "stream",
     "text": [
      "Train on 7982 samples, validate on 1000 samples\n",
      "Epoch 1/20\n",
      "7982/7982 [==============================] - 2s 298us/step - loss: 2.7110 - acc: 0.5071 - val_loss: 1.7344 - val_acc: 0.6390\n",
      "Epoch 2/20\n",
      "7982/7982 [==============================] - 1s 177us/step - loss: 1.4293 - acc: 0.7072 - val_loss: 1.3076 - val_acc: 0.7040\n",
      "Epoch 3/20\n",
      "7982/7982 [==============================] - 2s 204us/step - loss: 1.0598 - acc: 0.7764 - val_loss: 1.1442 - val_acc: 0.7500\n",
      "Epoch 4/20\n",
      "7982/7982 [==============================] - 2s 190us/step - loss: 0.8370 - acc: 0.8260 - val_loss: 1.0169 - val_acc: 0.7900\n",
      "Epoch 5/20\n",
      "7982/7982 [==============================] - 2s 197us/step - loss: 0.6714 - acc: 0.8608 - val_loss: 0.9602 - val_acc: 0.8040\n",
      "Epoch 6/20\n",
      "7982/7982 [==============================] - ETA: 0s - loss: 0.5323 - acc: 0.889 - 2s 192us/step - loss: 0.5322 - acc: 0.8890 - val_loss: 0.9567 - val_acc: 0.7930\n",
      "Epoch 7/20\n",
      "7982/7982 [==============================] - 2s 197us/step - loss: 0.4294 - acc: 0.9107 - val_loss: 0.9161 - val_acc: 0.8000\n",
      "Epoch 8/20\n",
      "7982/7982 [==============================] - 2s 203us/step - loss: 0.3516 - acc: 0.9265 - val_loss: 0.8916 - val_acc: 0.8200\n",
      "Epoch 9/20\n",
      "7982/7982 [==============================] - 2s 189us/step - loss: 0.2918 - acc: 0.9380 - val_loss: 0.9382 - val_acc: 0.8040\n",
      "Epoch 10/20\n",
      "7982/7982 [==============================] - 2s 193us/step - loss: 0.2431 - acc: 0.9451 - val_loss: 0.9082 - val_acc: 0.8200\n",
      "Epoch 11/20\n",
      "7982/7982 [==============================] - 2s 198us/step - loss: 0.2093 - acc: 0.9490 - val_loss: 0.9285 - val_acc: 0.8170\n",
      "Epoch 12/20\n",
      "7982/7982 [==============================] - 2s 201us/step - loss: 0.1897 - acc: 0.9511 - val_loss: 0.9491 - val_acc: 0.8130\n",
      "Epoch 13/20\n",
      "7982/7982 [==============================] - 2s 193us/step - loss: 0.1658 - acc: 0.9526 - val_loss: 0.9488 - val_acc: 0.8150\n",
      "Epoch 14/20\n",
      "7982/7982 [==============================] - 1s 178us/step - loss: 0.1533 - acc: 0.9531 - val_loss: 1.0333 - val_acc: 0.7960\n",
      "Epoch 15/20\n",
      "7982/7982 [==============================] - 1s 185us/step - loss: 0.1391 - acc: 0.9548 - val_loss: 0.9897 - val_acc: 0.8080\n",
      "Epoch 16/20\n",
      "7982/7982 [==============================] - 1s 175us/step - loss: 0.1319 - acc: 0.9573 - val_loss: 1.0102 - val_acc: 0.8040\n",
      "Epoch 17/20\n",
      "7982/7982 [==============================] - 2s 193us/step - loss: 0.1266 - acc: 0.9579 - val_loss: 1.0325 - val_acc: 0.8170\n",
      "Epoch 18/20\n",
      "7982/7982 [==============================] - 2s 192us/step - loss: 0.1194 - acc: 0.9578 - val_loss: 1.0346 - val_acc: 0.8090\n",
      "Epoch 19/20\n",
      "7982/7982 [==============================] - 2s 198us/step - loss: 0.1159 - acc: 0.9572 - val_loss: 1.0394 - val_acc: 0.8070\n",
      "Epoch 20/20\n",
      "7982/7982 [==============================] - 2s 190us/step - loss: 0.1122 - acc: 0.9593 - val_loss: 1.0766 - val_acc: 0.8040\n",
      "##############################\n",
      "Best epoch: 10, validation accuracy: 0.8200\n",
      "##############################\n"
     ]
    },
    {
     "data": {
      "image/png": "[encoded data removed]",
      "text/plain": [
       "<Figure size 720x216 with 2 Axes>"
      ]
     },
     "metadata": {},
     "output_type": "display_data"
    }
   ],
   "source": [
    "nn = train_model(10000, [64, 64], 46)"
   ]
  },
  {
   "cell_type": "code",
   "execution_count": 43,
   "metadata": {},
   "outputs": [
    {
     "name": "stdout",
     "output_type": "stream",
     "text": [
      "2246/2246 [==============================] - 1s 345us/step\n"
     ]
    },
    {
     "data": {
      "text/plain": [
       "[1.0480074999275106, 0.7800534283700843]"
      ]
     },
     "execution_count": 43,
     "metadata": {},
     "output_type": "execute_result"
    }
   ],
   "source": [
    "nn.evaluate(x_test, y_test_onehot)"
   ]
  },
  {
   "cell_type": "code",
   "execution_count": 44,
   "metadata": {},
   "outputs": [
    {
     "name": "stdout",
     "output_type": "stream",
     "text": [
      "Train on 7982 samples, validate on 1000 samples\n",
      "Epoch 1/20\n",
      "7982/7982 [==============================] - 3s 355us/step - loss: 3.5504 - acc: 0.0130 - val_loss: 3.2103 - val_acc: 0.0140\n",
      "Epoch 2/20\n",
      "7982/7982 [==============================] - 2s 200us/step - loss: 2.9663 - acc: 0.0386 - val_loss: 2.7313 - val_acc: 0.0750\n",
      "Epoch 3/20\n",
      "7982/7982 [==============================] - 2s 198us/step - loss: 2.4694 - acc: 0.3503 - val_loss: 2.3038 - val_acc: 0.5020\n",
      "Epoch 4/20\n",
      "7982/7982 [==============================] - 2s 192us/step - loss: 2.0390 - acc: 0.5892 - val_loss: 1.9616 - val_acc: 0.6050\n",
      "Epoch 5/20\n",
      "7982/7982 [==============================] - 2s 194us/step - loss: 1.7125 - acc: 0.6538 - val_loss: 1.7309 - val_acc: 0.6240\n",
      "Epoch 6/20\n",
      "7982/7982 [==============================] - 2s 196us/step - loss: 1.4998 - acc: 0.6733 - val_loss: 1.6171 - val_acc: 0.6340\n",
      "Epoch 7/20\n",
      "7982/7982 [==============================] - 2s 195us/step - loss: 1.3654 - acc: 0.6853 - val_loss: 1.5354 - val_acc: 0.6430\n",
      "Epoch 8/20\n",
      "7982/7982 [==============================] - 1s 183us/step - loss: 1.2717 - acc: 0.6986 - val_loss: 1.5046 - val_acc: 0.6440\n",
      "Epoch 9/20\n",
      "7982/7982 [==============================] - 2s 199us/step - loss: 1.1987 - acc: 0.7129 - val_loss: 1.4516 - val_acc: 0.6600\n",
      "Epoch 10/20\n",
      "7982/7982 [==============================] - 2s 199us/step - loss: 1.1360 - acc: 0.7212 - val_loss: 1.4397 - val_acc: 0.6630\n",
      "Epoch 11/20\n",
      "7982/7982 [==============================] - 1s 181us/step - loss: 1.0830 - acc: 0.7323 - val_loss: 1.4162 - val_acc: 0.6610\n",
      "Epoch 12/20\n",
      "7982/7982 [==============================] - 2s 201us/step - loss: 1.0334 - acc: 0.7378 - val_loss: 1.4114 - val_acc: 0.6620\n",
      "Epoch 13/20\n",
      "7982/7982 [==============================] - 1s 185us/step - loss: 0.9903 - acc: 0.7452 - val_loss: 1.3833 - val_acc: 0.6640\n",
      "Epoch 14/20\n",
      "7982/7982 [==============================] - 2s 200us/step - loss: 0.9500 - acc: 0.7498 - val_loss: 1.3884 - val_acc: 0.6660\n",
      "Epoch 15/20\n",
      "7982/7982 [==============================] - 1s 185us/step - loss: 0.9128 - acc: 0.7516 - val_loss: 1.3904 - val_acc: 0.6650\n",
      "Epoch 16/20\n",
      "7982/7982 [==============================] - 2s 191us/step - loss: 0.8778 - acc: 0.7552 - val_loss: 1.3985 - val_acc: 0.6680\n",
      "Epoch 17/20\n",
      "7982/7982 [==============================] - 2s 195us/step - loss: 0.8452 - acc: 0.7641 - val_loss: 1.3659 - val_acc: 0.6760\n",
      "Epoch 18/20\n",
      "7982/7982 [==============================] - 2s 190us/step - loss: 0.8155 - acc: 0.7682 - val_loss: 1.3698 - val_acc: 0.6760\n",
      "Epoch 19/20\n",
      "7982/7982 [==============================] - 1s 150us/step - loss: 0.7875 - acc: 0.7729 - val_loss: 1.3739 - val_acc: 0.6740\n",
      "Epoch 20/20\n",
      "7982/7982 [==============================] - 1s 172us/step - loss: 0.7572 - acc: 0.7830 - val_loss: 1.3919 - val_acc: 0.6810\n",
      "##############################\n",
      "Best epoch: 20, validation accuracy: 0.6810\n",
      "##############################\n"
     ]
    },
    {
     "data": {
      "image/png": "[encoded data removed]",
      "text/plain": [
       "<Figure size 720x216 with 2 Axes>"
      ]
     },
     "metadata": {},
     "output_type": "display_data"
    }
   ],
   "source": [
    "nn = train_model(inputs=10000, hiddens=[64, 4], outputs=46)"
   ]
  },
  {
   "cell_type": "code",
   "execution_count": 45,
   "metadata": {},
   "outputs": [
    {
     "name": "stdout",
     "output_type": "stream",
     "text": [
      "2246/2246 [==============================] - 1s 478us/step\n"
     ]
    },
    {
     "data": {
      "text/plain": [
       "[1.4431344112538909, 0.6941228851291185]"
      ]
     },
     "execution_count": 45,
     "metadata": {},
     "output_type": "execute_result"
    }
   ],
   "source": [
    "nn.evaluate(x_test, y_test_onehot)"
   ]
  },
  {
   "cell_type": "code",
   "execution_count": 46,
   "metadata": {},
   "outputs": [
    {
     "name": "stdout",
     "output_type": "stream",
     "text": [
      "Train on 7982 samples, validate on 1000 samples\n",
      "Epoch 1/20\n",
      "7982/7982 [==============================] - 3s 357us/step - loss: 2.2040 - acc: 0.5460 - val_loss: 1.3975 - val_acc: 0.6830\n",
      "Epoch 2/20\n",
      "7982/7982 [==============================] - 2s 192us/step - loss: 1.1204 - acc: 0.7578 - val_loss: 1.1176 - val_acc: 0.7530\n",
      "Epoch 3/20\n",
      "7982/7982 [==============================] - 1s 182us/step - loss: 0.7838 - acc: 0.8297 - val_loss: 0.9820 - val_acc: 0.7880\n",
      "Epoch 4/20\n",
      "7982/7982 [==============================] - 2s 194us/step - loss: 0.5716 - acc: 0.8753 - val_loss: 0.9054 - val_acc: 0.8060\n",
      "Epoch 5/20\n",
      "7982/7982 [==============================] - 2s 213us/step - loss: 0.4165 - acc: 0.9146 - val_loss: 0.8709 - val_acc: 0.8180\n",
      "Epoch 6/20\n",
      "7982/7982 [==============================] - 2s 194us/step - loss: 0.3110 - acc: 0.9317 - val_loss: 0.8617 - val_acc: 0.8160\n",
      "Epoch 7/20\n",
      "7982/7982 [==============================] - 2s 190us/step - loss: 0.2485 - acc: 0.9427 - val_loss: 0.8949 - val_acc: 0.8060\n",
      "Epoch 8/20\n",
      "7982/7982 [==============================] - 2s 199us/step - loss: 0.2017 - acc: 0.9499 - val_loss: 0.9355 - val_acc: 0.8050\n",
      "Epoch 9/20\n",
      "7982/7982 [==============================] - 2s 192us/step - loss: 0.1742 - acc: 0.9521 - val_loss: 0.9376 - val_acc: 0.8080\n",
      "Epoch 10/20\n",
      "7982/7982 [==============================] - 2s 200us/step - loss: 0.1654 - acc: 0.9534 - val_loss: 0.9514 - val_acc: 0.8100\n",
      "Epoch 11/20\n",
      "7982/7982 [==============================] - 2s 197us/step - loss: 0.1418 - acc: 0.9557 - val_loss: 0.9354 - val_acc: 0.8050\n",
      "Epoch 12/20\n",
      "7982/7982 [==============================] - 1s 188us/step - loss: 0.1386 - acc: 0.9550 - val_loss: 0.9991 - val_acc: 0.7990\n",
      "Epoch 13/20\n",
      "7982/7982 [==============================] - 2s 191us/step - loss: 0.1350 - acc: 0.9564 - val_loss: 1.0611 - val_acc: 0.7980\n",
      "Epoch 14/20\n",
      "7982/7982 [==============================] - 2s 203us/step - loss: 0.1280 - acc: 0.9550 - val_loss: 1.0287 - val_acc: 0.8030\n",
      "Epoch 15/20\n",
      "7982/7982 [==============================] - 1s 162us/step - loss: 0.1240 - acc: 0.9584 - val_loss: 1.0516 - val_acc: 0.8030\n",
      "Epoch 16/20\n",
      "7982/7982 [==============================] - 1s 179us/step - loss: 0.1150 - acc: 0.9589 - val_loss: 1.0822 - val_acc: 0.7970\n",
      "Epoch 17/20\n",
      "7982/7982 [==============================] - 2s 196us/step - loss: 0.1124 - acc: 0.9560 - val_loss: 1.0366 - val_acc: 0.8070\n",
      "Epoch 18/20\n",
      "7982/7982 [==============================] - 2s 194us/step - loss: 0.1124 - acc: 0.9580 - val_loss: 1.0326 - val_acc: 0.8040\n",
      "Epoch 19/20\n",
      "7982/7982 [==============================] - 2s 196us/step - loss: 0.1104 - acc: 0.9554 - val_loss: 1.0576 - val_acc: 0.8090\n",
      "Epoch 20/20\n",
      "7982/7982 [==============================] - 2s 191us/step - loss: 0.1065 - acc: 0.9580 - val_loss: 1.1242 - val_acc: 0.8050\n",
      "##############################\n",
      "Best epoch: 5, validation accuracy: 0.8180\n",
      "##############################\n"
     ]
    },
    {
     "data": {
      "image/png": "[encoded data removed]",
      "text/plain": [
       "<Figure size 720x216 with 2 Axes>"
      ]
     },
     "metadata": {},
     "output_type": "display_data"
    }
   ],
   "source": [
    "nn = train_model(inputs=10000, hiddens=[128, 128], outputs=46)"
   ]
  },
  {
   "cell_type": "code",
   "execution_count": 47,
   "metadata": {},
   "outputs": [
    {
     "name": "stdout",
     "output_type": "stream",
     "text": [
      "2246/2246 [==============================] - 1s 521us/step\n"
     ]
    },
    {
     "data": {
      "text/plain": [
       "[0.946386175716125, 0.7902938557700823]"
      ]
     },
     "execution_count": 47,
     "metadata": {},
     "output_type": "execute_result"
    }
   ],
   "source": [
    "nn.evaluate(x_test, y_test_onehot)"
   ]
  },
  {
   "cell_type": "code",
   "execution_count": 48,
   "metadata": {},
   "outputs": [
    {
     "name": "stdout",
     "output_type": "stream",
     "text": [
      "Train on 7982 samples, validate on 1000 samples\n",
      "Epoch 1/20\n",
      "7982/7982 [==============================] - 3s 375us/step - loss: 2.7023 - acc: 0.4891 - val_loss: 1.7780 - val_acc: 0.5750\n",
      "Epoch 2/20\n",
      "7982/7982 [==============================] - ETA: 0s - loss: 1.4927 - acc: 0.661 - 2s 189us/step - loss: 1.4858 - acc: 0.6629 - val_loss: 1.3750 - val_acc: 0.6920\n",
      "Epoch 3/20\n",
      "7982/7982 [==============================] - 2s 190us/step - loss: 1.1422 - acc: 0.7294 - val_loss: 1.2057 - val_acc: 0.7310\n",
      "Epoch 4/20\n",
      "7982/7982 [==============================] - 2s 192us/step - loss: 0.9149 - acc: 0.7894 - val_loss: 1.1053 - val_acc: 0.7480\n",
      "Epoch 5/20\n",
      "7982/7982 [==============================] - 1s 186us/step - loss: 0.7415 - acc: 0.8274 - val_loss: 1.0369 - val_acc: 0.7800\n",
      "Epoch 6/20\n",
      "7982/7982 [==============================] - 2s 200us/step - loss: 0.5996 - acc: 0.8582 - val_loss: 1.0263 - val_acc: 0.7700\n",
      "Epoch 7/20\n",
      "7982/7982 [==============================] - 1s 186us/step - loss: 0.4801 - acc: 0.8924 - val_loss: 1.0050 - val_acc: 0.7890\n",
      "Epoch 8/20\n",
      "7982/7982 [==============================] - 2s 197us/step - loss: 0.3968 - acc: 0.9146 - val_loss: 0.9974 - val_acc: 0.8000\n",
      "Epoch 9/20\n",
      "7982/7982 [==============================] - 1s 182us/step - loss: 0.3267 - acc: 0.9302 - val_loss: 0.9361 - val_acc: 0.8070\n",
      "Epoch 10/20\n",
      "7982/7982 [==============================] - 1s 184us/step - loss: 0.2742 - acc: 0.9396 - val_loss: 0.9913 - val_acc: 0.8050\n",
      "Epoch 11/20\n",
      "7982/7982 [==============================] - 2s 191us/step - loss: 0.2273 - acc: 0.9479 - val_loss: 1.0164 - val_acc: 0.7990\n",
      "Epoch 12/20\n",
      "7982/7982 [==============================] - 2s 200us/step - loss: 0.2072 - acc: 0.9500 - val_loss: 1.0156 - val_acc: 0.8020\n",
      "Epoch 13/20\n",
      "7982/7982 [==============================] - 2s 203us/step - loss: 0.1769 - acc: 0.9523 - val_loss: 0.9876 - val_acc: 0.8090\n",
      "Epoch 14/20\n",
      "7982/7982 [==============================] - 2s 196us/step - loss: 0.1640 - acc: 0.9558 - val_loss: 1.0794 - val_acc: 0.7950\n",
      "Epoch 15/20\n",
      "7982/7982 [==============================] - 1s 180us/step - loss: 0.1535 - acc: 0.9538 - val_loss: 1.0773 - val_acc: 0.8150\n",
      "Epoch 16/20\n",
      "7982/7982 [==============================] - 1s 163us/step - loss: 0.1428 - acc: 0.9578 - val_loss: 1.0395 - val_acc: 0.8060\n",
      "Epoch 17/20\n",
      "7982/7982 [==============================] - 1s 172us/step - loss: 0.1384 - acc: 0.9575 - val_loss: 1.0801 - val_acc: 0.8040\n",
      "Epoch 18/20\n",
      "7982/7982 [==============================] - 1s 156us/step - loss: 0.1333 - acc: 0.9554 - val_loss: 1.1104 - val_acc: 0.8080\n",
      "Epoch 19/20\n",
      "7982/7982 [==============================] - 2s 200us/step - loss: 0.1239 - acc: 0.9570 - val_loss: 1.2549 - val_acc: 0.7830\n",
      "Epoch 20/20\n",
      "7982/7982 [==============================] - 2s 201us/step - loss: 0.1293 - acc: 0.9573 - val_loss: 1.1040 - val_acc: 0.8070\n",
      "##############################\n",
      "Best epoch: 15, validation accuracy: 0.8150\n",
      "##############################\n"
     ]
    },
    {
     "data": {
      "image/png": "[encoded data removed]",
      "text/plain": [
       "<Figure size 720x216 with 2 Axes>"
      ]
     },
     "metadata": {},
     "output_type": "display_data"
    }
   ],
   "source": [
    "nn = train_model(inputs=10000, hiddens=[64, 64, 64], outputs=46)"
   ]
  },
  {
   "cell_type": "code",
   "execution_count": 49,
   "metadata": {},
   "outputs": [
    {
     "name": "stdout",
     "output_type": "stream",
     "text": [
      "Train on 7982 samples, validate on 1000 samples\n",
      "Epoch 1/20\n",
      "7982/7982 [==============================] - 3s 351us/step - loss: 2.6491 - acc: 0.5975 - val_loss: 1.8539 - val_acc: 0.6750\n",
      "Epoch 2/20\n",
      "7982/7982 [==============================] - 1s 181us/step - loss: 1.4852 - acc: 0.7286 - val_loss: 1.3507 - val_acc: 0.7290\n",
      "Epoch 3/20\n",
      "7982/7982 [==============================] - 1s 173us/step - loss: 1.0684 - acc: 0.7948 - val_loss: 1.1344 - val_acc: 0.7720\n",
      "Epoch 4/20\n",
      "7982/7982 [==============================] - 2s 190us/step - loss: 0.8319 - acc: 0.8394 - val_loss: 1.0173 - val_acc: 0.7960\n",
      "Epoch 5/20\n",
      "7982/7982 [==============================] - 1s 186us/step - loss: 0.6676 - acc: 0.8693 - val_loss: 0.9327 - val_acc: 0.8100\n",
      "Epoch 6/20\n",
      "7982/7982 [==============================] - 1s 188us/step - loss: 0.5442 - acc: 0.8940 - val_loss: 0.8904 - val_acc: 0.8120\n",
      "Epoch 7/20\n",
      "7982/7982 [==============================] - 2s 192us/step - loss: 0.4483 - acc: 0.9104 - val_loss: 0.8614 - val_acc: 0.8160\n",
      "Epoch 8/20\n",
      "7982/7982 [==============================] - 1s 186us/step - loss: 0.3740 - acc: 0.9266 - val_loss: 0.8298 - val_acc: 0.8270\n",
      "Epoch 9/20\n",
      "7982/7982 [==============================] - 2s 196us/step - loss: 0.3147 - acc: 0.9357 - val_loss: 0.8195 - val_acc: 0.8270\n",
      "Epoch 10/20\n",
      "7982/7982 [==============================] - 2s 193us/step - loss: 0.2700 - acc: 0.9435 - val_loss: 0.8224 - val_acc: 0.8220\n",
      "Epoch 11/20\n",
      "7982/7982 [==============================] - 2s 192us/step - loss: 0.2331 - acc: 0.9463 - val_loss: 0.8240 - val_acc: 0.8240\n",
      "Epoch 12/20\n",
      "7982/7982 [==============================] - 2s 194us/step - loss: 0.2034 - acc: 0.9498 - val_loss: 0.8184 - val_acc: 0.8290\n",
      "Epoch 13/20\n",
      "7982/7982 [==============================] - 2s 188us/step - loss: 0.1822 - acc: 0.9514 - val_loss: 0.8432 - val_acc: 0.8250\n",
      "Epoch 14/20\n",
      "7982/7982 [==============================] - 1s 178us/step - loss: 0.1655 - acc: 0.9541 - val_loss: 0.8326 - val_acc: 0.8290\n",
      "Epoch 15/20\n",
      "7982/7982 [==============================] - 1s 185us/step - loss: 0.1495 - acc: 0.9549 - val_loss: 0.8554 - val_acc: 0.8250\n",
      "Epoch 16/20\n",
      "7982/7982 [==============================] - 1s 188us/step - loss: 0.1391 - acc: 0.9563 - val_loss: 0.8555 - val_acc: 0.8220\n",
      "Epoch 17/20\n",
      "7982/7982 [==============================] - 2s 189us/step - loss: 0.1299 - acc: 0.9574 - val_loss: 0.8728 - val_acc: 0.8220\n",
      "Epoch 18/20\n",
      "7982/7982 [==============================] - 1s 166us/step - loss: 0.1212 - acc: 0.9563 - val_loss: 0.8749 - val_acc: 0.8150\n",
      "Epoch 19/20\n",
      "7982/7982 [==============================] - 1s 180us/step - loss: 0.1164 - acc: 0.9568 - val_loss: 0.8910 - val_acc: 0.8110\n",
      "Epoch 20/20\n",
      "7982/7982 [==============================] - 2s 190us/step - loss: 0.1103 - acc: 0.9572 - val_loss: 0.9145 - val_acc: 0.8140\n",
      "##############################\n",
      "Best epoch: 14, validation accuracy: 0.8290\n",
      "##############################\n"
     ]
    },
    {
     "data": {
      "image/png": "[encoded data removed]",
      "text/plain": [
       "<Figure size 720x216 with 2 Axes>"
      ]
     },
     "metadata": {},
     "output_type": "display_data"
    }
   ],
   "source": [
    "nn = train_model(inputs=10000, hiddens=[64,], outputs=46)"
   ]
  },
  {
   "cell_type": "code",
   "execution_count": 50,
   "metadata": {},
   "outputs": [
    {
     "name": "stdout",
     "output_type": "stream",
     "text": [
      "2246/2246 [==============================] - 1s 470us/step\n"
     ]
    },
    {
     "data": {
      "text/plain": [
       "[0.9166313621048829, 0.8054318788958148]"
      ]
     },
     "execution_count": 50,
     "metadata": {},
     "output_type": "execute_result"
    }
   ],
   "source": [
    "nn.evaluate(x_test, y_test_onehot)"
   ]
  },
  {
   "cell_type": "code",
   "execution_count": 51,
   "metadata": {},
   "outputs": [],
   "source": [
    "y_pred = nn.predict(x_test)"
   ]
  },
  {
   "cell_type": "code",
   "execution_count": 53,
   "metadata": {},
   "outputs": [
    {
     "data": {
      "text/plain": [
       "0.9999999"
      ]
     },
     "execution_count": 53,
     "metadata": {},
     "output_type": "execute_result"
    }
   ],
   "source": [
    "y_pred[0].sum()"
   ]
  },
  {
   "cell_type": "code",
   "execution_count": 54,
   "metadata": {},
   "outputs": [
    {
     "data": {
      "text/plain": [
       "3"
      ]
     },
     "execution_count": 54,
     "metadata": {},
     "output_type": "execute_result"
    }
   ],
   "source": [
    "np.argmax(y_pred[0])"
   ]
  },
  {
   "cell_type": "code",
   "execution_count": 55,
   "metadata": {},
   "outputs": [
    {
     "data": {
      "text/plain": [
       "3"
      ]
     },
     "execution_count": 55,
     "metadata": {},
     "output_type": "execute_result"
    }
   ],
   "source": [
    "test_labels[0]"
   ]
  },
  {
   "cell_type": "markdown",
   "metadata": {},
   "source": [
    "#### Predicting house prices: a regression example"
   ]
  },
  {
   "cell_type": "code",
   "execution_count": 2,
   "metadata": {},
   "outputs": [],
   "source": [
    "from keras.datasets import boston_housing"
   ]
  },
  {
   "cell_type": "code",
   "execution_count": 17,
   "metadata": {},
   "outputs": [],
   "source": [
    "from keras import layers, models\n",
    "from sklearn.model_selection import KFold"
   ]
  },
  {
   "cell_type": "code",
   "execution_count": 3,
   "metadata": {},
   "outputs": [
    {
     "name": "stdout",
     "output_type": "stream",
     "text": [
      "Downloading data from https://s3.amazonaws.com/keras-datasets/boston_housing.npz\n",
      "57344/57026 [==============================] - 2s 33us/step\n"
     ]
    }
   ],
   "source": [
    "(train_data, train_targets), (test_data, test_targets) = boston_housing.load_data()"
   ]
  },
  {
   "cell_type": "code",
   "execution_count": 4,
   "metadata": {},
   "outputs": [
    {
     "data": {
      "text/plain": [
       "((404, 13), (404,), (102, 13), (102,))"
      ]
     },
     "execution_count": 4,
     "metadata": {},
     "output_type": "execute_result"
    }
   ],
   "source": [
    "train_data.shape, train_targets.shape, test_data.shape, test_targets.shape"
   ]
  },
  {
   "cell_type": "code",
   "execution_count": 5,
   "metadata": {},
   "outputs": [
    {
     "data": {
      "text/plain": [
       "array([3.74511057e+00, 1.14801980e+01, 1.11044307e+01, 6.18811881e-02,\n",
       "       5.57355941e-01, 6.26708168e+00, 6.90106436e+01, 3.74027079e+00,\n",
       "       9.44059406e+00, 4.05898515e+02, 1.84759901e+01, 3.54783168e+02,\n",
       "       1.27408168e+01])"
      ]
     },
     "execution_count": 5,
     "metadata": {},
     "output_type": "execute_result"
    }
   ],
   "source": [
    "train_data.mean(axis=0)"
   ]
  },
  {
   "cell_type": "code",
   "execution_count": 8,
   "metadata": {},
   "outputs": [
    {
     "data": {
      "image/png": "[encoded data removed]",
      "text/plain": [
       "<Figure size 432x288 with 1 Axes>"
      ]
     },
     "metadata": {},
     "output_type": "display_data"
    }
   ],
   "source": [
    "_ = plt.hist(train_targets, bins=15, rwidth=.8)"
   ]
  },
  {
   "cell_type": "code",
   "execution_count": 9,
   "metadata": {},
   "outputs": [],
   "source": [
    "# preparing the data\n",
    "mean = train_data.mean(axis=0)\n",
    "std = train_data.std(axis=0)"
   ]
  },
  {
   "cell_type": "code",
   "execution_count": 12,
   "metadata": {},
   "outputs": [],
   "source": [
    "x_train = (train_data - mean) / std\n",
    "x_test = (test_data - mean) / std"
   ]
  },
  {
   "cell_type": "code",
   "execution_count": 20,
   "metadata": {},
   "outputs": [],
   "source": [
    "def build_model():\n",
    "    '''helper function for building a regression model'''\n",
    "    model = models.Sequential()\n",
    "    model.add(layers.Dense(units=64, activation='relu', input_shape=(train_data.shape[1],)))\n",
    "    model.add(layers.Dense(units=64, activation='relu'))\n",
    "    model.add(layers.Dense(units=1))\n",
    "    model.compile(loss='mse', optimizer='rmsprop', metrics=['mae'])\n",
    "    return model"
   ]
  },
  {
   "cell_type": "code",
   "execution_count": 18,
   "metadata": {},
   "outputs": [],
   "source": []
  },
  {
   "cell_type": "code",
   "execution_count": 21,
   "metadata": {},
   "outputs": [
    {
     "name": "stdout",
     "output_type": "stream",
     "text": [
      "101/101 [==============================] - 0s 772us/step\n",
      "101/101 [==============================] - 0s 715us/step\n",
      "101/101 [==============================] - 0s 838us/step\n",
      "101/101 [==============================] - 0s 1ms/step\n"
     ]
    }
   ],
   "source": [
    "n_epochs = 100\n",
    "k = 4\n",
    "kf = KFold(n_splits=k, random_state=123, shuffle=True)\n",
    "\n",
    "k_scores = []\n",
    "for tr_idx, val_idx in kf.split(x_train):\n",
    "    nn = build_model()\n",
    "    nn.fit(x_train[tr_idx], train_targets[tr_idx], epochs=n_epochs, batch_size=1, verbose=0)\n",
    "    val_loss, val_mae = nn.evaluate(x_train[val_idx], train_targets[val_idx])\n",
    "    k_scores.append(val_mae)"
   ]
  },
  {
   "cell_type": "code",
   "execution_count": 22,
   "metadata": {},
   "outputs": [
    {
     "data": {
      "text/plain": [
       "[2.28046989676976, 2.3515509036507938, 2.3130839425738494, 2.4474252190920387]"
      ]
     },
     "execution_count": 22,
     "metadata": {},
     "output_type": "execute_result"
    }
   ],
   "source": [
    "k_scores"
   ]
  },
  {
   "cell_type": "code",
   "execution_count": 23,
   "metadata": {},
   "outputs": [
    {
     "data": {
      "text/plain": [
       "2.3481324905216105"
      ]
     },
     "execution_count": 23,
     "metadata": {},
     "output_type": "execute_result"
    }
   ],
   "source": [
    "np.mean(k_scores)"
   ]
  },
  {
   "cell_type": "code",
   "execution_count": 25,
   "metadata": {},
   "outputs": [
    {
     "name": "stdout",
     "output_type": "stream",
     "text": [
      "processing fold # 1\n",
      "processing fold # 2\n",
      "processing fold # 3\n",
      "processing fold # 4\n"
     ]
    }
   ],
   "source": [
    "n_epochs = 500\n",
    "k = 4\n",
    "kf = KFold(n_splits=k, random_state=123, shuffle=True)\n",
    "\n",
    "mae_by_kfold = []\n",
    "for i, (tr_idx, val_idx) in enumerate(kf.split(x_train), start=1):\n",
    "    print(\"processing fold #\", i)\n",
    "    nn = build_model()\n",
    "    history = nn.fit(x_train[tr_idx], train_targets[tr_idx], batch_size=8, \n",
    "                    epochs=n_epochs, verbose=0, \n",
    "                     validation_data=(x_train[val_idx], train_targets[val_idx]))\n",
    "    \n",
    "    val_mae = history.history['val_mean_absolute_error']\n",
    "    mae_by_kfold.append(val_mae)"
   ]
  },
  {
   "cell_type": "code",
   "execution_count": 26,
   "metadata": {},
   "outputs": [
    {
     "name": "stdout",
     "output_type": "stream",
     "text": [
      "Finished\n"
     ]
    }
   ],
   "source": [
    "print(\"Finished\")"
   ]
  },
  {
   "cell_type": "code",
   "execution_count": 27,
   "metadata": {},
   "outputs": [],
   "source": [
    "a = np.asarray(mae_by_kfold)"
   ]
  },
  {
   "cell_type": "code",
   "execution_count": 29,
   "metadata": {},
   "outputs": [
    {
     "data": {
      "text/plain": [
       "[<matplotlib.lines.Line2D at 0x1d204845710>]"
      ]
     },
     "execution_count": 29,
     "metadata": {},
     "output_type": "execute_result"
    },
    {
     "data": {
      "image/png": "[encoded data removed]",
      "text/plain": [
       "<Figure size 432x288 with 1 Axes>"
      ]
     },
     "metadata": {},
     "output_type": "display_data"
    }
   ],
   "source": [
    "plt.plot(a.mean(axis=0))"
   ]
  },
  {
   "cell_type": "code",
   "execution_count": null,
   "metadata": {},
   "outputs": [],
   "source": [
    "def smooth_curve(points, factor=.9):\n",
    "    results = []\n",
    "    for val in points:\n",
    "        if results:\n",
    "            prev = results[-1]\n",
    "            results.append(factor*prev + (1-factor)*val)\n",
    "        else:\n",
    "            results.append(val)\n",
    "    return results"
   ]
  },
  {
   "cell_type": "code",
   "execution_count": 34,
   "metadata": {},
   "outputs": [
    {
     "data": {
      "text/plain": [
       "(100, 2.219283649236849)"
      ]
     },
     "execution_count": 34,
     "metadata": {},
     "output_type": "execute_result"
    }
   ],
   "source": [
    "best_epoch = np.argmin(a.mean(axis=0))\n",
    "best_epoch, a.mean(axis=0)[best_epoch]"
   ]
  },
  {
   "cell_type": "code",
   "execution_count": 33,
   "metadata": {},
   "outputs": [
    {
     "name": "stdout",
     "output_type": "stream",
     "text": [
      "Epoch 1/100\n",
      "404/404 [==============================] - 2s 5ms/step - loss: 483.3276 - mean_absolute_error: 20.1546\n",
      "Epoch 2/100\n",
      "404/404 [==============================] - 0s 854us/step - loss: 211.9098 - mean_absolute_error: 12.3959\n",
      "Epoch 3/100\n",
      "404/404 [==============================] - 0s 966us/step - loss: 55.9308 - mean_absolute_error: 5.7747\n",
      "Epoch 4/100\n",
      "404/404 [==============================] - 0s 1ms/step - loss: 29.4169 - mean_absolute_error: 3.9170\n",
      "Epoch 5/100\n",
      "404/404 [==============================] - 1s 2ms/step - loss: 23.1751 - mean_absolute_error: 3.4104\n",
      "Epoch 6/100\n",
      "404/404 [==============================] - 1s 2ms/step - loss: 20.2260 - mean_absolute_error: 3.1207\n",
      "Epoch 7/100\n",
      "404/404 [==============================] - 1s 2ms/step - loss: 17.7948 - mean_absolute_error: 2.9146\n",
      "Epoch 8/100\n",
      "404/404 [==============================] - 1s 2ms/step - loss: 16.2735 - mean_absolute_error: 2.8035\n",
      "Epoch 9/100\n",
      "404/404 [==============================] - 1s 2ms/step - loss: 15.0361 - mean_absolute_error: 2.6724\n",
      "Epoch 10/100\n",
      "404/404 [==============================] - 1s 2ms/step - loss: 13.8357 - mean_absolute_error: 2.5839\n",
      "Epoch 11/100\n",
      "404/404 [==============================] - 1s 2ms/step - loss: 13.2036 - mean_absolute_error: 2.4974\n",
      "Epoch 12/100\n",
      "404/404 [==============================] - 1s 2ms/step - loss: 12.3175 - mean_absolute_error: 2.4399\n",
      "Epoch 13/100\n",
      "404/404 [==============================] - 1s 1ms/step - loss: 11.7660 - mean_absolute_error: 2.3848\n",
      "Epoch 14/100\n",
      "404/404 [==============================] - 0s 1ms/step - loss: 11.5572 - mean_absolute_error: 2.3415\n",
      "Epoch 15/100\n",
      "404/404 [==============================] - 1s 1ms/step - loss: 11.1399 - mean_absolute_error: 2.3067\n",
      "Epoch 16/100\n",
      "404/404 [==============================] - 0s 1ms/step - loss: 10.4081 - mean_absolute_error: 2.2104\n",
      "Epoch 17/100\n",
      "404/404 [==============================] - 0s 1ms/step - loss: 10.5925 - mean_absolute_error: 2.2699\n",
      "Epoch 18/100\n",
      "404/404 [==============================] - 1s 2ms/step - loss: 10.4123 - mean_absolute_error: 2.2349\n",
      "Epoch 19/100\n",
      "404/404 [==============================] - 1s 2ms/step - loss: 10.0762 - mean_absolute_error: 2.2034\n",
      "Epoch 20/100\n",
      "404/404 [==============================] - 1s 2ms/step - loss: 9.9359 - mean_absolute_error: 2.1759\n",
      "Epoch 21/100\n",
      "404/404 [==============================] - 1s 2ms/step - loss: 9.8782 - mean_absolute_error: 2.1600\n",
      "Epoch 22/100\n",
      "404/404 [==============================] - 1s 2ms/step - loss: 9.5215 - mean_absolute_error: 2.1328\n",
      "Epoch 23/100\n",
      "404/404 [==============================] - 1s 2ms/step - loss: 9.3811 - mean_absolute_error: 2.1055\n",
      "Epoch 24/100\n",
      "404/404 [==============================] - 1s 2ms/step - loss: 9.2770 - mean_absolute_error: 2.1013\n",
      "Epoch 25/100\n",
      "404/404 [==============================] - 1s 2ms/step - loss: 8.9023 - mean_absolute_error: 2.0754\n",
      "Epoch 26/100\n",
      "404/404 [==============================] - 1s 2ms/step - loss: 8.8819 - mean_absolute_error: 2.0866\n",
      "Epoch 27/100\n",
      "404/404 [==============================] - 1s 2ms/step - loss: 9.0850 - mean_absolute_error: 2.1126\n",
      "Epoch 28/100\n",
      "404/404 [==============================] - 0s 1ms/step - loss: 8.8691 - mean_absolute_error: 2.0477\n",
      "Epoch 29/100\n",
      "404/404 [==============================] - 1s 1ms/step - loss: 8.6784 - mean_absolute_error: 2.0731\n",
      "Epoch 30/100\n",
      "404/404 [==============================] - 1s 2ms/step - loss: 8.5829 - mean_absolute_error: 2.0190\n",
      "Epoch 31/100\n",
      "404/404 [==============================] - 1s 1ms/step - loss: 8.4660 - mean_absolute_error: 2.0090\n",
      "Epoch 32/100\n",
      "404/404 [==============================] - 1s 1ms/step - loss: 8.2179 - mean_absolute_error: 2.0459\n",
      "Epoch 33/100\n",
      "404/404 [==============================] - 1s 1ms/step - loss: 8.3370 - mean_absolute_error: 1.9999\n",
      "Epoch 34/100\n",
      "404/404 [==============================] - 1s 2ms/step - loss: 8.1901 - mean_absolute_error: 1.9897\n",
      "Epoch 35/100\n",
      "404/404 [==============================] - 1s 2ms/step - loss: 8.1460 - mean_absolute_error: 2.0028\n",
      "Epoch 36/100\n",
      "404/404 [==============================] - 1s 2ms/step - loss: 7.8694 - mean_absolute_error: 1.9367\n",
      "Epoch 37/100\n",
      "404/404 [==============================] - 1s 1ms/step - loss: 7.8980 - mean_absolute_error: 1.9870\n",
      "Epoch 38/100\n",
      "404/404 [==============================] - 1s 2ms/step - loss: 7.7699 - mean_absolute_error: 1.9243\n",
      "Epoch 39/100\n",
      "404/404 [==============================] - 1s 1ms/step - loss: 7.8160 - mean_absolute_error: 1.9421\n",
      "Epoch 40/100\n",
      "404/404 [==============================] - 0s 1ms/step - loss: 7.5249 - mean_absolute_error: 1.8936\n",
      "Epoch 41/100\n",
      "404/404 [==============================] - 0s 1ms/step - loss: 7.3108 - mean_absolute_error: 1.9081\n",
      "Epoch 42/100\n",
      "404/404 [==============================] - 1s 1ms/step - loss: 7.4016 - mean_absolute_error: 1.9003\n",
      "Epoch 43/100\n",
      "404/404 [==============================] - 1s 1ms/step - loss: 7.4368 - mean_absolute_error: 1.9008\n",
      "Epoch 44/100\n",
      "404/404 [==============================] - 1s 2ms/step - loss: 7.3312 - mean_absolute_error: 1.8778\n",
      "Epoch 45/100\n",
      "404/404 [==============================] - 1s 2ms/step - loss: 7.3596 - mean_absolute_error: 1.9002\n",
      "Epoch 46/100\n",
      "404/404 [==============================] - 1s 2ms/step - loss: 7.2137 - mean_absolute_error: 1.8813\n",
      "Epoch 47/100\n",
      "404/404 [==============================] - 1s 1ms/step - loss: 7.2109 - mean_absolute_error: 1.8686\n",
      "Epoch 48/100\n",
      "404/404 [==============================] - 0s 1ms/step - loss: 7.0052 - mean_absolute_error: 1.8390\n",
      "Epoch 49/100\n",
      "404/404 [==============================] - 1s 2ms/step - loss: 6.9688 - mean_absolute_error: 1.8368\n",
      "Epoch 50/100\n",
      "404/404 [==============================] - 1s 2ms/step - loss: 6.9594 - mean_absolute_error: 1.8320\n",
      "Epoch 51/100\n",
      "404/404 [==============================] - 1s 1ms/step - loss: 6.8213 - mean_absolute_error: 1.8115\n",
      "Epoch 52/100\n",
      "404/404 [==============================] - 0s 1ms/step - loss: 6.6947 - mean_absolute_error: 1.8425\n",
      "Epoch 53/100\n",
      "404/404 [==============================] - 0s 1ms/step - loss: 6.8358 - mean_absolute_error: 1.7916\n",
      "Epoch 54/100\n",
      "404/404 [==============================] - 0s 1ms/step - loss: 6.5465 - mean_absolute_error: 1.7782\n",
      "Epoch 55/100\n",
      "404/404 [==============================] - 0s 831us/step - loss: 6.6042 - mean_absolute_error: 1.7777\n",
      "Epoch 56/100\n",
      "404/404 [==============================] - 0s 1ms/step - loss: 6.4654 - mean_absolute_error: 1.7643\n",
      "Epoch 57/100\n",
      "404/404 [==============================] - 1s 1ms/step - loss: 6.5074 - mean_absolute_error: 1.7837\n",
      "Epoch 58/100\n",
      "404/404 [==============================] - 1s 1ms/step - loss: 6.3762 - mean_absolute_error: 1.7751\n",
      "Epoch 59/100\n",
      "404/404 [==============================] - 1s 1ms/step - loss: 6.2391 - mean_absolute_error: 1.7471\n",
      "Epoch 60/100\n",
      "404/404 [==============================] - 1s 2ms/step - loss: 6.2033 - mean_absolute_error: 1.7420\n",
      "Epoch 61/100\n",
      "404/404 [==============================] - 1s 1ms/step - loss: 6.0577 - mean_absolute_error: 1.7400\n",
      "Epoch 62/100\n",
      "404/404 [==============================] - 1s 2ms/step - loss: 6.0332 - mean_absolute_error: 1.7501\n",
      "Epoch 63/100\n",
      "404/404 [==============================] - 0s 1ms/step - loss: 5.9491 - mean_absolute_error: 1.7139\n",
      "Epoch 64/100\n",
      "404/404 [==============================] - 1s 1ms/step - loss: 6.0056 - mean_absolute_error: 1.7185\n",
      "Epoch 65/100\n",
      "404/404 [==============================] - 1s 1ms/step - loss: 5.8277 - mean_absolute_error: 1.6813\n",
      "Epoch 66/100\n",
      "404/404 [==============================] - 1s 1ms/step - loss: 5.8870 - mean_absolute_error: 1.7076\n",
      "Epoch 67/100\n",
      "404/404 [==============================] - 1s 1ms/step - loss: 5.9700 - mean_absolute_error: 1.6499\n",
      "Epoch 68/100\n",
      "404/404 [==============================] - 1s 1ms/step - loss: 5.8301 - mean_absolute_error: 1.6846\n",
      "Epoch 69/100\n",
      "404/404 [==============================] - 0s 1ms/step - loss: 5.6929 - mean_absolute_error: 1.6695\n",
      "Epoch 70/100\n",
      "404/404 [==============================] - 0s 1ms/step - loss: 5.5729 - mean_absolute_error: 1.6423\n",
      "Epoch 71/100\n",
      "404/404 [==============================] - 1s 1ms/step - loss: 5.6455 - mean_absolute_error: 1.6641\n",
      "Epoch 72/100\n",
      "404/404 [==============================] - 1s 2ms/step - loss: 5.5469 - mean_absolute_error: 1.6418\n",
      "Epoch 73/100\n"
     ]
    },
    {
     "name": "stdout",
     "output_type": "stream",
     "text": [
      "404/404 [==============================] - 1s 2ms/step - loss: 5.3836 - mean_absolute_error: 1.6154\n",
      "Epoch 74/100\n",
      "404/404 [==============================] - 1s 2ms/step - loss: 5.3624 - mean_absolute_error: 1.6472\n",
      "Epoch 75/100\n",
      "404/404 [==============================] - 1s 2ms/step - loss: 5.2838 - mean_absolute_error: 1.6120\n",
      "Epoch 76/100\n",
      "404/404 [==============================] - 1s 2ms/step - loss: 5.3232 - mean_absolute_error: 1.6229\n",
      "Epoch 77/100\n",
      "404/404 [==============================] - 1s 2ms/step - loss: 5.3005 - mean_absolute_error: 1.5916\n",
      "Epoch 78/100\n",
      "404/404 [==============================] - 1s 2ms/step - loss: 5.4029 - mean_absolute_error: 1.6263\n",
      "Epoch 79/100\n",
      "404/404 [==============================] - 1s 1ms/step - loss: 5.1232 - mean_absolute_error: 1.5905\n",
      "Epoch 80/100\n",
      "404/404 [==============================] - 1s 2ms/step - loss: 5.0228 - mean_absolute_error: 1.5676\n",
      "Epoch 81/100\n",
      "404/404 [==============================] - 1s 2ms/step - loss: 5.0549 - mean_absolute_error: 1.5806\n",
      "Epoch 82/100\n",
      "404/404 [==============================] - 1s 2ms/step - loss: 4.9046 - mean_absolute_error: 1.5440\n",
      "Epoch 83/100\n",
      "404/404 [==============================] - 1s 2ms/step - loss: 4.9792 - mean_absolute_error: 1.5777\n",
      "Epoch 84/100\n",
      "404/404 [==============================] - 1s 2ms/step - loss: 4.8625 - mean_absolute_error: 1.5470\n",
      "Epoch 85/100\n",
      "404/404 [==============================] - 1s 2ms/step - loss: 4.8404 - mean_absolute_error: 1.5759\n",
      "Epoch 86/100\n",
      "404/404 [==============================] - 1s 2ms/step - loss: 4.8324 - mean_absolute_error: 1.5492\n",
      "Epoch 87/100\n",
      "404/404 [==============================] - 1s 1ms/step - loss: 4.8660 - mean_absolute_error: 1.5323\n",
      "Epoch 88/100\n",
      "404/404 [==============================] - 0s 1ms/step - loss: 4.7485 - mean_absolute_error: 1.5237\n",
      "Epoch 89/100\n",
      "404/404 [==============================] - 1s 1ms/step - loss: 4.8131 - mean_absolute_error: 1.5545\n",
      "Epoch 90/100\n",
      "404/404 [==============================] - 1s 1ms/step - loss: 4.6558 - mean_absolute_error: 1.5060\n",
      "Epoch 91/100\n",
      "404/404 [==============================] - 1s 1ms/step - loss: 4.7594 - mean_absolute_error: 1.4979\n",
      "Epoch 92/100\n",
      "404/404 [==============================] - 1s 2ms/step - loss: 4.4169 - mean_absolute_error: 1.4775\n",
      "Epoch 93/100\n",
      "404/404 [==============================] - 1s 2ms/step - loss: 4.6623 - mean_absolute_error: 1.5116\n",
      "Epoch 94/100\n",
      "404/404 [==============================] - 0s 1ms/step - loss: 4.4553 - mean_absolute_error: 1.4970\n",
      "Epoch 95/100\n",
      "404/404 [==============================] - 0s 1ms/step - loss: 4.3256 - mean_absolute_error: 1.4702\n",
      "Epoch 96/100\n",
      "404/404 [==============================] - 1s 1ms/step - loss: 4.4798 - mean_absolute_error: 1.4945\n",
      "Epoch 97/100\n",
      "404/404 [==============================] - 1s 1ms/step - loss: 4.4479 - mean_absolute_error: 1.4903\n",
      "Epoch 98/100\n",
      "404/404 [==============================] - 1s 1ms/step - loss: 4.4395 - mean_absolute_error: 1.4746\n",
      "Epoch 99/100\n",
      "404/404 [==============================] - 1s 1ms/step - loss: 4.3435 - mean_absolute_error: 1.4868\n",
      "Epoch 100/100\n",
      "404/404 [==============================] - 1s 2ms/step - loss: 4.2728 - mean_absolute_error: 1.4550\n"
     ]
    },
    {
     "data": {
      "text/plain": [
       "<keras.callbacks.History at 0x1d202fac080>"
      ]
     },
     "execution_count": 33,
     "metadata": {},
     "output_type": "execute_result"
    }
   ],
   "source": [
    "nn = build_model()\n",
    "nn.fit(x_train, train_targets, batch_size=8, epochs=best_epoch)"
   ]
  },
  {
   "cell_type": "code",
   "execution_count": 35,
   "metadata": {},
   "outputs": [
    {
     "name": "stdout",
     "output_type": "stream",
     "text": [
      "102/102 [==============================] - 0s 4ms/step\n"
     ]
    },
    {
     "data": {
      "text/plain": [
       "[15.026107638489966, 2.4242415615156587]"
      ]
     },
     "execution_count": 35,
     "metadata": {},
     "output_type": "execute_result"
    }
   ],
   "source": [
    "nn.evaluate(x_test, test_targets)"
   ]
  },
  {
   "cell_type": "code",
   "execution_count": null,
   "metadata": {},
   "outputs": [],
   "source": []
  }
 ],
 "metadata": {
  "kernelspec": {
   "display_name": "Python [conda env:deep_learning]",
   "language": "python",
   "name": "conda-env-deep_learning-py"
  },
  "language_info": {
   "codemirror_mode": {
    "name": "ipython",
    "version": 3
   },
   "file_extension": ".py",
   "mimetype": "text/x-python",
   "name": "python",
   "nbconvert_exporter": "python",
   "pygments_lexer": "ipython3",
   "version": "3.5.5"
  }
 },
 "nbformat": 4,
 "nbformat_minor": 2
}
