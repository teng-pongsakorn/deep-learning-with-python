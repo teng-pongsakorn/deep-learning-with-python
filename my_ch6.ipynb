{
 "cells": [
  {
   "cell_type": "code",
   "execution_count": null,
   "metadata": {},
   "outputs": [],
   "source": [
    "import numpy as np\n",
    "import keras.backend as K\n",
    "import matplotlib.pyplot as plt\n",
    "%matplotlib inline\n",
    "import pandas as pd"
   ]
  },
  {
   "cell_type": "code",
   "execution_count": 2,
   "metadata": {},
   "outputs": [],
   "source": [
    "import string\n",
    "import os\n",
    "from keras.preprocessing.text import Tokenizer\n",
    "from keras import layers\n",
    "from keras import models\n",
    "from keras import preprocessing\n",
    "\n",
    "from keras.datasets import imdb\n",
    "from keras.preprocessing import sequence"
   ]
  },
  {
   "cell_type": "code",
   "execution_count": 58,
   "metadata": {},
   "outputs": [],
   "source": [
    "def display_result(history):\n",
    "    val_acc, val_loss = history.history.get('val_acc'), history.history.get('val_loss')\n",
    "    tr_acc, tr_loss = history.history.get('acc'), history.history.get('loss')\n",
    "\n",
    "    xs = range(1, len(tr_loss)+1)\n",
    "    \n",
    "    fig, ax = plt.subplots(ncols=2, figsize=(10, 4))\n",
    "    if val_acc is not None:\n",
    "        ax[1].plot(xs, tr_acc, 'o-', label='train', alpha=.7)\n",
    "        ax[1].plot(xs, val_acc, 'x--', label='val', alpha=.7)\n",
    "        ax[1].set_xlabel('epochs')\n",
    "        ax[1].set_ylabel('accuracy')\n",
    "        ax[1].legend(loc='best')\n",
    "\n",
    "    ax[0].plot(xs, tr_loss, 'o-', label='train', alpha=.7)\n",
    "    ax[0].plot(xs, val_loss, 'x--', label='val', alpha=.7)\n",
    "    ax[0].set_xlabel('epochs')\n",
    "    ax[0].set_ylabel('loss')\n",
    "    ax[0].legend(loc='best')\n",
    "    \n",
    "    fig.tight_layout()\n",
    "    plt.show()"
   ]
  },
  {
   "cell_type": "code",
   "execution_count": 5,
   "metadata": {},
   "outputs": [
    {
     "data": {
      "text/plain": [
       "['0',\n",
       " '1',\n",
       " '2',\n",
       " '3',\n",
       " '4',\n",
       " '5',\n",
       " '6',\n",
       " '7',\n",
       " '8',\n",
       " '9',\n",
       " 'a',\n",
       " 'b',\n",
       " 'c',\n",
       " 'd',\n",
       " 'e',\n",
       " 'f',\n",
       " 'g',\n",
       " 'h',\n",
       " 'i',\n",
       " 'j',\n",
       " 'k',\n",
       " 'l',\n",
       " 'm',\n",
       " 'n',\n",
       " 'o',\n",
       " 'p',\n",
       " 'q',\n",
       " 'r',\n",
       " 's',\n",
       " 't',\n",
       " 'u',\n",
       " 'v',\n",
       " 'w',\n",
       " 'x',\n",
       " 'y',\n",
       " 'z',\n",
       " 'A',\n",
       " 'B',\n",
       " 'C',\n",
       " 'D',\n",
       " 'E',\n",
       " 'F',\n",
       " 'G',\n",
       " 'H',\n",
       " 'I',\n",
       " 'J',\n",
       " 'K',\n",
       " 'L',\n",
       " 'M',\n",
       " 'N',\n",
       " 'O',\n",
       " 'P',\n",
       " 'Q',\n",
       " 'R',\n",
       " 'S',\n",
       " 'T',\n",
       " 'U',\n",
       " 'V',\n",
       " 'W',\n",
       " 'X',\n",
       " 'Y',\n",
       " 'Z',\n",
       " '!',\n",
       " '\"',\n",
       " '#',\n",
       " '$',\n",
       " '%',\n",
       " '&',\n",
       " \"'\",\n",
       " '(',\n",
       " ')',\n",
       " '*',\n",
       " '+',\n",
       " ',',\n",
       " '-',\n",
       " '.',\n",
       " '/',\n",
       " ':',\n",
       " ';',\n",
       " '<',\n",
       " '=',\n",
       " '>',\n",
       " '?',\n",
       " '@',\n",
       " '[',\n",
       " '\\\\',\n",
       " ']',\n",
       " '^',\n",
       " '_',\n",
       " '`',\n",
       " '{',\n",
       " '|',\n",
       " '}',\n",
       " '~',\n",
       " ' ',\n",
       " '\\t',\n",
       " '\\n',\n",
       " '\\r',\n",
       " '\\x0b',\n",
       " '\\x0c']"
      ]
     },
     "execution_count": 5,
     "metadata": {},
     "output_type": "execute_result"
    }
   ],
   "source": [
    "list(string.printable)"
   ]
  },
  {
   "cell_type": "code",
   "execution_count": 10,
   "metadata": {},
   "outputs": [],
   "source": [
    "samples = ['The cat sat on the mat.', 'The dog ate my homework.']\n",
    "\n",
    "\n",
    "tokenizer = Tokenizer(num_words=1000)"
   ]
  },
  {
   "cell_type": "code",
   "execution_count": 11,
   "metadata": {},
   "outputs": [],
   "source": [
    "tokenizer.fit_on_texts(samples)"
   ]
  },
  {
   "cell_type": "code",
   "execution_count": 12,
   "metadata": {},
   "outputs": [
    {
     "data": {
      "text/plain": [
       "[[1, 2, 3, 4, 1, 5], [1, 6, 7, 8, 9]]"
      ]
     },
     "execution_count": 12,
     "metadata": {},
     "output_type": "execute_result"
    }
   ],
   "source": [
    "tokenizer.texts_to_sequences(samples)"
   ]
  },
  {
   "cell_type": "code",
   "execution_count": 50,
   "metadata": {},
   "outputs": [
    {
     "data": {
      "text/plain": [
       "array([[0., 1., 1., ..., 0., 0., 0.],\n",
       "       [0., 1., 0., ..., 0., 0., 0.]])"
      ]
     },
     "execution_count": 50,
     "metadata": {},
     "output_type": "execute_result"
    }
   ],
   "source": [
    "tokenizer.texts_to_matrix(samples, mode='binary')"
   ]
  },
  {
   "cell_type": "code",
   "execution_count": 15,
   "metadata": {},
   "outputs": [
    {
     "data": {
      "text/plain": [
       "{'ate': 7,\n",
       " 'cat': 2,\n",
       " 'dog': 6,\n",
       " 'homework': 9,\n",
       " 'mat': 5,\n",
       " 'my': 8,\n",
       " 'on': 4,\n",
       " 'sat': 3,\n",
       " 'the': 1}"
      ]
     },
     "execution_count": 15,
     "metadata": {},
     "output_type": "execute_result"
    }
   ],
   "source": [
    "tokenizer.word_index"
   ]
  },
  {
   "cell_type": "code",
   "execution_count": 48,
   "metadata": {},
   "outputs": [
    {
     "data": {
      "text/plain": [
       "545"
      ]
     },
     "execution_count": 48,
     "metadata": {},
     "output_type": "execute_result"
    }
   ],
   "source": [
    "hash('abc') % 1000"
   ]
  },
  {
   "cell_type": "code",
   "execution_count": null,
   "metadata": {},
   "outputs": [],
   "source": [
    "layers.Embedding()"
   ]
  },
  {
   "cell_type": "markdown",
   "metadata": {},
   "source": [
    "#### Learning word embeddings with the embedding layer"
   ]
  },
  {
   "cell_type": "code",
   "execution_count": 55,
   "metadata": {},
   "outputs": [],
   "source": [
    "max_feature = 10000\n",
    "max_len = 20\n",
    "\n",
    "(x_train, y_train), (x_test, y_test) = imdb.load_data(num_words=max_feature)"
   ]
  },
  {
   "cell_type": "code",
   "execution_count": 57,
   "metadata": {},
   "outputs": [
    {
     "data": {
      "text/plain": [
       "((25000,), (25000,), (25000,), (25000,))"
      ]
     },
     "execution_count": 57,
     "metadata": {},
     "output_type": "execute_result"
    }
   ],
   "source": [
    "x_train.shape, y_train.shape, x_test.shape, y_test.shape"
   ]
  },
  {
   "cell_type": "code",
   "execution_count": 63,
   "metadata": {},
   "outputs": [
    {
     "data": {
      "text/plain": [
       "(238.71364, 176.49367364852034, 11, 2494)"
      ]
     },
     "execution_count": 63,
     "metadata": {},
     "output_type": "execute_result"
    }
   ],
   "source": [
    "# mean lenght of the samples\n",
    "np.mean([len(a) for a in x_train]), np.std([len(a) for a in x_train]), np.min([len(a) for a in x_train]), np.max([len(a) for a in x_train])"
   ]
  },
  {
   "cell_type": "code",
   "execution_count": 64,
   "metadata": {},
   "outputs": [],
   "source": [
    "x_train = preprocessing.sequence.pad_sequences(x_train, maxlen=max_len)\n",
    "x_test = preprocessing.sequence.pad_sequences(x_test, maxlen=max_len)"
   ]
  },
  {
   "cell_type": "code",
   "execution_count": 65,
   "metadata": {},
   "outputs": [
    {
     "data": {
      "text/plain": [
       "(20.0, 0.0)"
      ]
     },
     "execution_count": 65,
     "metadata": {},
     "output_type": "execute_result"
    }
   ],
   "source": [
    "# after padding each sample has length=20\n",
    "np.mean([len(a) for a in x_train]), np.std([len(a) for a in x_train])"
   ]
  },
  {
   "cell_type": "code",
   "execution_count": 71,
   "metadata": {},
   "outputs": [],
   "source": [
    "word_dim = 8\n",
    "max_word = 10000\n",
    "\n",
    "\n",
    "K.clear_session()\n",
    "\n",
    "model = models.Sequential()\n",
    "model.add(layers.Embedding(input_dim=max_word, output_dim=word_dim, input_length=max_len))\n",
    "model.add(layers.Flatten())\n",
    "model.add(layers.Dense(units=1, activation='sigmoid'))\n",
    "\n",
    "model.compile(loss='binary_crossentropy', \n",
    "              optimizer='rmsprop', \n",
    "              metrics=['acc'])"
   ]
  },
  {
   "cell_type": "code",
   "execution_count": 72,
   "metadata": {},
   "outputs": [
    {
     "name": "stdout",
     "output_type": "stream",
     "text": [
      "_________________________________________________________________\n",
      "Layer (type)                 Output Shape              Param #   \n",
      "=================================================================\n",
      "embedding_1 (Embedding)      (None, 20, 8)             80000     \n",
      "_________________________________________________________________\n",
      "flatten_1 (Flatten)          (None, 160)               0         \n",
      "_________________________________________________________________\n",
      "dense_1 (Dense)              (None, 1)                 161       \n",
      "=================================================================\n",
      "Total params: 80,161\n",
      "Trainable params: 80,161\n",
      "Non-trainable params: 0\n",
      "_________________________________________________________________\n"
     ]
    }
   ],
   "source": [
    "model.summary()"
   ]
  },
  {
   "cell_type": "code",
   "execution_count": 73,
   "metadata": {},
   "outputs": [
    {
     "name": "stdout",
     "output_type": "stream",
     "text": [
      "Train on 20000 samples, validate on 5000 samples\n",
      "Epoch 1/10\n",
      "20000/20000 [==============================] - 7s 342us/step - loss: 0.6743 - acc: 0.6073 - val_loss: 0.6291 - val_acc: 0.6876\n",
      "Epoch 2/10\n",
      "20000/20000 [==============================] - 6s 311us/step - loss: 0.5511 - acc: 0.7483 - val_loss: 0.5301 - val_acc: 0.7230\n",
      "Epoch 3/10\n",
      "20000/20000 [==============================] - 6s 292us/step - loss: 0.4650 - acc: 0.7862 - val_loss: 0.5010 - val_acc: 0.7428\n",
      "Epoch 4/10\n",
      "20000/20000 [==============================] - 6s 301us/step - loss: 0.4224 - acc: 0.8084 - val_loss: 0.4941 - val_acc: 0.7488\n",
      "Epoch 5/10\n",
      "20000/20000 [==============================] - 5s 238us/step - loss: 0.3939 - acc: 0.8237 - val_loss: 0.4939 - val_acc: 0.7546\n",
      "Epoch 6/10\n",
      "20000/20000 [==============================] - 5s 227us/step - loss: 0.3702 - acc: 0.8373 - val_loss: 0.4964 - val_acc: 0.7540\n",
      "Epoch 7/10\n",
      "20000/20000 [==============================] - 4s 222us/step - loss: 0.3492 - acc: 0.8500 - val_loss: 0.5017 - val_acc: 0.7562\n",
      "Epoch 8/10\n",
      "20000/20000 [==============================] - 5s 251us/step - loss: 0.3300 - acc: 0.8602 - val_loss: 0.5075 - val_acc: 0.7574\n",
      "Epoch 9/10\n",
      "20000/20000 [==============================] - 6s 306us/step - loss: 0.3118 - acc: 0.8710 - val_loss: 0.5159 - val_acc: 0.7534\n",
      "Epoch 10/10\n",
      "20000/20000 [==============================] - 6s 301us/step - loss: 0.2943 - acc: 0.8787 - val_loss: 0.5260 - val_acc: 0.7524\n"
     ]
    }
   ],
   "source": [
    "history = model.fit(x_train, y_train,\n",
    "                    epochs=10,\n",
    "                    batch_size=32, \n",
    "                    validation_split=.2)"
   ]
  },
  {
   "cell_type": "code",
   "execution_count": 75,
   "metadata": {},
   "outputs": [
    {
     "data": {
      "text/plain": [
       "dict_keys(['acc', 'loss', 'val_loss', 'val_acc'])"
      ]
     },
     "execution_count": 75,
     "metadata": {},
     "output_type": "execute_result"
    }
   ],
   "source": [
    "history.history.keys()"
   ]
  },
  {
   "cell_type": "code",
   "execution_count": 79,
   "metadata": {},
   "outputs": [
    {
     "data": {
      "image/png": "[encoded data removed]",
      "text/plain": [
       "<Figure size 720x288 with 2 Axes>"
      ]
     },
     "metadata": {},
     "output_type": "display_data"
    }
   ],
   "source": [
    "display_result(history)"
   ]
  },
  {
   "cell_type": "markdown",
   "metadata": {},
   "source": [
    "#### Using pretrained word embeddings"
   ]
  },
  {
   "cell_type": "code",
   "execution_count": 97,
   "metadata": {},
   "outputs": [],
   "source": [
    "from keras.preprocessing.text import Tokenizer\n",
    "from keras.preprocessing.sequence import pad_sequences"
   ]
  },
  {
   "cell_type": "code",
   "execution_count": 81,
   "metadata": {},
   "outputs": [],
   "source": [
    "imdb_dir = '/Users/LENOVO/Desktop/aclImdb/'\n",
    "train_dir = os.path.join(imdb_dir, 'train')"
   ]
  },
  {
   "cell_type": "code",
   "execution_count": null,
   "metadata": {},
   "outputs": [],
   "source": [
    "# processing the albels of the raw IMDB data"
   ]
  },
  {
   "cell_type": "code",
   "execution_count": 90,
   "metadata": {},
   "outputs": [],
   "source": [
    "texts = []\n",
    "labels = []\n",
    "\n",
    "for l, s in zip([0,1], ['neg', 'pos']):\n",
    "    dir_path = os.path.join(train_dir, s)\n",
    "    for file in os.listdir(dir_path):\n",
    "        if file.endswith('.txt'):\n",
    "            txt_path = os.path.join(dir_path, file)\n",
    "            with open(txt_path, 'r', errors='ignore') as f:\n",
    "                texts.append(f.read())\n",
    "                labels.append(l)"
   ]
  },
  {
   "cell_type": "code",
   "execution_count": 95,
   "metadata": {},
   "outputs": [
    {
     "data": {
      "text/plain": [
       "(25000, 25000)"
      ]
     },
     "execution_count": 95,
     "metadata": {},
     "output_type": "execute_result"
    }
   ],
   "source": [
    "len(texts), len(labels)"
   ]
  },
  {
   "cell_type": "code",
   "execution_count": 169,
   "metadata": {},
   "outputs": [],
   "source": [
    "# tokenize the data: word index\n",
    "\n",
    "num_words = 10000       # most 10000 common word\n",
    "max_length = 100        # first 100 word in the review\n",
    "train_size = 500 #200        # small dataset for pretrained embedding\n",
    "val_size = 10000"
   ]
  },
  {
   "cell_type": "code",
   "execution_count": 99,
   "metadata": {},
   "outputs": [],
   "source": [
    "tokenizer = Tokenizer(num_words=num_words)\n",
    "tokenizer.fit_on_texts(texts)"
   ]
  },
  {
   "cell_type": "code",
   "execution_count": 109,
   "metadata": {},
   "outputs": [
    {
     "name": "stdout",
     "output_type": "stream",
     "text": [
      "Found 88,584 unique words\n"
     ]
    }
   ],
   "source": [
    "print(\"Found {:,} unique words\".format(len(tokenizer.word_index)))"
   ]
  },
  {
   "cell_type": "code",
   "execution_count": 103,
   "metadata": {},
   "outputs": [],
   "source": [
    "sequences = tokenizer.texts_to_sequences(texts)"
   ]
  },
  {
   "cell_type": "code",
   "execution_count": 107,
   "metadata": {},
   "outputs": [
    {
     "data": {
      "text/plain": [
       "224.05292"
      ]
     },
     "execution_count": 107,
     "metadata": {},
     "output_type": "execute_result"
    }
   ],
   "source": [
    "np.mean([len(a) for a in sequences])   # average length of each review"
   ]
  },
  {
   "cell_type": "code",
   "execution_count": 110,
   "metadata": {},
   "outputs": [],
   "source": [
    "data = pad_sequences(sequences, maxlen=max_length)"
   ]
  },
  {
   "cell_type": "code",
   "execution_count": 112,
   "metadata": {},
   "outputs": [],
   "source": [
    "assert np.mean([len(a) for a in data]) == max_length"
   ]
  },
  {
   "cell_type": "code",
   "execution_count": 114,
   "metadata": {},
   "outputs": [],
   "source": [
    "labels = np.asarray(labels)"
   ]
  },
  {
   "cell_type": "code",
   "execution_count": 115,
   "metadata": {},
   "outputs": [
    {
     "data": {
      "text/plain": [
       "((25000, 100), (25000,))"
      ]
     },
     "execution_count": 115,
     "metadata": {},
     "output_type": "execute_result"
    }
   ],
   "source": [
    "data.shape, labels.shape"
   ]
  },
  {
   "cell_type": "code",
   "execution_count": 118,
   "metadata": {},
   "outputs": [],
   "source": [
    "# shuffle index\n",
    "idx = np.random.permutation(data.shape[0])\n",
    "\n",
    "data = data[idx]\n",
    "labels = labels[idx]"
   ]
  },
  {
   "cell_type": "code",
   "execution_count": 170,
   "metadata": {},
   "outputs": [
    {
     "data": {
      "text/plain": [
       "((500, 100), (500,), (10000, 100), (10000,))"
      ]
     },
     "execution_count": 170,
     "metadata": {},
     "output_type": "execute_result"
    }
   ],
   "source": [
    "x_train = data[:train_size]\n",
    "y_train = labels[:train_size]\n",
    "x_val = data[train_size:train_size+val_size]\n",
    "y_val = labels[train_size:train_size+val_size]\n",
    "\n",
    "x_train.shape, y_train.shape, x_val.shape, y_val.shape"
   ]
  },
  {
   "cell_type": "code",
   "execution_count": 123,
   "metadata": {},
   "outputs": [],
   "source": [
    "glove_path = os.path.join(imdb_dir, 'glove.6B.100d.txt')\n"
   ]
  },
  {
   "cell_type": "code",
   "execution_count": 133,
   "metadata": {},
   "outputs": [],
   "source": [
    "# mapping word -> 100-vector\n",
    "embeddings_index = {}\n",
    "\n",
    "with open(glove_path, 'r', encoding='utf8') as f:\n",
    "    for line in f:\n",
    "        line = line.split()\n",
    "        word = line[0]\n",
    "        vec = np.array(line[1:], dtype='float32')\n",
    "        \n",
    "        embeddings_index[word] = vec"
   ]
  },
  {
   "cell_type": "code",
   "execution_count": 135,
   "metadata": {},
   "outputs": [
    {
     "name": "stdout",
     "output_type": "stream",
     "text": [
      "Fond 400,000 word vectors\n"
     ]
    }
   ],
   "source": [
    "print(\"Fond {:,} word vectors\".format(len(embeddings_index)))"
   ]
  },
  {
   "cell_type": "code",
   "execution_count": 138,
   "metadata": {},
   "outputs": [],
   "source": [
    "# preparing the GloVe word-embedding matrix\n",
    "vec_dim = 100\n",
    "\n",
    "embedding_matrix = np.zeros(shape=(max_word, vec_dim))\n",
    "for word, idx in tokenizer.word_index.items():\n",
    "    if idx < max_word:\n",
    "        vec = embeddings_index.get(word)\n",
    "        if vec is not None:\n",
    "            embedding_matrix[idx] = vec"
   ]
  },
  {
   "cell_type": "code",
   "execution_count": 139,
   "metadata": {},
   "outputs": [
    {
     "data": {
      "text/plain": [
       "(10000, 100)"
      ]
     },
     "execution_count": 139,
     "metadata": {},
     "output_type": "execute_result"
    }
   ],
   "source": [
    "embedding_matrix.shape"
   ]
  },
  {
   "cell_type": "code",
   "execution_count": 171,
   "metadata": {},
   "outputs": [],
   "source": [
    "# defin a model\n",
    "K.clear_session()\n",
    "\n",
    "model = models.Sequential()\n",
    "model.add(layers.Embedding(input_dim=max_word, \n",
    "                           output_dim=vec_dim, \n",
    "                           input_length=max_length))\n",
    "model.add(layers.Flatten())\n",
    "model.add(layers.Dense(units=32, activation='relu'))\n",
    "model.add(layers.Dense(units=1, activation='sigmoid'))"
   ]
  },
  {
   "cell_type": "code",
   "execution_count": 172,
   "metadata": {},
   "outputs": [],
   "source": [
    "# load pretrain embedding matrix and freeze it\n",
    "model.layers[0].set_weights([embedding_matrix])\n",
    "model.layers[0].trainable = False"
   ]
  },
  {
   "cell_type": "code",
   "execution_count": 173,
   "metadata": {},
   "outputs": [
    {
     "name": "stdout",
     "output_type": "stream",
     "text": [
      "_________________________________________________________________\n",
      "Layer (type)                 Output Shape              Param #   \n",
      "=================================================================\n",
      "embedding_1 (Embedding)      (None, 100, 100)          1000000   \n",
      "_________________________________________________________________\n",
      "flatten_1 (Flatten)          (None, 10000)             0         \n",
      "_________________________________________________________________\n",
      "dense_1 (Dense)              (None, 32)                320032    \n",
      "_________________________________________________________________\n",
      "dense_2 (Dense)              (None, 1)                 33        \n",
      "=================================================================\n",
      "Total params: 1,320,065\n",
      "Trainable params: 320,065\n",
      "Non-trainable params: 1,000,000\n",
      "_________________________________________________________________\n"
     ]
    }
   ],
   "source": [
    "model.summary()"
   ]
  },
  {
   "cell_type": "code",
   "execution_count": 174,
   "metadata": {},
   "outputs": [],
   "source": [
    "model.compile(loss='binary_crossentropy', \n",
    "              optimizer='rmsprop', \n",
    "              metrics=['acc'])"
   ]
  },
  {
   "cell_type": "code",
   "execution_count": 175,
   "metadata": {},
   "outputs": [
    {
     "name": "stdout",
     "output_type": "stream",
     "text": [
      "Train on 500 samples, validate on 10000 samples\n",
      "Epoch 1/10\n",
      "500/500 [==============================] - 2s 3ms/step - loss: 1.1670 - acc: 0.5120 - val_loss: 0.6932 - val_acc: 0.4917\n",
      "Epoch 2/10\n",
      "500/500 [==============================] - 1s 3ms/step - loss: 0.6821 - acc: 0.5440 - val_loss: 0.6934 - val_acc: 0.5104\n",
      "Epoch 3/10\n",
      "500/500 [==============================] - 1s 3ms/step - loss: 0.7289 - acc: 0.5900 - val_loss: 0.6855 - val_acc: 0.5602\n",
      "Epoch 4/10\n",
      "500/500 [==============================] - 1s 2ms/step - loss: 0.6070 - acc: 0.6600 - val_loss: 0.6735 - val_acc: 0.5771\n",
      "Epoch 5/10\n",
      "500/500 [==============================] - 1s 3ms/step - loss: 0.4503 - acc: 0.7880 - val_loss: 0.9728 - val_acc: 0.5111\n",
      "Epoch 6/10\n",
      "500/500 [==============================] - 1s 3ms/step - loss: 0.3250 - acc: 0.8780 - val_loss: 0.9501 - val_acc: 0.5031\n",
      "Epoch 7/10\n",
      "500/500 [==============================] - 1s 3ms/step - loss: 0.2846 - acc: 0.8980 - val_loss: 0.7529 - val_acc: 0.5747\n",
      "Epoch 8/10\n",
      "500/500 [==============================] - 1s 3ms/step - loss: 0.1886 - acc: 0.9540 - val_loss: 0.7815 - val_acc: 0.5785\n",
      "Epoch 9/10\n",
      "500/500 [==============================] - 1s 3ms/step - loss: 0.1409 - acc: 0.9660 - val_loss: 0.7449 - val_acc: 0.5984\n",
      "Epoch 10/10\n",
      "500/500 [==============================] - 1s 3ms/step - loss: 0.2496 - acc: 0.9020 - val_loss: 0.7696 - val_acc: 0.5983\n"
     ]
    }
   ],
   "source": [
    "history = model.fit(x_train, y_train, \n",
    "                    epochs=10, \n",
    "                    batch_size=32, \n",
    "                    validation_data=(x_val, y_val))"
   ]
  },
  {
   "cell_type": "code",
   "execution_count": 176,
   "metadata": {},
   "outputs": [],
   "source": [
    "model.save('pre_trained_glove_model.h5')"
   ]
  },
  {
   "cell_type": "code",
   "execution_count": 177,
   "metadata": {},
   "outputs": [
    {
     "data": {
      "image/png": "[encoded data removed]",
      "text/plain": [
       "<Figure size 720x288 with 2 Axes>"
      ]
     },
     "metadata": {},
     "output_type": "display_data"
    }
   ],
   "source": [
    "display_result(history)"
   ]
  },
  {
   "cell_type": "code",
   "execution_count": 178,
   "metadata": {},
   "outputs": [
    {
     "name": "stdout",
     "output_type": "stream",
     "text": [
      "_________________________________________________________________\n",
      "Layer (type)                 Output Shape              Param #   \n",
      "=================================================================\n",
      "embedding_1 (Embedding)      (None, 100, 100)          1000000   \n",
      "_________________________________________________________________\n",
      "flatten_1 (Flatten)          (None, 10000)             0         \n",
      "_________________________________________________________________\n",
      "dense_1 (Dense)              (None, 32)                320032    \n",
      "_________________________________________________________________\n",
      "dense_2 (Dense)              (None, 1)                 33        \n",
      "=================================================================\n",
      "Total params: 1,320,065\n",
      "Trainable params: 1,320,065\n",
      "Non-trainable params: 0\n",
      "_________________________________________________________________\n"
     ]
    }
   ],
   "source": [
    "# train without pretrained embedding\n",
    "K.clear_session()\n",
    "\n",
    "model = models.Sequential()\n",
    "model.add(layers.Embedding(input_dim=max_word, \n",
    "                           output_dim=vec_dim, \n",
    "                           input_length=max_length))\n",
    "model.add(layers.Flatten())\n",
    "model.add(layers.Dense(32, activation='relu'))\n",
    "model.add(layers.Dense(1, activation='sigmoid'))\n",
    "\n",
    "model.summary()"
   ]
  },
  {
   "cell_type": "code",
   "execution_count": 179,
   "metadata": {},
   "outputs": [],
   "source": [
    "model.compile(loss='binary_crossentropy', \n",
    "              optimizer='rmsprop', \n",
    "              metrics=['acc'])"
   ]
  },
  {
   "cell_type": "code",
   "execution_count": 180,
   "metadata": {},
   "outputs": [
    {
     "name": "stdout",
     "output_type": "stream",
     "text": [
      "Train on 500 samples, validate on 10000 samples\n",
      "Epoch 1/10\n",
      "500/500 [==============================] - 2s 4ms/step - loss: 0.6961 - acc: 0.5260 - val_loss: 0.6914 - val_acc: 0.5207\n",
      "Epoch 2/10\n",
      "500/500 [==============================] - 1s 3ms/step - loss: 0.4578 - acc: 0.9740 - val_loss: 0.6876 - val_acc: 0.5449\n",
      "Epoch 3/10\n",
      "500/500 [==============================] - 1s 3ms/step - loss: 0.1849 - acc: 0.9860 - val_loss: 0.6996 - val_acc: 0.5419\n",
      "Epoch 4/10\n",
      "500/500 [==============================] - 1s 3ms/step - loss: 0.0567 - acc: 0.9980 - val_loss: 0.7023 - val_acc: 0.5560\n",
      "Epoch 5/10\n",
      "500/500 [==============================] - 1s 3ms/step - loss: 0.0195 - acc: 1.0000 - val_loss: 0.7198 - val_acc: 0.5561\n",
      "Epoch 6/10\n",
      "500/500 [==============================] - 1s 3ms/step - loss: 0.0080 - acc: 1.0000 - val_loss: 0.7584 - val_acc: 0.5531\n",
      "Epoch 7/10\n",
      "500/500 [==============================] - 1s 3ms/step - loss: 0.0029 - acc: 1.0000 - val_loss: 0.7614 - val_acc: 0.5578\n",
      "Epoch 8/10\n",
      "500/500 [==============================] - 1s 3ms/step - loss: 0.0018 - acc: 1.0000 - val_loss: 0.7710 - val_acc: 0.5638\n",
      "Epoch 9/10\n",
      "500/500 [==============================] - 1s 3ms/step - loss: 4.4954e-04 - acc: 1.0000 - val_loss: 0.7846 - val_acc: 0.5669\n",
      "Epoch 10/10\n",
      "500/500 [==============================] - 1s 3ms/step - loss: 2.1530e-04 - acc: 1.0000 - val_loss: 0.8073 - val_acc: 0.5681\n"
     ]
    }
   ],
   "source": [
    "history = model.fit(x_train, y_train, \n",
    "                    epochs=10, batch_size=32, \n",
    "                    validation_data=(x_val, y_val))"
   ]
  },
  {
   "cell_type": "markdown",
   "metadata": {},
   "source": [
    "display_result(history)"
   ]
  },
  {
   "cell_type": "markdown",
   "metadata": {},
   "source": [
    "#### evaluate the pretrained embedding model on the test set"
   ]
  },
  {
   "cell_type": "code",
   "execution_count": 182,
   "metadata": {},
   "outputs": [],
   "source": [
    "model.load_weights('pre_trained_glove_model.h5')"
   ]
  },
  {
   "cell_type": "code",
   "execution_count": 183,
   "metadata": {},
   "outputs": [
    {
     "data": {
      "text/plain": [
       "((14500, 100), (14500,))"
      ]
     },
     "execution_count": 183,
     "metadata": {},
     "output_type": "execute_result"
    }
   ],
   "source": [
    "x_test = data[train_size+val_size:]\n",
    "y_test = labels[train_size+val_size:]\n",
    "\n",
    "x_test.shape, y_test.shape"
   ]
  },
  {
   "cell_type": "code",
   "execution_count": 184,
   "metadata": {},
   "outputs": [
    {
     "name": "stdout",
     "output_type": "stream",
     "text": [
      "14500/14500 [==============================] - 2s 146us/step\n"
     ]
    },
    {
     "data": {
      "text/plain": [
       "[0.7818139230465067, 0.5942068965517241]"
      ]
     },
     "execution_count": 184,
     "metadata": {},
     "output_type": "execute_result"
    }
   ],
   "source": [
    "model.evaluate(x_test, y_test, batch_size=32)"
   ]
  },
  {
   "cell_type": "markdown",
   "metadata": {},
   "source": [
    "### RNN"
   ]
  },
  {
   "cell_type": "markdown",
   "metadata": {},
   "source": [
    "#### Numpy implementation of a simple RNN: forward pass"
   ]
  },
  {
   "cell_type": "code",
   "execution_count": 192,
   "metadata": {},
   "outputs": [],
   "source": [
    "import numpy as np\n",
    "\n",
    "num_steps = 100\n",
    "input_dim = 32\n",
    "output_dim = 64\n",
    "\n",
    "inputs = np.random.random(size=(num_steps, input_dim))\n",
    "outputs = []\n",
    "current_state = np.zeros(shape=(output_dim,))\n",
    "\n",
    "W = np.random.random(size=(output_dim, input_dim))\n",
    "U = np.random.random(size=(output_dim, output_dim))\n",
    "b = np.random.random(size=(output_dim,))\n",
    "\n",
    "for t in range(num_steps):\n",
    "    \n",
    "    output_t = np.tanh(np.dot(W, inputs[t]) + np.dot(U, current_state) + b)\n",
    "    \n",
    "    outputs.append(output_t)\n",
    "    current_state = output_t\n",
    "    \n",
    "final_outputs = np.asarray(outputs)"
   ]
  },
  {
   "cell_type": "code",
   "execution_count": 193,
   "metadata": {},
   "outputs": [
    {
     "data": {
      "text/plain": [
       "array([[0.99999995, 0.99999989, 0.99999728, ..., 0.99999987, 0.99999995,\n",
       "        0.99999998],\n",
       "       [1.        , 1.        , 1.        , ..., 1.        , 1.        ,\n",
       "        1.        ],\n",
       "       [1.        , 1.        , 1.        , ..., 1.        , 1.        ,\n",
       "        1.        ],\n",
       "       ...,\n",
       "       [1.        , 1.        , 1.        , ..., 1.        , 1.        ,\n",
       "        1.        ],\n",
       "       [1.        , 1.        , 1.        , ..., 1.        , 1.        ,\n",
       "        1.        ],\n",
       "       [1.        , 1.        , 1.        , ..., 1.        , 1.        ,\n",
       "        1.        ]])"
      ]
     },
     "execution_count": 193,
     "metadata": {},
     "output_type": "execute_result"
    }
   ],
   "source": [
    "final_outputs"
   ]
  },
  {
   "cell_type": "code",
   "execution_count": 195,
   "metadata": {},
   "outputs": [
    {
     "data": {
      "text/plain": [
       "(100, 64)"
      ]
     },
     "execution_count": 195,
     "metadata": {},
     "output_type": "execute_result"
    }
   ],
   "source": [
    "final_outputs.shape"
   ]
  },
  {
   "cell_type": "markdown",
   "metadata": {},
   "source": [
    "#### Keras: SimpleRNN"
   ]
  },
  {
   "cell_type": "code",
   "execution_count": 206,
   "metadata": {},
   "outputs": [],
   "source": [
    "from keras.layers import SimpleRNN, Embedding, Dense\n",
    "from keras.models import Sequential\n",
    "from keras.preprocessing import sequence\n",
    "from keras.datasets import imdb"
   ]
  },
  {
   "cell_type": "code",
   "execution_count": 199,
   "metadata": {},
   "outputs": [
    {
     "name": "stdout",
     "output_type": "stream",
     "text": [
      "_________________________________________________________________\n",
      "Layer (type)                 Output Shape              Param #   \n",
      "=================================================================\n",
      "embedding_1 (Embedding)      (None, None, 32)          320000    \n",
      "_________________________________________________________________\n",
      "simple_rnn_1 (SimpleRNN)     (None, 32)                2080      \n",
      "=================================================================\n",
      "Total params: 322,080\n",
      "Trainable params: 322,080\n",
      "Non-trainable params: 0\n",
      "_________________________________________________________________\n"
     ]
    }
   ],
   "source": [
    "K.clear_session()\n",
    "\n",
    "model = Sequential()\n",
    "model.add(Embedding(input_dim=10000, output_dim=32))\n",
    "model.add(SimpleRNN(units=32, return_sequences=False))\n",
    "\n",
    "model.summary()"
   ]
  },
  {
   "cell_type": "code",
   "execution_count": 200,
   "metadata": {},
   "outputs": [
    {
     "name": "stdout",
     "output_type": "stream",
     "text": [
      "_________________________________________________________________\n",
      "Layer (type)                 Output Shape              Param #   \n",
      "=================================================================\n",
      "embedding_1 (Embedding)      (None, None, 32)          320000    \n",
      "_________________________________________________________________\n",
      "simple_rnn_1 (SimpleRNN)     (None, None, 32)          2080      \n",
      "=================================================================\n",
      "Total params: 322,080\n",
      "Trainable params: 322,080\n",
      "Non-trainable params: 0\n",
      "_________________________________________________________________\n"
     ]
    }
   ],
   "source": [
    "K.clear_session()\n",
    "\n",
    "model = Sequential()\n",
    "model.add(Embedding(input_dim=10000, output_dim=32))\n",
    "model.add(SimpleRNN(units=32, return_sequences=True))\n",
    "\n",
    "model.summary()"
   ]
  },
  {
   "cell_type": "code",
   "execution_count": 201,
   "metadata": {},
   "outputs": [
    {
     "name": "stdout",
     "output_type": "stream",
     "text": [
      "_________________________________________________________________\n",
      "Layer (type)                 Output Shape              Param #   \n",
      "=================================================================\n",
      "embedding_1 (Embedding)      (None, None, 32)          320000    \n",
      "_________________________________________________________________\n",
      "simple_rnn_1 (SimpleRNN)     (None, None, 32)          2080      \n",
      "_________________________________________________________________\n",
      "simple_rnn_2 (SimpleRNN)     (None, None, 32)          2080      \n",
      "_________________________________________________________________\n",
      "simple_rnn_3 (SimpleRNN)     (None, None, 32)          2080      \n",
      "_________________________________________________________________\n",
      "simple_rnn_4 (SimpleRNN)     (None, 32)                2080      \n",
      "=================================================================\n",
      "Total params: 328,320\n",
      "Trainable params: 328,320\n",
      "Non-trainable params: 0\n",
      "_________________________________________________________________\n"
     ]
    }
   ],
   "source": [
    "K.clear_session()\n",
    "\n",
    "model = Sequential()\n",
    "model.add(Embedding(input_dim=10000, output_dim=32))\n",
    "model.add(SimpleRNN(units=32, return_sequences=True))\n",
    "model.add(SimpleRNN(units=32, return_sequences=True))\n",
    "model.add(SimpleRNN(units=32, return_sequences=True))\n",
    "model.add(SimpleRNN(units=32, return_sequences=False))\n",
    "\n",
    "model.summary()"
   ]
  },
  {
   "cell_type": "code",
   "execution_count": 203,
   "metadata": {},
   "outputs": [],
   "source": [
    "max_features = 10000\n",
    "embed_dim = 32\n",
    "max_length = 500\n",
    "batch_size = 32\n",
    "\n",
    "\n",
    "(x_train, y_train), (x_test, y_test) = imdb.load_data(num_words=max_features)"
   ]
  },
  {
   "cell_type": "code",
   "execution_count": 211,
   "metadata": {},
   "outputs": [
    {
     "data": {
      "text/plain": [
       "((25000, 500), (25000,), (25000, 500), (25000,))"
      ]
     },
     "execution_count": 211,
     "metadata": {},
     "output_type": "execute_result"
    }
   ],
   "source": [
    "x_train.shape, y_train.shape, x_test.shape, y_test.shape"
   ]
  },
  {
   "cell_type": "code",
   "execution_count": 210,
   "metadata": {},
   "outputs": [],
   "source": [
    "x_train = sequence.pad_sequences(x_train, maxlen=max_length)\n",
    "x_test = sequence.pad_sequences(x_test, maxlen=max_length)"
   ]
  },
  {
   "cell_type": "code",
   "execution_count": 208,
   "metadata": {},
   "outputs": [],
   "source": [
    "K.clear_session()\n",
    "\n",
    "model = Sequential()\n",
    "model.add(Embedding(input_dim=max_features, output_dim=embed_dim))\n",
    "model.add(SimpleRNN(units=32, return_sequences=False))\n",
    "model.add(Dense(units=1, activation='sigmoid'))"
   ]
  },
  {
   "cell_type": "code",
   "execution_count": 209,
   "metadata": {},
   "outputs": [
    {
     "name": "stdout",
     "output_type": "stream",
     "text": [
      "_________________________________________________________________\n",
      "Layer (type)                 Output Shape              Param #   \n",
      "=================================================================\n",
      "embedding_1 (Embedding)      (None, None, 32)          320000    \n",
      "_________________________________________________________________\n",
      "simple_rnn_1 (SimpleRNN)     (None, 32)                2080      \n",
      "_________________________________________________________________\n",
      "dense_1 (Dense)              (None, 1)                 33        \n",
      "=================================================================\n",
      "Total params: 322,113\n",
      "Trainable params: 322,113\n",
      "Non-trainable params: 0\n",
      "_________________________________________________________________\n"
     ]
    }
   ],
   "source": [
    "model.summary()"
   ]
  },
  {
   "cell_type": "code",
   "execution_count": 212,
   "metadata": {},
   "outputs": [],
   "source": [
    "model.compile(loss='binary_crossentropy', \n",
    "              optimizer='rmsprop', \n",
    "              metrics=['acc'])"
   ]
  },
  {
   "cell_type": "code",
   "execution_count": 213,
   "metadata": {},
   "outputs": [
    {
     "name": "stdout",
     "output_type": "stream",
     "text": [
      "Train on 20000 samples, validate on 5000 samples\n",
      "Epoch 1/10\n",
      "20000/20000 [==============================] - 118s 6ms/step - loss: 0.5147 - acc: 0.7328 - val_loss: 0.5693 - val_acc: 0.7150\n",
      "Epoch 2/10\n",
      "20000/20000 [==============================] - 107s 5ms/step - loss: 0.3324 - acc: 0.8650 - val_loss: 0.3758 - val_acc: 0.8404\n",
      "Epoch 3/10\n",
      "20000/20000 [==============================] - 107s 5ms/step - loss: 0.2948 - acc: 0.8822 - val_loss: 0.3400 - val_acc: 0.8582\n",
      "Epoch 4/10\n",
      "20000/20000 [==============================] - 106s 5ms/step - loss: 0.2301 - acc: 0.9125 - val_loss: 0.4109 - val_acc: 0.8356\n",
      "Epoch 5/10\n",
      "20000/20000 [==============================] - 111s 6ms/step - loss: 0.1811 - acc: 0.9313 - val_loss: 0.4148 - val_acc: 0.8216\n",
      "Epoch 6/10\n",
      "20000/20000 [==============================] - 226s 11ms/step - loss: 0.1452 - acc: 0.9469 - val_loss: 0.4495 - val_acc: 0.8354\n",
      "Epoch 7/10\n",
      "20000/20000 [==============================] - 236s 12ms/step - loss: 0.1251 - acc: 0.9538 - val_loss: 0.5784 - val_acc: 0.7928\n",
      "Epoch 8/10\n",
      "20000/20000 [==============================] - 229s 11ms/step - loss: 0.1045 - acc: 0.9653 - val_loss: 0.5851 - val_acc: 0.7620\n",
      "Epoch 9/10\n",
      "20000/20000 [==============================] - 238s 12ms/step - loss: 0.0755 - acc: 0.9741 - val_loss: 0.6279 - val_acc: 0.7914\n",
      "Epoch 10/10\n",
      "20000/20000 [==============================] - 238s 12ms/step - loss: 0.0626 - acc: 0.9787 - val_loss: 0.6925 - val_acc: 0.8102\n"
     ]
    }
   ],
   "source": [
    "history = model.fit(x_train, y_train, \n",
    "                    epochs=10, \n",
    "                    batch_size=batch_size, \n",
    "                    validation_split=.2)"
   ]
  },
  {
   "cell_type": "code",
   "execution_count": 214,
   "metadata": {},
   "outputs": [
    {
     "data": {
      "image/png": "[encoded data removed]",
      "text/plain": [
       "<Figure size 720x288 with 2 Axes>"
      ]
     },
     "metadata": {},
     "output_type": "display_data"
    }
   ],
   "source": [
    "display_result(history)"
   ]
  },
  {
   "cell_type": "markdown",
   "metadata": {},
   "source": [
    "#### Keras: LSTM"
   ]
  },
  {
   "cell_type": "code",
   "execution_count": 14,
   "metadata": {},
   "outputs": [],
   "source": [
    "from keras.preprocessing import sequence\n",
    "from keras.layers import LSTM"
   ]
  },
  {
   "cell_type": "code",
   "execution_count": 9,
   "metadata": {},
   "outputs": [],
   "source": [
    "mx_len = 500\n",
    "num_words = 10000"
   ]
  },
  {
   "cell_type": "code",
   "execution_count": 10,
   "metadata": {},
   "outputs": [],
   "source": [
    "(x_train, y_train), (x_test, y_test) = imdb.load_data(num_words=num_words)"
   ]
  },
  {
   "cell_type": "code",
   "execution_count": 11,
   "metadata": {},
   "outputs": [],
   "source": [
    "x_train = sequence.pad_sequences(x_train, maxlen=mx_len)\n",
    "x_test = sequence.pad_sequences(x_test, maxlen=mx_len)"
   ]
  },
  {
   "cell_type": "code",
   "execution_count": 13,
   "metadata": {},
   "outputs": [
    {
     "data": {
      "text/plain": [
       "((25000, 500), (25000, 500), (25000,), (25000,))"
      ]
     },
     "execution_count": 13,
     "metadata": {},
     "output_type": "execute_result"
    }
   ],
   "source": [
    "x_train.shape, x_test.shape, y_train.shape, y_test.shape"
   ]
  },
  {
   "cell_type": "code",
   "execution_count": 17,
   "metadata": {},
   "outputs": [
    {
     "name": "stdout",
     "output_type": "stream",
     "text": [
      "_________________________________________________________________\n",
      "Layer (type)                 Output Shape              Param #   \n",
      "=================================================================\n",
      "embedding_1 (Embedding)      (None, None, 32)          320000    \n",
      "_________________________________________________________________\n",
      "lstm_1 (LSTM)                (None, 32)                8320      \n",
      "_________________________________________________________________\n",
      "dense_1 (Dense)              (None, 1)                 33        \n",
      "=================================================================\n",
      "Total params: 328,353\n",
      "Trainable params: 328,353\n",
      "Non-trainable params: 0\n",
      "_________________________________________________________________\n"
     ]
    }
   ],
   "source": [
    "K.clear_session()\n",
    "\n",
    "model = models.Sequential()\n",
    "model.add(layers.Embedding(input_dim=num_words, output_dim=32))\n",
    "model.add(LSTM(units=32, return_sequences=False))\n",
    "model.add(layers.Dense(units=1, activation='sigmoid'))\n",
    "\n",
    "model.summary()"
   ]
  },
  {
   "cell_type": "code",
   "execution_count": 18,
   "metadata": {},
   "outputs": [],
   "source": [
    "model.compile(loss='binary_crossentropy', \n",
    "              optimizer='rmsprop', \n",
    "              metrics=['acc'])"
   ]
  },
  {
   "cell_type": "code",
   "execution_count": 19,
   "metadata": {},
   "outputs": [
    {
     "name": "stdout",
     "output_type": "stream",
     "text": [
      "Train on 20000 samples, validate on 5000 samples\n",
      "Epoch 1/10\n",
      "20000/20000 [==============================] - 140s 7ms/step - loss: 0.4978 - acc: 0.7692 - val_loss: 0.4043 - val_acc: 0.8320\n",
      "Epoch 2/10\n",
      "20000/20000 [==============================] - 132s 7ms/step - loss: 0.2941 - acc: 0.8828 - val_loss: 0.3003 - val_acc: 0.8752\n",
      "Epoch 3/10\n",
      "20000/20000 [==============================] - 133s 7ms/step - loss: 0.2376 - acc: 0.9103 - val_loss: 0.2997 - val_acc: 0.8860\n",
      "Epoch 4/10\n",
      "20000/20000 [==============================] - 148s 7ms/step - loss: 0.2056 - acc: 0.9259 - val_loss: 0.2893 - val_acc: 0.8812\n",
      "Epoch 5/10\n",
      "20000/20000 [==============================] - 127s 6ms/step - loss: 0.1772 - acc: 0.9346 - val_loss: 0.2899 - val_acc: 0.8838\n",
      "Epoch 6/10\n",
      "20000/20000 [==============================] - 146s 7ms/step - loss: 0.1620 - acc: 0.9419 - val_loss: 0.3063 - val_acc: 0.8838\n",
      "Epoch 7/10\n",
      "20000/20000 [==============================] - 126s 6ms/step - loss: 0.1421 - acc: 0.9498 - val_loss: 0.6736 - val_acc: 0.7946\n",
      "Epoch 8/10\n",
      "20000/20000 [==============================] - 133s 7ms/step - loss: 0.1368 - acc: 0.9532 - val_loss: 0.3148 - val_acc: 0.8760\n",
      "Epoch 9/10\n",
      "20000/20000 [==============================] - 150s 7ms/step - loss: 0.1260 - acc: 0.9584 - val_loss: 0.4151 - val_acc: 0.8412\n",
      "Epoch 10/10\n",
      "20000/20000 [==============================] - 138s 7ms/step - loss: 0.1130 - acc: 0.9616 - val_loss: 0.3674 - val_acc: 0.8850\n"
     ]
    }
   ],
   "source": [
    "history = model.fit(x_train, y_train, \n",
    "                    epochs=10, \n",
    "                    batch_size=128, \n",
    "                    validation_split=.2)"
   ]
  },
  {
   "cell_type": "code",
   "execution_count": 20,
   "metadata": {},
   "outputs": [
    {
     "data": {
      "image/png": "[encoded data removed]",
      "text/plain": [
       "<Figure size 720x288 with 2 Axes>"
      ]
     },
     "metadata": {},
     "output_type": "display_data"
    }
   ],
   "source": [
    "display_result(history)"
   ]
  },
  {
   "cell_type": "markdown",
   "metadata": {},
   "source": [
    "#### A temperature-forecasting problem\n",
    "\n",
    "* timeseries dataset: from www.bgc-jena.mpg.de/wetter\n",
    "* download link: https://s3.amazonaws.com/keras-datasets/jena_climate_2009_2016.csv.zip"
   ]
  },
  {
   "cell_type": "code",
   "execution_count": 39,
   "metadata": {},
   "outputs": [],
   "source": [
    "zip_path = '/Users/LENOVO/Downloads/jena_climate_2009_2016.csv.zip'"
   ]
  },
  {
   "cell_type": "code",
   "execution_count": 40,
   "metadata": {},
   "outputs": [],
   "source": [
    "data = pd.read_csv(zip_path, compression='zip', parse_dates=[0])"
   ]
  },
  {
   "cell_type": "code",
   "execution_count": 41,
   "metadata": {},
   "outputs": [],
   "source": [
    "data.set_index('Date Time', inplace=True, drop=True)"
   ]
  },
  {
   "cell_type": "code",
   "execution_count": 7,
   "metadata": {},
   "outputs": [
    {
     "data": {
      "text/html": [
       "<div>\n",
       "<style scoped>\n",
       "    .dataframe tbody tr th:only-of-type {\n",
       "        vertical-align: middle;\n",
       "    }\n",
       "\n",
       "    .dataframe tbody tr th {\n",
       "        vertical-align: top;\n",
       "    }\n",
       "\n",
       "    .dataframe thead th {\n",
       "        text-align: right;\n",
       "    }\n",
       "</style>\n",
       "<table border=\"1\" class=\"dataframe\">\n",
       "  <thead>\n",
       "    <tr style=\"text-align: right;\">\n",
       "      <th></th>\n",
       "      <th>p (mbar)</th>\n",
       "      <th>T (degC)</th>\n",
       "      <th>Tpot (K)</th>\n",
       "      <th>Tdew (degC)</th>\n",
       "      <th>rh (%)</th>\n",
       "      <th>VPmax (mbar)</th>\n",
       "      <th>VPact (mbar)</th>\n",
       "      <th>VPdef (mbar)</th>\n",
       "      <th>sh (g/kg)</th>\n",
       "      <th>H2OC (mmol/mol)</th>\n",
       "      <th>rho (g/m**3)</th>\n",
       "      <th>wv (m/s)</th>\n",
       "      <th>max. wv (m/s)</th>\n",
       "      <th>wd (deg)</th>\n",
       "    </tr>\n",
       "    <tr>\n",
       "      <th>Date Time</th>\n",
       "      <th></th>\n",
       "      <th></th>\n",
       "      <th></th>\n",
       "      <th></th>\n",
       "      <th></th>\n",
       "      <th></th>\n",
       "      <th></th>\n",
       "      <th></th>\n",
       "      <th></th>\n",
       "      <th></th>\n",
       "      <th></th>\n",
       "      <th></th>\n",
       "      <th></th>\n",
       "      <th></th>\n",
       "    </tr>\n",
       "  </thead>\n",
       "  <tbody>\n",
       "    <tr>\n",
       "      <th>2009-01-01 00:10:00</th>\n",
       "      <td>996.52</td>\n",
       "      <td>-8.02</td>\n",
       "      <td>265.40</td>\n",
       "      <td>-8.90</td>\n",
       "      <td>93.3</td>\n",
       "      <td>3.33</td>\n",
       "      <td>3.11</td>\n",
       "      <td>0.22</td>\n",
       "      <td>1.94</td>\n",
       "      <td>3.12</td>\n",
       "      <td>1307.75</td>\n",
       "      <td>1.03</td>\n",
       "      <td>1.75</td>\n",
       "      <td>152.3</td>\n",
       "    </tr>\n",
       "    <tr>\n",
       "      <th>2009-01-01 00:20:00</th>\n",
       "      <td>996.57</td>\n",
       "      <td>-8.41</td>\n",
       "      <td>265.01</td>\n",
       "      <td>-9.28</td>\n",
       "      <td>93.4</td>\n",
       "      <td>3.23</td>\n",
       "      <td>3.02</td>\n",
       "      <td>0.21</td>\n",
       "      <td>1.89</td>\n",
       "      <td>3.03</td>\n",
       "      <td>1309.80</td>\n",
       "      <td>0.72</td>\n",
       "      <td>1.50</td>\n",
       "      <td>136.1</td>\n",
       "    </tr>\n",
       "    <tr>\n",
       "      <th>2009-01-01 00:30:00</th>\n",
       "      <td>996.53</td>\n",
       "      <td>-8.51</td>\n",
       "      <td>264.91</td>\n",
       "      <td>-9.31</td>\n",
       "      <td>93.9</td>\n",
       "      <td>3.21</td>\n",
       "      <td>3.01</td>\n",
       "      <td>0.20</td>\n",
       "      <td>1.88</td>\n",
       "      <td>3.02</td>\n",
       "      <td>1310.24</td>\n",
       "      <td>0.19</td>\n",
       "      <td>0.63</td>\n",
       "      <td>171.6</td>\n",
       "    </tr>\n",
       "    <tr>\n",
       "      <th>2009-01-01 00:40:00</th>\n",
       "      <td>996.51</td>\n",
       "      <td>-8.31</td>\n",
       "      <td>265.12</td>\n",
       "      <td>-9.07</td>\n",
       "      <td>94.2</td>\n",
       "      <td>3.26</td>\n",
       "      <td>3.07</td>\n",
       "      <td>0.19</td>\n",
       "      <td>1.92</td>\n",
       "      <td>3.08</td>\n",
       "      <td>1309.19</td>\n",
       "      <td>0.34</td>\n",
       "      <td>0.50</td>\n",
       "      <td>198.0</td>\n",
       "    </tr>\n",
       "    <tr>\n",
       "      <th>2009-01-01 00:50:00</th>\n",
       "      <td>996.51</td>\n",
       "      <td>-8.27</td>\n",
       "      <td>265.15</td>\n",
       "      <td>-9.04</td>\n",
       "      <td>94.1</td>\n",
       "      <td>3.27</td>\n",
       "      <td>3.08</td>\n",
       "      <td>0.19</td>\n",
       "      <td>1.92</td>\n",
       "      <td>3.09</td>\n",
       "      <td>1309.00</td>\n",
       "      <td>0.32</td>\n",
       "      <td>0.63</td>\n",
       "      <td>214.3</td>\n",
       "    </tr>\n",
       "  </tbody>\n",
       "</table>\n",
       "</div>"
      ],
      "text/plain": [
       "                     p (mbar)  T (degC)  Tpot (K)  Tdew (degC)  rh (%)  \\\n",
       "Date Time                                                                \n",
       "2009-01-01 00:10:00    996.52     -8.02    265.40        -8.90    93.3   \n",
       "2009-01-01 00:20:00    996.57     -8.41    265.01        -9.28    93.4   \n",
       "2009-01-01 00:30:00    996.53     -8.51    264.91        -9.31    93.9   \n",
       "2009-01-01 00:40:00    996.51     -8.31    265.12        -9.07    94.2   \n",
       "2009-01-01 00:50:00    996.51     -8.27    265.15        -9.04    94.1   \n",
       "\n",
       "                     VPmax (mbar)  VPact (mbar)  VPdef (mbar)  sh (g/kg)  \\\n",
       "Date Time                                                                  \n",
       "2009-01-01 00:10:00          3.33          3.11          0.22       1.94   \n",
       "2009-01-01 00:20:00          3.23          3.02          0.21       1.89   \n",
       "2009-01-01 00:30:00          3.21          3.01          0.20       1.88   \n",
       "2009-01-01 00:40:00          3.26          3.07          0.19       1.92   \n",
       "2009-01-01 00:50:00          3.27          3.08          0.19       1.92   \n",
       "\n",
       "                     H2OC (mmol/mol)  rho (g/m**3)  wv (m/s)  max. wv (m/s)  \\\n",
       "Date Time                                                                     \n",
       "2009-01-01 00:10:00             3.12       1307.75      1.03           1.75   \n",
       "2009-01-01 00:20:00             3.03       1309.80      0.72           1.50   \n",
       "2009-01-01 00:30:00             3.02       1310.24      0.19           0.63   \n",
       "2009-01-01 00:40:00             3.08       1309.19      0.34           0.50   \n",
       "2009-01-01 00:50:00             3.09       1309.00      0.32           0.63   \n",
       "\n",
       "                     wd (deg)  \n",
       "Date Time                      \n",
       "2009-01-01 00:10:00     152.3  \n",
       "2009-01-01 00:20:00     136.1  \n",
       "2009-01-01 00:30:00     171.6  \n",
       "2009-01-01 00:40:00     198.0  \n",
       "2009-01-01 00:50:00     214.3  "
      ]
     },
     "execution_count": 7,
     "metadata": {},
     "output_type": "execute_result"
    }
   ],
   "source": [
    "data.head()"
   ]
  },
  {
   "cell_type": "code",
   "execution_count": 8,
   "metadata": {},
   "outputs": [
    {
     "name": "stdout",
     "output_type": "stream",
     "text": [
      "<class 'pandas.core.frame.DataFrame'>\n",
      "DatetimeIndex: 420551 entries, 2009-01-01 00:10:00 to 2017-01-01 00:00:00\n",
      "Data columns (total 14 columns):\n",
      "p (mbar)           420551 non-null float64\n",
      "T (degC)           420551 non-null float64\n",
      "Tpot (K)           420551 non-null float64\n",
      "Tdew (degC)        420551 non-null float64\n",
      "rh (%)             420551 non-null float64\n",
      "VPmax (mbar)       420551 non-null float64\n",
      "VPact (mbar)       420551 non-null float64\n",
      "VPdef (mbar)       420551 non-null float64\n",
      "sh (g/kg)          420551 non-null float64\n",
      "H2OC (mmol/mol)    420551 non-null float64\n",
      "rho (g/m**3)       420551 non-null float64\n",
      "wv (m/s)           420551 non-null float64\n",
      "max. wv (m/s)      420551 non-null float64\n",
      "wd (deg)           420551 non-null float64\n",
      "dtypes: float64(14)\n",
      "memory usage: 48.1 MB\n"
     ]
    }
   ],
   "source": [
    "data.info()"
   ]
  },
  {
   "cell_type": "code",
   "execution_count": 9,
   "metadata": {},
   "outputs": [
    {
     "data": {
      "image/png": "[encoded data removed]",
      "text/plain": [
       "<Figure size 864x648 with 16 Axes>"
      ]
     },
     "metadata": {},
     "output_type": "display_data"
    }
   ],
   "source": [
    "_ = data.hist(figsize=(12, 9))"
   ]
  },
  {
   "cell_type": "code",
   "execution_count": 10,
   "metadata": {},
   "outputs": [
    {
     "data": {
      "text/plain": [
       "<matplotlib.axes._subplots.AxesSubplot at 0x1bd50b95eb8>"
      ]
     },
     "execution_count": 10,
     "metadata": {},
     "output_type": "execute_result"
    },
    {
     "data": {
      "image/png": "[encoded data removed]",
      "text/plain": [
       "<Figure size 864x432 with 1 Axes>"
      ]
     },
     "metadata": {},
     "output_type": "display_data"
    }
   ],
   "source": [
    "data['T (degC)'].plot(figsize=(12, 6))"
   ]
  },
  {
   "cell_type": "code",
   "execution_count": 11,
   "metadata": {},
   "outputs": [
    {
     "data": {
      "text/plain": [
       "Text(0.5,1,'Temperature of the first 10 days')"
      ]
     },
     "execution_count": 11,
     "metadata": {},
     "output_type": "execute_result"
    },
    {
     "data": {
      "image/png": "[encoded data removed]",
      "text/plain": [
       "<Figure size 432x288 with 1 Axes>"
      ]
     },
     "metadata": {},
     "output_type": "display_data"
    }
   ],
   "source": [
    "plt.plot(data.iloc[:1440, 1].values)\n",
    "plt.title('Temperature of the first 10 days')"
   ]
  },
  {
   "cell_type": "code",
   "execution_count": 42,
   "metadata": {},
   "outputs": [],
   "source": [
    "# preparing the data\n",
    "\n",
    "# given 5 previous days temperatures -> predict tomorrow temperature\n",
    "record_per_day = 144              # data every 10 minutes\n",
    "lookback = 5 * record_per_day     # 5 days back\n",
    "steps = 6                         # observations will be sampled at one data point per hour\n",
    "delay = 1 * record_per_day        # targets will be 24 hours in the future"
   ]
  },
  {
   "cell_type": "code",
   "execution_count": null,
   "metadata": {},
   "outputs": [],
   "source": []
  },
  {
   "cell_type": "code",
   "execution_count": 43,
   "metadata": {},
   "outputs": [],
   "source": [
    "# train data: first 200000 samples\n",
    "# Normalizing data\n",
    "#####################################\n",
    "\n",
    "float_data = data.values.copy()\n",
    "mean = float_data[:200000, :].mean(axis=0)\n",
    "float_data -= mean\n",
    "std = float_data[:200000, :].std(axis=0)\n",
    "float_data /= std"
   ]
  },
  {
   "cell_type": "code",
   "execution_count": 44,
   "metadata": {},
   "outputs": [
    {
     "name": "stdout",
     "output_type": "stream",
     "text": [
      "[ 2.35142852e-12 -6.28273600e-15  7.46772859e-13 -1.21087956e-14\n",
      "  2.42951509e-14  4.34444314e-15 -6.97213176e-15 -1.16579003e-14\n",
      "  2.78895790e-14  7.98244804e-16 -1.30972425e-13  1.37250925e-14\n",
      " -5.88101390e-14 -2.93813751e-15]\n",
      "[1. 1. 1. 1. 1. 1. 1. 1. 1. 1. 1. 1. 1. 1.]\n"
     ]
    }
   ],
   "source": [
    "print(float_data[:200000,:].mean(axis=0))\n",
    "print(float_data[:200000,:].std(axis=0))"
   ]
  },
  {
   "cell_type": "code",
   "execution_count": 45,
   "metadata": {},
   "outputs": [],
   "source": [
    "def generator(data, lookback, delay, min_index=0, max_index=None, \n",
    "              shuffle=False, batch_size=128, steps=6, reverse=False):\n",
    "    \n",
    "    if max_index is None:\n",
    "        max_index = len(data) - delay - 1\n",
    "    current_index = min_index + lookback\n",
    "    \n",
    "    while True:\n",
    "        if shuffle:\n",
    "            idx = np.random.randint(min_index+lookback, \n",
    "                                    max_index, size=batch_size)\n",
    "        else:\n",
    "            if current_index + batch_size >= max_index:\n",
    "                current_index = min_index + lookback\n",
    "            \n",
    "            idx = range(current_index, current_index+batch_size)\n",
    "            current_index += batch_size\n",
    "        \n",
    "        samples = np.zeros((len(idx), lookback//steps, data.shape[-1]))\n",
    "        targets = np.zeros((len(idx),))\n",
    "        for i, row in enumerate(idx):\n",
    "            samples[i] = data[row-lookback:row:steps]\n",
    "            targets[i] = data[row+delay][1]\n",
    "            \n",
    "        if reverse:\n",
    "            yield samples[:, ::-1, :], targets\n",
    "        else:\n",
    "            yield samples, targets"
   ]
  },
  {
   "cell_type": "code",
   "execution_count": 20,
   "metadata": {},
   "outputs": [],
   "source": [
    "###########################################\n",
    "# Preparing Train/Validation/Test dataset #\n",
    "###########################################\n",
    "\n",
    "lookback = record_per_day * 10     # 10 day lookback\n",
    "steps = 6                          # sampling every 1 hour\n",
    "delay = record_per_day * 1         # predict tomorrow temperature\n",
    "batch_size = 128\n",
    "\n",
    "train_gen = generator(float_data, lookback, delay, shuffle=True, \n",
    "                      min_index=0, max_index=200000, \n",
    "                      batch_size=128, steps=steps)\n",
    "\n",
    "val_gen = generator(float_data, lookback, delay,\n",
    "                     min_index=200001, max_index=300000,\n",
    "                     batch_size=batch_size, steps=steps)\n",
    "\n",
    "test_gen = generator(float_data, lookback, delay,\n",
    "                     min_index=300001, max_index=None,\n",
    "                     batch_size=batch_size, steps=steps)"
   ]
  },
  {
   "cell_type": "code",
   "execution_count": 21,
   "metadata": {},
   "outputs": [],
   "source": [
    "\n",
    "train_gen_rev = generator(float_data, lookback, delay, shuffle=True, \n",
    "                      min_index=0, max_index=200000, \n",
    "                      batch_size=128, steps=steps, reverse=True)\n",
    "\n",
    "val_gen_rev = generator(float_data, lookback, delay,\n",
    "                     min_index=200001, max_index=300000,\n",
    "                     batch_size=batch_size, steps=steps, reverse=True)\n"
   ]
  },
  {
   "cell_type": "code",
   "execution_count": 15,
   "metadata": {},
   "outputs": [],
   "source": [
    "# num steps per epoch\n",
    "val_steps = (300000 - 200001 - lookback) // batch_size  \n",
    "test_steps = (len(float_data) - 300001 - lookback) // batch_size  \n"
   ]
  },
  {
   "cell_type": "code",
   "execution_count": 22,
   "metadata": {},
   "outputs": [
    {
     "name": "stdout",
     "output_type": "stream",
     "text": [
      "0.2897359729905486\n"
     ]
    }
   ],
   "source": [
    "# baseline model                                     #\n",
    "# : predict by using temperature of the previous day #\n",
    "######################################################\n",
    "total_sample = 0\n",
    "maes = []\n",
    "for i in range(val_steps):\n",
    "    samples, targets = next(val_gen)\n",
    "    total_sample += len(targets)\n",
    "    preds = samples[:, -1, 1]\n",
    "    mae = np.mean(np.abs(preds - targets))\n",
    "    maes.append(mae)\n",
    "print(np.mean(maes))"
   ]
  },
  {
   "cell_type": "code",
   "execution_count": 53,
   "metadata": {},
   "outputs": [
    {
     "data": {
      "text/plain": [
       "2.5650540787337666"
      ]
     },
     "execution_count": 53,
     "metadata": {},
     "output_type": "execute_result"
    }
   ],
   "source": [
    "celsius_mae = np.mean(maes) * std[1]\n",
    "celsius_mae"
   ]
  },
  {
   "cell_type": "code",
   "execution_count": null,
   "metadata": {},
   "outputs": [],
   "source": []
  },
  {
   "cell_type": "code",
   "execution_count": 65,
   "metadata": {},
   "outputs": [
    {
     "name": "stdout",
     "output_type": "stream",
     "text": [
      "_________________________________________________________________\n",
      "Layer (type)                 Output Shape              Param #   \n",
      "=================================================================\n",
      "flatten_1 (Flatten)          (None, 3360)              0         \n",
      "_________________________________________________________________\n",
      "dense_1 (Dense)              (None, 32)                107552    \n",
      "_________________________________________________________________\n",
      "dense_2 (Dense)              (None, 1)                 33        \n",
      "=================================================================\n",
      "Total params: 107,585\n",
      "Trainable params: 107,585\n",
      "Non-trainable params: 0\n",
      "_________________________________________________________________\n"
     ]
    }
   ],
   "source": [
    "# Try: basic machine learning approch #\n",
    "# Fully connected model               #\n",
    "#######################################\n",
    "\n",
    "K.clear_session()\n",
    "\n",
    "model = models.Sequential()\n",
    "model.add(layers.Flatten(input_shape=(lookback//steps, float_data.shape[-1])))\n",
    "model.add(layers.Dense(units=32, activation='relu'))\n",
    "model.add(layers.Dense(units=1, activation=None))\n",
    "model.summary()"
   ]
  },
  {
   "cell_type": "code",
   "execution_count": 66,
   "metadata": {},
   "outputs": [
    {
     "name": "stdout",
     "output_type": "stream",
     "text": [
      "Epoch 1/20\n",
      "500/500 [==============================] - 11s 23ms/step - loss: 1.3929 - val_loss: 0.6399\n",
      "Epoch 2/20\n",
      "500/500 [==============================] - 11s 22ms/step - loss: 0.4627 - val_loss: 0.3621\n",
      "Epoch 3/20\n",
      "500/500 [==============================] - 11s 22ms/step - loss: 0.2948 - val_loss: 0.3113\n",
      "Epoch 4/20\n",
      "500/500 [==============================] - 11s 22ms/step - loss: 0.2667 - val_loss: 0.2982\n",
      "Epoch 5/20\n",
      "500/500 [==============================] - 11s 22ms/step - loss: 0.2553 - val_loss: 0.3271\n",
      "Epoch 6/20\n",
      "500/500 [==============================] - 11s 22ms/step - loss: 0.2471 - val_loss: 0.3134\n",
      "Epoch 7/20\n",
      "500/500 [==============================] - 11s 21ms/step - loss: 0.2387 - val_loss: 0.3190\n",
      "Epoch 8/20\n",
      "500/500 [==============================] - 11s 22ms/step - loss: 0.2336 - val_loss: 0.3175\n",
      "Epoch 9/20\n",
      "500/500 [==============================] - 11s 21ms/step - loss: 0.2286 - val_loss: 0.3209\n",
      "Epoch 10/20\n",
      "500/500 [==============================] - 11s 21ms/step - loss: 0.2237 - val_loss: 0.3287\n",
      "Epoch 11/20\n",
      "500/500 [==============================] - 11s 22ms/step - loss: 0.2188 - val_loss: 0.3247\n",
      "Epoch 12/20\n",
      "500/500 [==============================] - 11s 22ms/step - loss: 0.2166 - val_loss: 0.3461\n",
      "Epoch 13/20\n",
      "500/500 [==============================] - 11s 22ms/step - loss: 0.2153 - val_loss: 0.3351\n",
      "Epoch 14/20\n",
      "500/500 [==============================] - 10s 21ms/step - loss: 0.2117 - val_loss: 0.3184\n",
      "Epoch 15/20\n",
      "500/500 [==============================] - 11s 23ms/step - loss: 0.2093 - val_loss: 0.3314\n",
      "Epoch 16/20\n",
      "500/500 [==============================] - 11s 22ms/step - loss: 0.2083 - val_loss: 0.3248\n",
      "Epoch 17/20\n",
      "500/500 [==============================] - 11s 22ms/step - loss: 0.2040 - val_loss: 0.3283\n",
      "Epoch 18/20\n",
      "500/500 [==============================] - 11s 22ms/step - loss: 0.2038 - val_loss: 0.3417\n",
      "Epoch 19/20\n",
      "500/500 [==============================] - 10s 20ms/step - loss: 0.2015 - val_loss: 0.3355\n",
      "Epoch 20/20\n",
      "500/500 [==============================] - 11s 22ms/step - loss: 0.2007 - val_loss: 0.3271\n"
     ]
    }
   ],
   "source": [
    "model.compile(loss='mae', optimizer='rmsprop')\n",
    "history = model.fit_generator(train_gen, steps_per_epoch=500, \n",
    "                              epochs=20, \n",
    "                              validation_data=val_gen, validation_steps=val_steps)"
   ]
  },
  {
   "cell_type": "code",
   "execution_count": 23,
   "metadata": {},
   "outputs": [],
   "source": [
    "def display_result(history):\n",
    "    tr_loss = history.history.get('loss')\n",
    "    val_loss = history.history.get('val_loss')\n",
    "    xs = range(1, len(tr_loss)+1)\n",
    "    \n",
    "    plt.plot(xs, tr_loss, 'o-', label='train')\n",
    "    plt.plot(xs, val_loss, 'x--', label='val')\n",
    "    plt.xlabel('epochs')\n",
    "    plt.ylabel('MAE')\n",
    "    plt.legend(loc='best')\n",
    "    plt.title('Training & Validation Loss')\n",
    "    plt.show()"
   ]
  },
  {
   "cell_type": "code",
   "execution_count": 67,
   "metadata": {},
   "outputs": [
    {
     "data": {
      "image/png": "[encoded data removed]",
      "text/plain": [
       "<Figure size 432x288 with 1 Axes>"
      ]
     },
     "metadata": {},
     "output_type": "display_data"
    }
   ],
   "source": [
    "display_result(history)"
   ]
  },
  {
   "cell_type": "code",
   "execution_count": 68,
   "metadata": {},
   "outputs": [
    {
     "name": "stdout",
     "output_type": "stream",
     "text": [
      "_________________________________________________________________\n",
      "Layer (type)                 Output Shape              Param #   \n",
      "=================================================================\n",
      "gru_1 (GRU)                  (None, 32)                4512      \n",
      "_________________________________________________________________\n",
      "dense_1 (Dense)              (None, 1)                 33        \n",
      "=================================================================\n",
      "Total params: 4,545\n",
      "Trainable params: 4,545\n",
      "Non-trainable params: 0\n",
      "_________________________________________________________________\n"
     ]
    }
   ],
   "source": [
    "# Training and evaluating a GRU-based model #\n",
    "#############################################\n",
    "\n",
    "K.clear_session()\n",
    "\n",
    "model = models.Sequential()\n",
    "model.add(layers.GRU(units=32, input_shape=(None, float_data.shape[-1])))\n",
    "model.add(layers.Dense(units=1, activation=None))\n",
    "\n",
    "model.summary()"
   ]
  },
  {
   "cell_type": "code",
   "execution_count": 69,
   "metadata": {},
   "outputs": [
    {
     "name": "stdout",
     "output_type": "stream",
     "text": [
      "Epoch 1/20\n",
      "500/500 [==============================] - 232s 463ms/step - loss: 0.3000 - val_loss: 0.2711\n",
      "Epoch 2/20\n",
      "500/500 [==============================] - 229s 459ms/step - loss: 0.2868 - val_loss: 0.2706\n",
      "Epoch 3/20\n",
      "500/500 [==============================] - 226s 452ms/step - loss: 0.2777 - val_loss: 0.2666\n",
      "Epoch 4/20\n",
      "500/500 [==============================] - 229s 457ms/step - loss: 0.2751 - val_loss: 0.2643\n",
      "Epoch 5/20\n",
      "500/500 [==============================] - 238s 476ms/step - loss: 0.2681 - val_loss: 0.2655\n",
      "Epoch 6/20\n",
      "500/500 [==============================] - 218s 436ms/step - loss: 0.2627 - val_loss: 0.2652\n",
      "Epoch 7/20\n",
      "500/500 [==============================] - 235s 470ms/step - loss: 0.2572 - val_loss: 0.2720\n",
      "Epoch 8/20\n",
      "500/500 [==============================] - 242s 483ms/step - loss: 0.2530 - val_loss: 0.2772\n",
      "Epoch 9/20\n",
      "500/500 [==============================] - 349s 699ms/step - loss: 0.2479 - val_loss: 0.2726\n",
      "Epoch 10/20\n",
      "500/500 [==============================] - 415s 831ms/step - loss: 0.2448 - val_loss: 0.2775\n",
      "Epoch 11/20\n",
      "500/500 [==============================] - 298s 595ms/step - loss: 0.2411 - val_loss: 0.2758\n",
      "Epoch 12/20\n",
      "500/500 [==============================] - 211s 422ms/step - loss: 0.2361 - val_loss: 0.2807\n",
      "Epoch 13/20\n",
      "500/500 [==============================] - 222s 444ms/step - loss: 0.2310 - val_loss: 0.2801\n",
      "Epoch 14/20\n",
      "500/500 [==============================] - 217s 434ms/step - loss: 0.2284 - val_loss: 0.2830\n",
      "Epoch 15/20\n",
      "500/500 [==============================] - 202s 404ms/step - loss: 0.2243 - val_loss: 0.2866\n",
      "Epoch 16/20\n",
      "500/500 [==============================] - 205s 411ms/step - loss: 0.2202 - val_loss: 0.2873\n",
      "Epoch 17/20\n",
      "500/500 [==============================] - 211s 422ms/step - loss: 0.2178 - val_loss: 0.2897\n",
      "Epoch 18/20\n",
      "500/500 [==============================] - 207s 415ms/step - loss: 0.2150 - val_loss: 0.2938\n",
      "Epoch 19/20\n",
      "500/500 [==============================] - 213s 426ms/step - loss: 0.2126 - val_loss: 0.2970\n",
      "Epoch 20/20\n",
      "500/500 [==============================] - 218s 437ms/step - loss: 0.2109 - val_loss: 0.2963\n"
     ]
    }
   ],
   "source": [
    "model.compile(loss='mae', optimizer='rmsprop')\n",
    "history = model.fit_generator(train_gen, \n",
    "                              steps_per_epoch=500, \n",
    "                              epochs=20, \n",
    "                              validation_data=val_gen, \n",
    "                              validation_steps=val_steps)"
   ]
  },
  {
   "cell_type": "code",
   "execution_count": 70,
   "metadata": {},
   "outputs": [
    {
     "data": {
      "image/png": "[encoded data removed]",
      "text/plain": [
       "<Figure size 432x288 with 1 Axes>"
      ]
     },
     "metadata": {},
     "output_type": "display_data"
    }
   ],
   "source": [
    "display_result(history)"
   ]
  },
  {
   "cell_type": "code",
   "execution_count": 72,
   "metadata": {},
   "outputs": [
    {
     "name": "stdout",
     "output_type": "stream",
     "text": [
      "_________________________________________________________________\n",
      "Layer (type)                 Output Shape              Param #   \n",
      "=================================================================\n",
      "gru_1 (GRU)                  (None, 32)                4512      \n",
      "_________________________________________________________________\n",
      "dense_1 (Dense)              (None, 1)                 33        \n",
      "=================================================================\n",
      "Total params: 4,545\n",
      "Trainable params: 4,545\n",
      "Non-trainable params: 0\n",
      "_________________________________________________________________\n"
     ]
    }
   ],
   "source": [
    "# Using dropout-regularized GRU-based model #\n",
    "#############################################\n",
    "\n",
    "K.clear_session()\n",
    "model = models.Sequential()\n",
    "model.add(layers.GRU(units=32, \n",
    "                     input_shape=(None, float_data.shape[-1]), \n",
    "                     dropout=.2, \n",
    "                     recurrent_dropout=.2))\n",
    "\n",
    "model.add(layers.Dense(units=1, activation=None))\n",
    "model.summary()"
   ]
  },
  {
   "cell_type": "code",
   "execution_count": 73,
   "metadata": {},
   "outputs": [
    {
     "name": "stdout",
     "output_type": "stream",
     "text": [
      "Wall time: 0 ns\n",
      "Epoch 1/40\n",
      "500/500 [==============================] - 195s 389ms/step - loss: 0.3379 - val_loss: 0.2792\n",
      "Epoch 2/40\n",
      "500/500 [==============================] - 188s 376ms/step - loss: 0.3174 - val_loss: 0.2781\n",
      "Epoch 3/40\n",
      "500/500 [==============================] - 194s 389ms/step - loss: 0.3102 - val_loss: 0.2788\n",
      "Epoch 4/40\n",
      "500/500 [==============================] - 203s 405ms/step - loss: 0.3051 - val_loss: 0.2669\n",
      "Epoch 5/40\n",
      "500/500 [==============================] - 187s 374ms/step - loss: 0.3012 - val_loss: 0.2664\n",
      "Epoch 6/40\n",
      "500/500 [==============================] - 191s 382ms/step - loss: 0.2988 - val_loss: 0.2695\n",
      "Epoch 7/40\n",
      "500/500 [==============================] - 192s 383ms/step - loss: 0.2960 - val_loss: 0.2650\n",
      "Epoch 8/40\n",
      "500/500 [==============================] - 200s 400ms/step - loss: 0.2932 - val_loss: 0.2633\n",
      "Epoch 9/40\n",
      "500/500 [==============================] - 205s 411ms/step - loss: 0.2932 - val_loss: 0.2662\n",
      "Epoch 10/40\n",
      "500/500 [==============================] - 209s 417ms/step - loss: 0.2909 - val_loss: 0.2647\n",
      "Epoch 11/40\n",
      "500/500 [==============================] - 209s 418ms/step - loss: 0.2911 - val_loss: 0.2639\n",
      "Epoch 12/40\n",
      "500/500 [==============================] - 209s 417ms/step - loss: 0.2889 - val_loss: 0.2634\n",
      "Epoch 13/40\n",
      "500/500 [==============================] - 209s 418ms/step - loss: 0.2875 - val_loss: 0.2636\n",
      "Epoch 14/40\n",
      "500/500 [==============================] - 208s 417ms/step - loss: 0.2857 - val_loss: 0.2634\n",
      "Epoch 15/40\n",
      "500/500 [==============================] - 209s 417ms/step - loss: 0.2861 - val_loss: 0.2607\n",
      "Epoch 16/40\n",
      "500/500 [==============================] - 209s 417ms/step - loss: 0.2852 - val_loss: 0.2622\n",
      "Epoch 17/40\n",
      "500/500 [==============================] - 210s 419ms/step - loss: 0.2858 - val_loss: 0.2608\n",
      "Epoch 18/40\n",
      "500/500 [==============================] - 209s 418ms/step - loss: 0.2838 - val_loss: 0.2616\n",
      "Epoch 19/40\n",
      "500/500 [==============================] - 208s 417ms/step - loss: 0.2821 - val_loss: 0.2610\n",
      "Epoch 20/40\n",
      "500/500 [==============================] - 209s 418ms/step - loss: 0.2821 - val_loss: 0.2601\n",
      "Epoch 21/40\n",
      "500/500 [==============================] - 209s 417ms/step - loss: 0.2804 - val_loss: 0.2628\n",
      "Epoch 22/40\n",
      "500/500 [==============================] - 208s 417ms/step - loss: 0.2785 - val_loss: 0.2612\n",
      "Epoch 23/40\n",
      "500/500 [==============================] - 208s 416ms/step - loss: 0.2783 - val_loss: 0.2620\n",
      "Epoch 24/40\n",
      "500/500 [==============================] - 209s 417ms/step - loss: 0.2773 - val_loss: 0.2613\n",
      "Epoch 25/40\n",
      "500/500 [==============================] - 208s 417ms/step - loss: 0.2764 - val_loss: 0.2628\n",
      "Epoch 26/40\n",
      "500/500 [==============================] - 209s 418ms/step - loss: 0.2755 - val_loss: 0.2786\n",
      "Epoch 27/40\n",
      "500/500 [==============================] - 209s 417ms/step - loss: 0.2755 - val_loss: 0.2621\n",
      "Epoch 28/40\n",
      "500/500 [==============================] - 209s 418ms/step - loss: 0.2760 - val_loss: 0.2619\n",
      "Epoch 29/40\n",
      "500/500 [==============================] - 208s 416ms/step - loss: 0.2751 - val_loss: 0.2642\n",
      "Epoch 30/40\n",
      "500/500 [==============================] - 209s 418ms/step - loss: 0.2753 - val_loss: 0.2646\n",
      "Epoch 31/40\n",
      "500/500 [==============================] - 208s 416ms/step - loss: 0.2748 - val_loss: 0.2671\n",
      "Epoch 32/40\n",
      "500/500 [==============================] - 209s 417ms/step - loss: 0.2731 - val_loss: 0.2647\n",
      "Epoch 33/40\n",
      "500/500 [==============================] - 208s 416ms/step - loss: 0.2731 - val_loss: 0.2621\n",
      "Epoch 34/40\n",
      "500/500 [==============================] - 208s 415ms/step - loss: 0.2724 - val_loss: 0.2730\n",
      "Epoch 35/40\n",
      "500/500 [==============================] - 208s 416ms/step - loss: 0.2709 - val_loss: 0.2657\n",
      "Epoch 36/40\n",
      "500/500 [==============================] - 209s 419ms/step - loss: 0.2721 - val_loss: 0.2717\n",
      "Epoch 37/40\n",
      "500/500 [==============================] - 209s 418ms/step - loss: 0.2718 - val_loss: 0.2658\n",
      "Epoch 38/40\n",
      "500/500 [==============================] - 209s 417ms/step - loss: 0.2706 - val_loss: 0.2672\n",
      "Epoch 39/40\n",
      "500/500 [==============================] - 208s 416ms/step - loss: 0.2689 - val_loss: 0.2648\n",
      "Epoch 40/40\n",
      "500/500 [==============================] - 208s 415ms/step - loss: 0.2686 - val_loss: 0.2621\n"
     ]
    },
    {
     "data": {
      "image/png": "[encoded data removed]",
      "text/plain": [
       "<Figure size 432x288 with 1 Axes>"
      ]
     },
     "metadata": {},
     "output_type": "display_data"
    }
   ],
   "source": [
    "%time\n",
    "model.compile(loss='mae', optimizer='rmsprop')\n",
    "history = model.fit_generator(train_gen, \n",
    "                              steps_per_epoch=500, \n",
    "                              validation_data=val_gen, \n",
    "                              validation_steps=val_steps,\n",
    "                              epochs=40)\n",
    "\n",
    "display_result(history)"
   ]
  },
  {
   "cell_type": "code",
   "execution_count": 74,
   "metadata": {},
   "outputs": [],
   "source": [
    "model.save('temperature_forcasting_gru_dropout.h5')"
   ]
  },
  {
   "cell_type": "code",
   "execution_count": 43,
   "metadata": {},
   "outputs": [
    {
     "name": "stdout",
     "output_type": "stream",
     "text": [
      "_________________________________________________________________\n",
      "Layer (type)                 Output Shape              Param #   \n",
      "=================================================================\n",
      "gru_1 (GRU)                  (None, None, 32)          4512      \n",
      "_________________________________________________________________\n",
      "gru_2 (GRU)                  (None, 64)                18624     \n",
      "_________________________________________________________________\n",
      "dense_1 (Dense)              (None, 1)                 65        \n",
      "=================================================================\n",
      "Total params: 23,201\n",
      "Trainable params: 23,201\n",
      "Non-trainable params: 0\n",
      "_________________________________________________________________\n"
     ]
    }
   ],
   "source": [
    "# Stacking recurrent layers #\n",
    "#############################\n",
    "K.clear_session()\n",
    "\n",
    "model = models.Sequential()\n",
    "model.add(layers.GRU(units=32, \n",
    "                     input_shape=(None, float_data.shape[-1]), \n",
    "                     dropout=.1, \n",
    "                     recurrent_dropout=.5, \n",
    "                     return_sequences=True))\n",
    "model.add(layers.GRU(units=64, activation='relu',\n",
    "                     dropout=.1,\n",
    "                     recurrent_dropout=.5))\n",
    "model.add(layers.Dense(units=1, activation=None))\n",
    "\n",
    "model.summary()"
   ]
  },
  {
   "cell_type": "code",
   "execution_count": 44,
   "metadata": {},
   "outputs": [
    {
     "name": "stdout",
     "output_type": "stream",
     "text": [
      "Epoch 1/40\n",
      "500/500 [==============================] - 368s 736ms/step - loss: 0.3366 - val_loss: 0.2856\n",
      "Epoch 2/40\n",
      "500/500 [==============================] - 372s 744ms/step - loss: 0.3134 - val_loss: 0.2727\n",
      "Epoch 3/40\n",
      "500/500 [==============================] - 378s 756ms/step - loss: 0.3062 - val_loss: 0.2689\n",
      "Epoch 4/40\n",
      "500/500 [==============================] - 371s 743ms/step - loss: 0.3001 - val_loss: 0.2679\n",
      "Epoch 5/40\n",
      "500/500 [==============================] - 400s 800ms/step - loss: 0.2967 - val_loss: 0.2692\n",
      "Epoch 6/40\n",
      "500/500 [==============================] - 405s 809ms/step - loss: 0.2932 - val_loss: 0.2702\n",
      "Epoch 7/40\n",
      "500/500 [==============================] - 407s 815ms/step - loss: 0.2894 - val_loss: 0.2714\n",
      "Epoch 8/40\n",
      "500/500 [==============================] - 407s 815ms/step - loss: 0.2885 - val_loss: 0.2680\n",
      "Epoch 9/40\n",
      "500/500 [==============================] - 407s 814ms/step - loss: 0.2851 - val_loss: 0.2708\n",
      "Epoch 10/40\n",
      "500/500 [==============================] - 406s 812ms/step - loss: 0.2847 - val_loss: 0.2694\n",
      "Epoch 11/40\n",
      "500/500 [==============================] - 406s 812ms/step - loss: 0.2813 - val_loss: 0.2711\n",
      "Epoch 12/40\n",
      "500/500 [==============================] - 407s 813ms/step - loss: 0.2783 - val_loss: 0.2685\n",
      "Epoch 13/40\n",
      "500/500 [==============================] - 407s 813ms/step - loss: 0.2784 - val_loss: 0.2751\n",
      "Epoch 14/40\n",
      "500/500 [==============================] - 409s 818ms/step - loss: 0.2766 - val_loss: 0.2678\n",
      "Epoch 15/40\n",
      "500/500 [==============================] - 407s 814ms/step - loss: 0.2749 - val_loss: 0.2672\n",
      "Epoch 16/40\n",
      "500/500 [==============================] - 410s 820ms/step - loss: 0.2739 - val_loss: 0.2654\n",
      "Epoch 17/40\n",
      "500/500 [==============================] - 409s 818ms/step - loss: 0.2726 - val_loss: 0.2660\n",
      "Epoch 18/40\n",
      "500/500 [==============================] - 408s 817ms/step - loss: 0.2717 - val_loss: 0.2711\n",
      "Epoch 19/40\n",
      "500/500 [==============================] - 409s 817ms/step - loss: 0.2677 - val_loss: 0.2701\n",
      "Epoch 20/40\n",
      "500/500 [==============================] - 408s 817ms/step - loss: 0.2681 - val_loss: 0.2664\n",
      "Epoch 21/40\n",
      "500/500 [==============================] - 411s 821ms/step - loss: 0.2683 - val_loss: 0.2733\n",
      "Epoch 22/40\n",
      "500/500 [==============================] - 413s 827ms/step - loss: 0.2655 - val_loss: 0.2705\n",
      "Epoch 23/40\n",
      "500/500 [==============================] - 409s 819ms/step - loss: 0.2653 - val_loss: 0.2690\n",
      "Epoch 24/40\n",
      "500/500 [==============================] - 407s 815ms/step - loss: 0.2645 - val_loss: 0.2728\n",
      "Epoch 25/40\n",
      "500/500 [==============================] - 417s 833ms/step - loss: 0.2628 - val_loss: 0.2694\n",
      "Epoch 26/40\n",
      "500/500 [==============================] - 418s 837ms/step - loss: 0.2628 - val_loss: 0.2732\n",
      "Epoch 27/40\n",
      "500/500 [==============================] - 400s 801ms/step - loss: 0.2616 - val_loss: 0.2729\n",
      "Epoch 28/40\n",
      "500/500 [==============================] - 400s 801ms/step - loss: 0.2619 - val_loss: 0.2708\n",
      "Epoch 29/40\n",
      "500/500 [==============================] - 401s 802ms/step - loss: 0.2609 - val_loss: 0.2716\n",
      "Epoch 30/40\n",
      "500/500 [==============================] - 402s 804ms/step - loss: 0.2583 - val_loss: 0.2700\n",
      "Epoch 31/40\n",
      "500/500 [==============================] - 402s 803ms/step - loss: 0.2582 - val_loss: 0.2716\n",
      "Epoch 32/40\n",
      "500/500 [==============================] - 401s 801ms/step - loss: 0.2583 - val_loss: 0.2705\n",
      "Epoch 33/40\n",
      "500/500 [==============================] - 403s 806ms/step - loss: 0.2568 - val_loss: 0.2734\n",
      "Epoch 34/40\n",
      "500/500 [==============================] - 404s 808ms/step - loss: 0.2546 - val_loss: 0.2762\n",
      "Epoch 35/40\n",
      "500/500 [==============================] - 403s 807ms/step - loss: 0.2538 - val_loss: 0.2696\n",
      "Epoch 36/40\n",
      "500/500 [==============================] - 404s 807ms/step - loss: 0.2539 - val_loss: 0.2717\n",
      "Epoch 37/40\n",
      "500/500 [==============================] - 403s 806ms/step - loss: 0.2544 - val_loss: 0.2720\n",
      "Epoch 38/40\n",
      "500/500 [==============================] - 403s 806ms/step - loss: 0.2520 - val_loss: 0.2747\n",
      "Epoch 39/40\n",
      "500/500 [==============================] - 403s 806ms/step - loss: 0.2529 - val_loss: 0.2687\n",
      "Epoch 40/40\n",
      "500/500 [==============================] - 403s 807ms/step - loss: 0.2522 - val_loss: 0.2780\n"
     ]
    },
    {
     "data": {
      "image/png": "[encoded data removed]",
      "text/plain": [
       "<Figure size 432x288 with 1 Axes>"
      ]
     },
     "metadata": {},
     "output_type": "display_data"
    }
   ],
   "source": [
    "model.compile(loss='mae', \n",
    "              optimizer='rmsprop')\n",
    "\n",
    "history = model.fit_generator(train_gen, \n",
    "                              steps_per_epoch=500, \n",
    "                              validation_data=val_gen, \n",
    "                              validation_steps=val_steps, \n",
    "                              epochs=40)\n",
    "\n",
    "model.save('temperature_forcasting_grux2_dropout.h5')\n",
    "display_result(history)"
   ]
  },
  {
   "cell_type": "code",
   "execution_count": 18,
   "metadata": {},
   "outputs": [
    {
     "name": "stdout",
     "output_type": "stream",
     "text": [
      "_________________________________________________________________\n",
      "Layer (type)                 Output Shape              Param #   \n",
      "=================================================================\n",
      "gru_1 (GRU)                  (None, 32)                4512      \n",
      "_________________________________________________________________\n",
      "dense_1 (Dense)              (None, 1)                 33        \n",
      "=================================================================\n",
      "Total params: 4,545\n",
      "Trainable params: 4,545\n",
      "Non-trainable params: 0\n",
      "_________________________________________________________________\n"
     ]
    }
   ],
   "source": [
    "# Bidirectional RNN #\n",
    "#####################\n",
    "\n",
    "K.clear_session()\n",
    "model = models.Sequential()\n",
    "model.add(layers.GRU(units=32, input_shape=(None, float_data.shape[-1])))\n",
    "model.add(layers.Dense(units=1, activation=None))\n",
    "model.summary()"
   ]
  },
  {
   "cell_type": "code",
   "execution_count": 24,
   "metadata": {},
   "outputs": [
    {
     "name": "stdout",
     "output_type": "stream",
     "text": [
      "Epoch 1/20\n",
      "500/500 [==============================] - 230s 460ms/step - loss: 0.4769 - val_loss: 0.4850\n",
      "Epoch 2/20\n",
      "500/500 [==============================] - 222s 444ms/step - loss: 0.4358 - val_loss: 0.4713\n",
      "Epoch 3/20\n",
      "500/500 [==============================] - 222s 444ms/step - loss: 0.3994 - val_loss: 0.4533\n",
      "Epoch 4/20\n",
      "500/500 [==============================] - 222s 444ms/step - loss: 0.3795 - val_loss: 0.4432\n",
      "Epoch 5/20\n",
      "500/500 [==============================] - 210s 420ms/step - loss: 0.3542 - val_loss: 0.4414\n",
      "Epoch 6/20\n",
      "500/500 [==============================] - 209s 417ms/step - loss: 0.3284 - val_loss: 0.4486\n",
      "Epoch 7/20\n",
      "500/500 [==============================] - 194s 388ms/step - loss: 0.3151 - val_loss: 0.4574\n",
      "Epoch 8/20\n",
      "500/500 [==============================] - 199s 398ms/step - loss: 0.3057 - val_loss: 0.4529\n",
      "Epoch 9/20\n",
      "500/500 [==============================] - 198s 396ms/step - loss: 0.2977 - val_loss: 0.4583\n",
      "Epoch 10/20\n",
      "500/500 [==============================] - 196s 393ms/step - loss: 0.2892 - val_loss: 0.4806\n",
      "Epoch 11/20\n",
      "500/500 [==============================] - 197s 393ms/step - loss: 0.2843 - val_loss: 0.4806\n",
      "Epoch 12/20\n",
      "500/500 [==============================] - 196s 392ms/step - loss: 0.2763 - val_loss: 0.4538\n",
      "Epoch 13/20\n",
      "500/500 [==============================] - 207s 414ms/step - loss: 0.2718 - val_loss: 0.4573\n",
      "Epoch 14/20\n",
      "500/500 [==============================] - 209s 419ms/step - loss: 0.2638 - val_loss: 0.4519\n",
      "Epoch 15/20\n",
      "500/500 [==============================] - 196s 392ms/step - loss: 0.2564 - val_loss: 0.4618\n",
      "Epoch 16/20\n",
      "500/500 [==============================] - 202s 404ms/step - loss: 0.2530 - val_loss: 0.4662\n",
      "Epoch 17/20\n",
      "500/500 [==============================] - 216s 431ms/step - loss: 0.2476 - val_loss: 0.4590\n",
      "Epoch 18/20\n",
      "500/500 [==============================] - 212s 424ms/step - loss: 0.2415 - val_loss: 0.4646\n",
      "Epoch 19/20\n",
      "500/500 [==============================] - 197s 395ms/step - loss: 0.2393 - val_loss: 0.4666\n",
      "Epoch 20/20\n",
      "500/500 [==============================] - 198s 397ms/step - loss: 0.2339 - val_loss: 0.4748\n"
     ]
    },
    {
     "data": {
      "image/png": "[encoded data removed]",
      "text/plain": [
       "<Figure size 432x288 with 1 Axes>"
      ]
     },
     "metadata": {},
     "output_type": "display_data"
    }
   ],
   "source": [
    "model.compile(loss='mae', optimizer='rmsprop')\n",
    "history = model.fit_generator(train_gen_rev, steps_per_epoch=500, \n",
    "                              validation_data=val_gen_rev, \n",
    "                              validation_steps=val_steps,\n",
    "                              epochs=20)\n",
    "\n",
    "display_result(history)"
   ]
  },
  {
   "cell_type": "code",
   "execution_count": null,
   "metadata": {},
   "outputs": [],
   "source": [
    "model.save('temperature_forecasting_gru_reverse.h5')"
   ]
  },
  {
   "cell_type": "code",
   "execution_count": 4,
   "metadata": {},
   "outputs": [],
   "source": [
    "# LSTM using reverse sequence on imdb dataset #\n",
    "###############################################\n",
    "\n",
    "n_words = 10000\n",
    "max_len = 500\n",
    "\n",
    "(x_train, y_train), (x_test, y_test) = imdb.load_data(num_words=n_words, maxlen=max_len)"
   ]
  },
  {
   "cell_type": "code",
   "execution_count": 5,
   "metadata": {},
   "outputs": [],
   "source": [
    "# to reverse sequence\n",
    "x_train = [x[::-1] for x in x_train]\n",
    "x_test = [x[::-1] for x in x_test]"
   ]
  },
  {
   "cell_type": "code",
   "execution_count": 6,
   "metadata": {},
   "outputs": [],
   "source": [
    "x_train = sequence.pad_sequences(x_train, maxlen=max_len)\n",
    "x_test = sequence.pad_sequences(x_test, maxlen=max_len)"
   ]
  },
  {
   "cell_type": "code",
   "execution_count": 7,
   "metadata": {},
   "outputs": [
    {
     "data": {
      "text/plain": [
       "((25000, 500), (20947, 500), (25000,), (20947,))"
      ]
     },
     "execution_count": 7,
     "metadata": {},
     "output_type": "execute_result"
    }
   ],
   "source": [
    "x_train.shape, x_test.shape, y_train.shape, y_test.shape"
   ]
  },
  {
   "cell_type": "code",
   "execution_count": 8,
   "metadata": {},
   "outputs": [
    {
     "name": "stdout",
     "output_type": "stream",
     "text": [
      "_________________________________________________________________\n",
      "Layer (type)                 Output Shape              Param #   \n",
      "=================================================================\n",
      "embedding_1 (Embedding)      (None, None, 128)         1280000   \n",
      "_________________________________________________________________\n",
      "lstm_1 (LSTM)                (None, 32)                20608     \n",
      "_________________________________________________________________\n",
      "dense_1 (Dense)              (None, 1)                 33        \n",
      "=================================================================\n",
      "Total params: 1,300,641\n",
      "Trainable params: 1,300,641\n",
      "Non-trainable params: 0\n",
      "_________________________________________________________________\n"
     ]
    }
   ],
   "source": [
    "K.clear_session()\n",
    "\n",
    "model = models.Sequential()\n",
    "model.add(layers.Embedding(input_dim=n_words, output_dim=128))\n",
    "model.add(layers.LSTM(units=32))\n",
    "model.add(layers.Dense(units=1, activation='sigmoid'))\n",
    "model.summary()"
   ]
  },
  {
   "cell_type": "code",
   "execution_count": 9,
   "metadata": {},
   "outputs": [
    {
     "name": "stdout",
     "output_type": "stream",
     "text": [
      "Train on 20000 samples, validate on 5000 samples\n",
      "Epoch 1/10\n",
      "20000/20000 [==============================] - 131s 7ms/step - loss: 0.4918 - acc: 0.7660 - val_loss: 0.4183 - val_acc: 0.8220\n",
      "Epoch 2/10\n",
      "20000/20000 [==============================] - 122s 6ms/step - loss: 0.3007 - acc: 0.8864 - val_loss: 0.3546 - val_acc: 0.8768\n",
      "Epoch 3/10\n",
      "20000/20000 [==============================] - 123s 6ms/step - loss: 0.2515 - acc: 0.9048 - val_loss: 0.3258 - val_acc: 0.8798\n",
      "Epoch 4/10\n",
      "20000/20000 [==============================] - 122s 6ms/step - loss: 0.2093 - acc: 0.9254 - val_loss: 0.3582 - val_acc: 0.8756\n",
      "Epoch 5/10\n",
      "20000/20000 [==============================] - 124s 6ms/step - loss: 0.1729 - acc: 0.9398 - val_loss: 0.3730 - val_acc: 0.8586\n",
      "Epoch 6/10\n",
      "20000/20000 [==============================] - 123s 6ms/step - loss: 0.1627 - acc: 0.9447 - val_loss: 0.3739 - val_acc: 0.8734\n",
      "Epoch 7/10\n",
      "20000/20000 [==============================] - 127s 6ms/step - loss: 0.1457 - acc: 0.9494 - val_loss: 0.3631 - val_acc: 0.8740\n",
      "Epoch 8/10\n",
      "20000/20000 [==============================] - 126s 6ms/step - loss: 0.1325 - acc: 0.9552 - val_loss: 0.3647 - val_acc: 0.8620\n",
      "Epoch 9/10\n",
      "20000/20000 [==============================] - 123s 6ms/step - loss: 0.1214 - acc: 0.9587 - val_loss: 0.3877 - val_acc: 0.8718\n",
      "Epoch 10/10\n",
      "20000/20000 [==============================] - 122s 6ms/step - loss: 0.1064 - acc: 0.9639 - val_loss: 0.4678 - val_acc: 0.8668\n"
     ]
    }
   ],
   "source": [
    "model.compile(loss='binary_crossentropy', \n",
    "              optimizer='rmsprop', \n",
    "              metrics=['acc'])\n",
    "\n",
    "history = model.fit(x_train, y_train, \n",
    "                    epochs=10, batch_size=128, \n",
    "                    validation_split=.2)"
   ]
  },
  {
   "cell_type": "code",
   "execution_count": 12,
   "metadata": {},
   "outputs": [
    {
     "data": {
      "image/png": "[encoded data removed]",
      "text/plain": [
       "<Figure size 720x288 with 2 Axes>"
      ]
     },
     "metadata": {},
     "output_type": "display_data"
    }
   ],
   "source": [
    "model.save('imdb_lstm_reverse.h5')\n",
    "display_result(history)"
   ]
  },
  {
   "cell_type": "code",
   "execution_count": 48,
   "metadata": {},
   "outputs": [
    {
     "name": "stdout",
     "output_type": "stream",
     "text": [
      "_________________________________________________________________\n",
      "Layer (type)                 Output Shape              Param #   \n",
      "=================================================================\n",
      "embedding_1 (Embedding)      (None, None, 32)          320000    \n",
      "_________________________________________________________________\n",
      "bidirectional_1 (Bidirection (None, 64)                16640     \n",
      "_________________________________________________________________\n",
      "dense_1 (Dense)              (None, 1)                 65        \n",
      "=================================================================\n",
      "Total params: 336,705\n",
      "Trainable params: 336,705\n",
      "Non-trainable params: 0\n",
      "_________________________________________________________________\n"
     ]
    }
   ],
   "source": [
    "# bidirectional LSTM: imdb data #\n",
    "#################################\n",
    "\n",
    "K.clear_session()\n",
    "\n",
    "model = models.Sequential()\n",
    "model.add(layers.Embedding(input_dim=n_words, output_dim=32))\n",
    "model.add(layers.Bidirectional(layers.LSTM(units=32)))\n",
    "model.add(layers.Dense(units=1, activation='sigmoid'))\n",
    "model.summary()"
   ]
  },
  {
   "cell_type": "code",
   "execution_count": 49,
   "metadata": {},
   "outputs": [],
   "source": [
    "model.compile(loss='binary_crossentropy', \n",
    "              optimizer='rmsprop', \n",
    "              metrics=['acc'])"
   ]
  },
  {
   "cell_type": "code",
   "execution_count": 50,
   "metadata": {},
   "outputs": [
    {
     "name": "stdout",
     "output_type": "stream",
     "text": [
      "Train on 20000 samples, validate on 5000 samples\n",
      "Epoch 1/10\n",
      "20000/20000 [==============================] - 231s 12ms/step - loss: 0.5568 - acc: 0.7235 - val_loss: 0.5372 - val_acc: 0.7866\n",
      "Epoch 2/10\n",
      "20000/20000 [==============================] - 230s 12ms/step - loss: 0.3670 - acc: 0.8553 - val_loss: 0.3586 - val_acc: 0.8564\n",
      "Epoch 3/10\n",
      "20000/20000 [==============================] - 230s 11ms/step - loss: 0.2885 - acc: 0.8926 - val_loss: 0.3427 - val_acc: 0.8760\n",
      "Epoch 4/10\n",
      "20000/20000 [==============================] - 230s 11ms/step - loss: 0.2417 - acc: 0.9141 - val_loss: 0.3144 - val_acc: 0.8740\n",
      "Epoch 5/10\n",
      "20000/20000 [==============================] - 229s 11ms/step - loss: 0.2207 - acc: 0.9238 - val_loss: 0.3341 - val_acc: 0.8630\n",
      "Epoch 6/10\n",
      "20000/20000 [==============================] - 234s 12ms/step - loss: 0.1832 - acc: 0.9356 - val_loss: 0.3650 - val_acc: 0.8514\n",
      "Epoch 7/10\n",
      "20000/20000 [==============================] - 230s 12ms/step - loss: 0.1633 - acc: 0.9433 - val_loss: 0.3367 - val_acc: 0.8750\n",
      "Epoch 8/10\n",
      "20000/20000 [==============================] - 231s 12ms/step - loss: 0.1478 - acc: 0.9497 - val_loss: 0.5627 - val_acc: 0.8338\n",
      "Epoch 9/10\n",
      "20000/20000 [==============================] - 230s 11ms/step - loss: 0.1344 - acc: 0.9532 - val_loss: 0.3586 - val_acc: 0.8592\n",
      "Epoch 10/10\n",
      "20000/20000 [==============================] - 230s 11ms/step - loss: 0.1247 - acc: 0.9587 - val_loss: 0.4405 - val_acc: 0.8640\n"
     ]
    },
    {
     "data": {
      "image/png": "[encoded data removed]",
      "text/plain": [
       "<Figure size 432x288 with 1 Axes>"
      ]
     },
     "metadata": {},
     "output_type": "display_data"
    }
   ],
   "source": [
    "history = model.fit(x_train, y_train, \n",
    "                    epochs=10, \n",
    "                    batch_size=128, \n",
    "                    validation_split=0.2)\n",
    "\n",
    "display_result(history)"
   ]
  },
  {
   "cell_type": "code",
   "execution_count": 51,
   "metadata": {},
   "outputs": [],
   "source": [
    "model.save('imdb_bidirection_lstm.h5')"
   ]
  },
  {
   "cell_type": "code",
   "execution_count": 52,
   "metadata": {},
   "outputs": [
    {
     "name": "stdout",
     "output_type": "stream",
     "text": [
      "_________________________________________________________________\n",
      "Layer (type)                 Output Shape              Param #   \n",
      "=================================================================\n",
      "bidirectional_1 (Bidirection (None, 64)                9024      \n",
      "_________________________________________________________________\n",
      "dense_1 (Dense)              (None, 1)                 65        \n",
      "=================================================================\n",
      "Total params: 9,089\n",
      "Trainable params: 9,089\n",
      "Non-trainable params: 0\n",
      "_________________________________________________________________\n"
     ]
    }
   ],
   "source": [
    "# bidirection GRU: temperature dataset #\n",
    "########################################\n",
    "\n",
    "K.clear_session()\n",
    "model = models.Sequential()\n",
    "model.add(layers.Bidirectional(layers.GRU(units=32), \n",
    "                               input_shape=(None, float_data.shape[-1])))\n",
    "model.add(layers.Dense(units=1, activation=None))\n",
    "model.summary()"
   ]
  },
  {
   "cell_type": "code",
   "execution_count": 53,
   "metadata": {},
   "outputs": [
    {
     "name": "stdout",
     "output_type": "stream",
     "text": [
      "Epoch 1/40\n",
      "500/500 [==============================] - 334s 668ms/step - loss: 0.2914 - val_loss: 0.2712\n",
      "Epoch 2/40\n",
      "500/500 [==============================] - 331s 662ms/step - loss: 0.2739 - val_loss: 0.2625\n",
      "Epoch 3/40\n",
      "500/500 [==============================] - 332s 664ms/step - loss: 0.2663 - val_loss: 0.2650\n",
      "Epoch 4/40\n",
      "500/500 [==============================] - 332s 664ms/step - loss: 0.2600 - val_loss: 0.2656\n",
      "Epoch 5/40\n",
      "500/500 [==============================] - 331s 662ms/step - loss: 0.2543 - val_loss: 0.2660\n",
      "Epoch 6/40\n",
      "500/500 [==============================] - 332s 664ms/step - loss: 0.2476 - val_loss: 0.2735\n",
      "Epoch 7/40\n",
      "500/500 [==============================] - 331s 662ms/step - loss: 0.2408 - val_loss: 0.2705\n",
      "Epoch 8/40\n",
      "500/500 [==============================] - 332s 664ms/step - loss: 0.2367 - val_loss: 0.2766\n",
      "Epoch 9/40\n",
      "500/500 [==============================] - 332s 664ms/step - loss: 0.2294 - val_loss: 0.2856\n",
      "Epoch 10/40\n",
      "500/500 [==============================] - 333s 665ms/step - loss: 0.2249 - val_loss: 0.2893\n",
      "Epoch 11/40\n",
      "500/500 [==============================] - 331s 663ms/step - loss: 0.2191 - val_loss: 0.2887\n",
      "Epoch 12/40\n",
      "500/500 [==============================] - 332s 663ms/step - loss: 0.2129 - val_loss: 0.2871\n",
      "Epoch 13/40\n",
      "500/500 [==============================] - 340s 680ms/step - loss: 0.2090 - val_loss: 0.2967\n",
      "Epoch 14/40\n",
      "500/500 [==============================] - 332s 664ms/step - loss: 0.2042 - val_loss: 0.2997\n",
      "Epoch 15/40\n",
      "500/500 [==============================] - 332s 664ms/step - loss: 0.2000 - val_loss: 0.3001\n",
      "Epoch 16/40\n",
      "500/500 [==============================] - 332s 665ms/step - loss: 0.1949 - val_loss: 0.3131\n",
      "Epoch 17/40\n",
      "500/500 [==============================] - 331s 663ms/step - loss: 0.1892 - val_loss: 0.3102\n",
      "Epoch 18/40\n",
      "500/500 [==============================] - 331s 662ms/step - loss: 0.1838 - val_loss: 0.3206\n",
      "Epoch 19/40\n",
      "500/500 [==============================] - 331s 663ms/step - loss: 0.1807 - val_loss: 0.3216\n",
      "Epoch 20/40\n",
      "500/500 [==============================] - 332s 665ms/step - loss: 0.1766 - val_loss: 0.3157\n",
      "Epoch 21/40\n",
      "500/500 [==============================] - 330s 661ms/step - loss: 0.1730 - val_loss: 0.3310\n",
      "Epoch 22/40\n",
      "500/500 [==============================] - 332s 665ms/step - loss: 0.1699 - val_loss: 0.3285\n",
      "Epoch 23/40\n",
      "500/500 [==============================] - 332s 665ms/step - loss: 0.1658 - val_loss: 0.3330\n",
      "Epoch 24/40\n",
      "500/500 [==============================] - 332s 664ms/step - loss: 0.1630 - val_loss: 0.3322\n",
      "Epoch 25/40\n",
      "500/500 [==============================] - 332s 663ms/step - loss: 0.1600 - val_loss: 0.3357\n",
      "Epoch 26/40\n",
      "500/500 [==============================] - 331s 663ms/step - loss: 0.1570 - val_loss: 0.3341\n",
      "Epoch 27/40\n",
      "500/500 [==============================] - 332s 665ms/step - loss: 0.1550 - val_loss: 0.3312\n",
      "Epoch 28/40\n",
      "500/500 [==============================] - 331s 662ms/step - loss: 0.1532 - val_loss: 0.3359\n",
      "Epoch 29/40\n",
      "500/500 [==============================] - 332s 665ms/step - loss: 0.1505 - val_loss: 0.3276\n",
      "Epoch 30/40\n",
      "500/500 [==============================] - 331s 662ms/step - loss: 0.1487 - val_loss: 0.3343\n",
      "Epoch 31/40\n",
      "500/500 [==============================] - 332s 665ms/step - loss: 0.1462 - val_loss: 0.3310\n",
      "Epoch 32/40\n",
      "500/500 [==============================] - 331s 662ms/step - loss: 0.1450 - val_loss: 0.3381\n",
      "Epoch 33/40\n",
      "500/500 [==============================] - 332s 664ms/step - loss: 0.1441 - val_loss: 0.3386\n",
      "Epoch 34/40\n",
      "500/500 [==============================] - 333s 666ms/step - loss: 0.1417 - val_loss: 0.3422\n",
      "Epoch 35/40\n",
      "500/500 [==============================] - 331s 663ms/step - loss: 0.1391 - val_loss: 0.3318\n",
      "Epoch 36/40\n",
      "500/500 [==============================] - 332s 665ms/step - loss: 0.1390 - val_loss: 0.3409\n",
      "Epoch 37/40\n",
      "500/500 [==============================] - 332s 664ms/step - loss: 0.1365 - val_loss: 0.3347\n",
      "Epoch 38/40\n",
      "500/500 [==============================] - 334s 667ms/step - loss: 0.1365 - val_loss: 0.3362\n",
      "Epoch 39/40\n",
      "500/500 [==============================] - 332s 663ms/step - loss: 0.1343 - val_loss: 0.3381\n",
      "Epoch 40/40\n",
      "500/500 [==============================] - 332s 664ms/step - loss: 0.1335 - val_loss: 0.3307\n"
     ]
    }
   ],
   "source": [
    "model.compile(loss='mae', optimizer='rmsprop')\n",
    "\n",
    "history = model.fit_generator(train_gen, steps_per_epoch=500, \n",
    "                              validation_data=val_gen, validation_steps=val_steps,\n",
    "                              epochs=40)"
   ]
  },
  {
   "cell_type": "code",
   "execution_count": 54,
   "metadata": {},
   "outputs": [
    {
     "data": {
      "image/png": "[encoded data removed]",
      "text/plain": [
       "<Figure size 432x288 with 1 Axes>"
      ]
     },
     "metadata": {},
     "output_type": "display_data"
    }
   ],
   "source": [
    "model.save('temperature_forecasting_biGRU.h5')\n",
    "display_result(history)"
   ]
  },
  {
   "cell_type": "code",
   "execution_count": null,
   "metadata": {},
   "outputs": [],
   "source": []
  },
  {
   "cell_type": "markdown",
   "metadata": {},
   "source": [
    "### Sequence processing with convnets"
   ]
  },
  {
   "cell_type": "code",
   "execution_count": 18,
   "metadata": {},
   "outputs": [],
   "source": [
    "from keras.datasets import imdb\n",
    "from keras import layers, models, optimizers\n",
    "from keras.preprocessing import sequence\n",
    "import keras.backend as K"
   ]
  },
  {
   "cell_type": "code",
   "execution_count": 15,
   "metadata": {},
   "outputs": [],
   "source": [
    "n_words = 10000\n",
    "mx_len = 500\n",
    "\n",
    "(x_train, y_train), (x_test, y_test) = imdb.load_data(num_words=n_words)"
   ]
  },
  {
   "cell_type": "code",
   "execution_count": 16,
   "metadata": {},
   "outputs": [],
   "source": [
    "x_train = sequence.pad_sequences(x_train, maxlen=mx_len)\n",
    "x_test = sequence.pad_sequences(x_test, maxlen=mx_len)"
   ]
  },
  {
   "cell_type": "code",
   "execution_count": 17,
   "metadata": {},
   "outputs": [
    {
     "data": {
      "text/plain": [
       "((25000, 500), (25000,), (25000, 500), (25000,))"
      ]
     },
     "execution_count": 17,
     "metadata": {},
     "output_type": "execute_result"
    }
   ],
   "source": [
    "x_train.shape, y_train.shape, x_test.shape, y_test.shape"
   ]
  },
  {
   "cell_type": "code",
   "execution_count": 35,
   "metadata": {},
   "outputs": [],
   "source": [
    "# Train simple conv1D on imdb dataset #\n",
    "#######################################\n",
    "K.clear_session()\n",
    "\n",
    "model = models.Sequential()\n",
    "model.add(layers.Embedding(input_dim=n_words, output_dim=128, input_length=mx_len))\n",
    "model.add(layers.Conv1D(filters=32, kernel_size=7, activation='relu'))\n",
    "model.add(layers.MaxPool1D(pool_size=5))\n",
    "model.add(layers.Conv1D(filters=32, kernel_size=7, activation='relu'))\n",
    "model.add(layers.GlobalMaxPool1D())\n",
    "model.add(layers.Dense(units=1, activation='sigmoid'))"
   ]
  },
  {
   "cell_type": "code",
   "execution_count": 27,
   "metadata": {},
   "outputs": [
    {
     "name": "stdout",
     "output_type": "stream",
     "text": [
      "_________________________________________________________________\n",
      "Layer (type)                 Output Shape              Param #   \n",
      "=================================================================\n",
      "embedding_1 (Embedding)      (None, 500, 128)          1280000   \n",
      "_________________________________________________________________\n",
      "conv1d_1 (Conv1D)            (None, 494, 32)           28704     \n",
      "_________________________________________________________________\n",
      "max_pooling1d_1 (MaxPooling1 (None, 98, 32)            0         \n",
      "_________________________________________________________________\n",
      "conv1d_2 (Conv1D)            (None, 92, 32)            7200      \n",
      "_________________________________________________________________\n",
      "global_max_pooling1d_1 (Glob (None, 32)                0         \n",
      "_________________________________________________________________\n",
      "dense_1 (Dense)              (None, 1)                 33        \n",
      "=================================================================\n",
      "Total params: 1,315,937\n",
      "Trainable params: 1,315,937\n",
      "Non-trainable params: 0\n",
      "_________________________________________________________________\n"
     ]
    }
   ],
   "source": [
    "model.summary()"
   ]
  },
  {
   "cell_type": "code",
   "execution_count": 36,
   "metadata": {},
   "outputs": [],
   "source": [
    "model.compile(loss='binary_crossentropy', \n",
    "              optimizer=optimizers.RMSprop(1e-4), \n",
    "              metrics=['acc'])"
   ]
  },
  {
   "cell_type": "code",
   "execution_count": 37,
   "metadata": {},
   "outputs": [
    {
     "name": "stdout",
     "output_type": "stream",
     "text": [
      "Train on 20000 samples, validate on 5000 samples\n",
      "Epoch 1/10\n",
      "20000/20000 [==============================] - 6s 320us/step - loss: 0.6920 - acc: 0.5247 - val_loss: 0.6908 - val_acc: 0.5290\n",
      "Epoch 2/10\n",
      "20000/20000 [==============================] - 5s 264us/step - loss: 0.6842 - acc: 0.6610 - val_loss: 0.6833 - val_acc: 0.6370\n",
      "Epoch 3/10\n",
      "20000/20000 [==============================] - 5s 261us/step - loss: 0.6673 - acc: 0.7608 - val_loss: 0.6558 - val_acc: 0.7406\n",
      "Epoch 4/10\n",
      "20000/20000 [==============================] - 5s 267us/step - loss: 0.6132 - acc: 0.7912 - val_loss: 0.5717 - val_acc: 0.7962\n",
      "Epoch 5/10\n",
      "20000/20000 [==============================] - 5s 257us/step - loss: 0.5022 - acc: 0.8268 - val_loss: 0.4545 - val_acc: 0.8260\n",
      "Epoch 6/10\n",
      "20000/20000 [==============================] - 5s 261us/step - loss: 0.3899 - acc: 0.8550 - val_loss: 0.3755 - val_acc: 0.8462\n",
      "Epoch 7/10\n",
      "20000/20000 [==============================] - 5s 258us/step - loss: 0.3202 - acc: 0.8764 - val_loss: 0.3394 - val_acc: 0.8580\n",
      "Epoch 8/10\n",
      "20000/20000 [==============================] - 5s 258us/step - loss: 0.2793 - acc: 0.8910 - val_loss: 0.3235 - val_acc: 0.8636\n",
      "Epoch 9/10\n",
      "20000/20000 [==============================] - 5s 267us/step - loss: 0.2515 - acc: 0.9032 - val_loss: 0.3140 - val_acc: 0.8662\n",
      "Epoch 10/10\n",
      "20000/20000 [==============================] - 5s 259us/step - loss: 0.2300 - acc: 0.9123 - val_loss: 0.3107 - val_acc: 0.8712\n"
     ]
    }
   ],
   "source": [
    "history = model.fit(x_train, y_train, \n",
    "                    epochs=10, \n",
    "                    batch_size=128, \n",
    "                    validation_split=.2)"
   ]
  },
  {
   "cell_type": "code",
   "execution_count": 38,
   "metadata": {},
   "outputs": [
    {
     "data": {
      "image/png": "[encoded data removed]",
      "text/plain": [
       "<Figure size 720x288 with 2 Axes>"
      ]
     },
     "metadata": {},
     "output_type": "display_data"
    }
   ],
   "source": [
    "display_result(history)"
   ]
  },
  {
   "cell_type": "code",
   "execution_count": 67,
   "metadata": {},
   "outputs": [],
   "source": [
    "lookback = 144*5    # 5 days\n",
    "delay = 144         # 1 days\n",
    "steps = 6           # every hour\n",
    "\n",
    "train_gen = generator(float_data, \n",
    "                      lookback=lookback, \n",
    "                      delay=delay, \n",
    "                      min_index=0, \n",
    "                      max_index=200000, \n",
    "                      shuffle=True, \n",
    "                      batch_size=128, \n",
    "                      steps=steps)\n",
    "\n",
    "val_gen = generator(float_data, \n",
    "                    lookback=lookback, \n",
    "                    delay=delay, \n",
    "                    min_index=200001, \n",
    "                    max_index=300000, \n",
    "                    steps=steps)\n",
    "\n",
    "test_gen = generator(float_data, \n",
    "                    lookback=lookback, \n",
    "                    delay=delay, \n",
    "                    min_index=300001, \n",
    "                    max_index=None, \n",
    "                    steps=steps)\n",
    "\n",
    "\n",
    "val_steps = (300000 - 200001 - lookback) // 128\n",
    "test_steps = (len(float_data) - 300001 - lookback) // 128"
   ]
  },
  {
   "cell_type": "code",
   "execution_count": 68,
   "metadata": {},
   "outputs": [],
   "source": [
    "# Training a simple 1D convnet on the Jena dataset #\n",
    "####################################################\n",
    "\n",
    "\n",
    "K.clear_session()\n",
    "\n",
    "model = models.Sequential()\n",
    "model.add(layers.Conv1D(filters=32, kernel_size=5, activation='relu', \n",
    "                        input_shape=(None, float_data.shape[-1])))\n",
    "model.add(layers.MaxPool1D(pool_size=3))\n",
    "model.add(layers.Conv1D(filters=32, kernel_size=5, activation='relu'))\n",
    "model.add(layers.MaxPool1D(pool_size=3))\n",
    "model.add(layers.Conv1D(filters=32, kernel_size=5, activation='relu'))\n",
    "model.add(layers.GlobalMaxPool1D())\n",
    "model.add(layers.Dense(units=1, activation=None))"
   ]
  },
  {
   "cell_type": "code",
   "execution_count": 69,
   "metadata": {},
   "outputs": [
    {
     "name": "stdout",
     "output_type": "stream",
     "text": [
      "_________________________________________________________________\n",
      "Layer (type)                 Output Shape              Param #   \n",
      "=================================================================\n",
      "conv1d_1 (Conv1D)            (None, None, 32)          2272      \n",
      "_________________________________________________________________\n",
      "max_pooling1d_1 (MaxPooling1 (None, None, 32)          0         \n",
      "_________________________________________________________________\n",
      "conv1d_2 (Conv1D)            (None, None, 32)          5152      \n",
      "_________________________________________________________________\n",
      "max_pooling1d_2 (MaxPooling1 (None, None, 32)          0         \n",
      "_________________________________________________________________\n",
      "conv1d_3 (Conv1D)            (None, None, 32)          5152      \n",
      "_________________________________________________________________\n",
      "global_max_pooling1d_1 (Glob (None, 32)                0         \n",
      "_________________________________________________________________\n",
      "dense_1 (Dense)              (None, 1)                 33        \n",
      "=================================================================\n",
      "Total params: 12,609\n",
      "Trainable params: 12,609\n",
      "Non-trainable params: 0\n",
      "_________________________________________________________________\n"
     ]
    }
   ],
   "source": [
    "model.summary()"
   ]
  },
  {
   "cell_type": "code",
   "execution_count": 70,
   "metadata": {},
   "outputs": [],
   "source": [
    "model.compile(loss='mae', optimizer=optimizers.RMSprop())"
   ]
  },
  {
   "cell_type": "code",
   "execution_count": 71,
   "metadata": {},
   "outputs": [
    {
     "name": "stdout",
     "output_type": "stream",
     "text": [
      "Epoch 1/20\n",
      "500/500 [==============================] - 9s 18ms/step - loss: 0.3922 - val_loss: 0.4190\n",
      "Epoch 2/20\n",
      "500/500 [==============================] - 7s 14ms/step - loss: 0.3278 - val_loss: 0.4003\n",
      "Epoch 3/20\n",
      "500/500 [==============================] - 7s 14ms/step - loss: 0.3022 - val_loss: 0.3945\n",
      "Epoch 4/20\n",
      "500/500 [==============================] - 6s 13ms/step - loss: 0.2828 - val_loss: 0.3914\n",
      "Epoch 5/20\n",
      "500/500 [==============================] - 7s 13ms/step - loss: 0.2674 - val_loss: 0.4082\n",
      "Epoch 6/20\n",
      "500/500 [==============================] - 7s 13ms/step - loss: 0.2557 - val_loss: 0.4060\n",
      "Epoch 7/20\n",
      "500/500 [==============================] - 7s 15ms/step - loss: 0.2478 - val_loss: 0.4150\n",
      "Epoch 8/20\n",
      "500/500 [==============================] - 7s 14ms/step - loss: 0.2399 - val_loss: 0.4025\n",
      "Epoch 9/20\n",
      "500/500 [==============================] - 7s 14ms/step - loss: 0.2352 - val_loss: 0.4051\n",
      "Epoch 10/20\n",
      "500/500 [==============================] - 7s 14ms/step - loss: 0.2283 - val_loss: 0.4323\n",
      "Epoch 11/20\n",
      "500/500 [==============================] - 7s 14ms/step - loss: 0.2240 - val_loss: 0.3986\n",
      "Epoch 12/20\n",
      "500/500 [==============================] - 7s 14ms/step - loss: 0.2198 - val_loss: 0.4200\n",
      "Epoch 13/20\n",
      "500/500 [==============================] - 7s 14ms/step - loss: 0.2146 - val_loss: 0.4060\n",
      "Epoch 14/20\n",
      "500/500 [==============================] - 7s 13ms/step - loss: 0.2111 - val_loss: 0.4205\n",
      "Epoch 15/20\n",
      "500/500 [==============================] - 7s 14ms/step - loss: 0.2087 - val_loss: 0.4044\n",
      "Epoch 16/20\n",
      "500/500 [==============================] - 7s 14ms/step - loss: 0.2056 - val_loss: 0.4140\n",
      "Epoch 17/20\n",
      "500/500 [==============================] - 8s 15ms/step - loss: 0.2036 - val_loss: 0.4031\n",
      "Epoch 18/20\n",
      "500/500 [==============================] - 8s 15ms/step - loss: 0.2001 - val_loss: 0.4141\n",
      "Epoch 19/20\n",
      "500/500 [==============================] - 8s 15ms/step - loss: 0.1984 - val_loss: 0.3976\n",
      "Epoch 20/20\n",
      "500/500 [==============================] - 7s 14ms/step - loss: 0.1956 - val_loss: 0.4072\n"
     ]
    }
   ],
   "source": [
    "history = model.fit_generator(train_gen, \n",
    "                              steps_per_epoch=500, \n",
    "                              epochs=20, \n",
    "                              validation_data=val_gen, \n",
    "                              validation_steps=val_steps)"
   ]
  },
  {
   "cell_type": "code",
   "execution_count": 72,
   "metadata": {},
   "outputs": [
    {
     "data": {
      "image/png": "[encoded data removed]",
      "text/plain": [
       "<Figure size 720x288 with 2 Axes>"
      ]
     },
     "metadata": {},
     "output_type": "display_data"
    }
   ],
   "source": [
    "display_result(history)"
   ]
  },
  {
   "cell_type": "code",
   "execution_count": 73,
   "metadata": {},
   "outputs": [],
   "source": [
    "lookback = 144*5    # 5 days\n",
    "delay = 144         # 1 days\n",
    "steps = 3           # every 0.5 hour   (increase sampling frequency)\n",
    "\n",
    "train_gen = generator(float_data, \n",
    "                      lookback=lookback, \n",
    "                      delay=delay, \n",
    "                      min_index=0, \n",
    "                      max_index=200000, \n",
    "                      shuffle=True, \n",
    "                      batch_size=128, \n",
    "                      steps=steps)\n",
    "\n",
    "val_gen = generator(float_data, \n",
    "                    lookback=lookback, \n",
    "                    delay=delay, \n",
    "                    min_index=200001, \n",
    "                    max_index=300000, \n",
    "                    steps=steps)\n",
    "\n",
    "test_gen = generator(float_data, \n",
    "                    lookback=lookback, \n",
    "                    delay=delay, \n",
    "                    min_index=300001, \n",
    "                    max_index=None, \n",
    "                    steps=steps)\n",
    "\n",
    "\n",
    "val_steps = (300000 - 200001 - lookback) // 128\n",
    "test_steps = (len(float_data) - 300001 - lookback) // 128"
   ]
  },
  {
   "cell_type": "code",
   "execution_count": 74,
   "metadata": {},
   "outputs": [],
   "source": [
    "# Training: combine conv1D and RNN-GRU #\n",
    "########################################\n",
    "\n",
    "K.clear_session()\n",
    "\n",
    "model = models.Sequential()\n",
    "model.add(layers.Conv1D(filters=32, kernel_size=5, activation='relu', \n",
    "                        input_shape=(None, float_data.shape[-1])))\n",
    "model.add(layers.MaxPool1D(pool_size=3))\n",
    "model.add(layers.Conv1D(filters=32, kernel_size=5, activation='relu'))\n",
    "model.add(layers.GRU(units=32))\n",
    "model.add(layers.Dense(units=1, activation=None))"
   ]
  },
  {
   "cell_type": "code",
   "execution_count": 75,
   "metadata": {},
   "outputs": [
    {
     "name": "stdout",
     "output_type": "stream",
     "text": [
      "_________________________________________________________________\n",
      "Layer (type)                 Output Shape              Param #   \n",
      "=================================================================\n",
      "conv1d_1 (Conv1D)            (None, None, 32)          2272      \n",
      "_________________________________________________________________\n",
      "max_pooling1d_1 (MaxPooling1 (None, None, 32)          0         \n",
      "_________________________________________________________________\n",
      "conv1d_2 (Conv1D)            (None, None, 32)          5152      \n",
      "_________________________________________________________________\n",
      "gru_1 (GRU)                  (None, 32)                6240      \n",
      "_________________________________________________________________\n",
      "dense_1 (Dense)              (None, 1)                 33        \n",
      "=================================================================\n",
      "Total params: 13,697\n",
      "Trainable params: 13,697\n",
      "Non-trainable params: 0\n",
      "_________________________________________________________________\n"
     ]
    }
   ],
   "source": [
    "model.summary()"
   ]
  },
  {
   "cell_type": "code",
   "execution_count": 76,
   "metadata": {},
   "outputs": [
    {
     "name": "stdout",
     "output_type": "stream",
     "text": [
      "Epoch 1/20\n",
      "500/500 [==============================] - 59s 118ms/step - loss: 0.3230 - val_loss: 0.2791\n",
      "Epoch 2/20\n",
      "500/500 [==============================] - 58s 117ms/step - loss: 0.2888 - val_loss: 0.2774\n",
      "Epoch 3/20\n",
      "500/500 [==============================] - 59s 118ms/step - loss: 0.2729 - val_loss: 0.2824\n",
      "Epoch 4/20\n",
      "500/500 [==============================] - 58s 117ms/step - loss: 0.2604 - val_loss: 0.2902\n",
      "Epoch 5/20\n",
      "500/500 [==============================] - 59s 117ms/step - loss: 0.2483 - val_loss: 0.2862\n",
      "Epoch 6/20\n",
      "500/500 [==============================] - 58s 116ms/step - loss: 0.2377 - val_loss: 0.2913\n",
      "Epoch 7/20\n",
      "500/500 [==============================] - 58s 117ms/step - loss: 0.2279 - val_loss: 0.3004\n",
      "Epoch 8/20\n",
      "500/500 [==============================] - 57s 115ms/step - loss: 0.2177 - val_loss: 0.3125\n",
      "Epoch 9/20\n",
      "500/500 [==============================] - 57s 114ms/step - loss: 0.2087 - val_loss: 0.3187\n",
      "Epoch 10/20\n",
      "500/500 [==============================] - 57s 114ms/step - loss: 0.1985 - val_loss: 0.3318\n",
      "Epoch 11/20\n",
      "500/500 [==============================] - 57s 114ms/step - loss: 0.1925 - val_loss: 0.3273\n",
      "Epoch 12/20\n",
      "500/500 [==============================] - 57s 114ms/step - loss: 0.1864 - val_loss: 0.3405\n",
      "Epoch 13/20\n",
      "500/500 [==============================] - 57s 114ms/step - loss: 0.1802 - val_loss: 0.3466\n",
      "Epoch 14/20\n",
      "500/500 [==============================] - 59s 117ms/step - loss: 0.1731 - val_loss: 0.3473\n",
      "Epoch 15/20\n",
      "500/500 [==============================] - 58s 116ms/step - loss: 0.1691 - val_loss: 0.3564\n",
      "Epoch 16/20\n",
      "500/500 [==============================] - 60s 119ms/step - loss: 0.1650 - val_loss: 0.3482\n",
      "Epoch 17/20\n",
      "500/500 [==============================] - 60s 119ms/step - loss: 0.1612 - val_loss: 0.3434\n",
      "Epoch 18/20\n",
      "500/500 [==============================] - 60s 119ms/step - loss: 0.1585 - val_loss: 0.3468\n",
      "Epoch 19/20\n",
      "500/500 [==============================] - 60s 119ms/step - loss: 0.1546 - val_loss: 0.3457\n",
      "Epoch 20/20\n",
      "500/500 [==============================] - 60s 120ms/step - loss: 0.1521 - val_loss: 0.3557\n"
     ]
    }
   ],
   "source": [
    "model.compile(loss='mae', optimizer='rmsprop')\n",
    "history = model.fit_generator(train_gen, steps_per_epoch=500, \n",
    "                              validation_data=val_gen, validation_steps=val_steps,\n",
    "                              epochs=20)\n",
    "\n",
    "model.save('temperature_forecasting_conv1d_GRU.h5')"
   ]
  },
  {
   "cell_type": "code",
   "execution_count": 77,
   "metadata": {},
   "outputs": [
    {
     "data": {
      "image/png": "[encoded data removed]",
      "text/plain": [
       "<Figure size 720x288 with 2 Axes>"
      ]
     },
     "metadata": {},
     "output_type": "display_data"
    }
   ],
   "source": [
    "display_result(history)"
   ]
  },
  {
   "cell_type": "code",
   "execution_count": 78,
   "metadata": {},
   "outputs": [
    {
     "name": "stdout",
     "output_type": "stream",
     "text": [
      "_________________________________________________________________\n",
      "Layer (type)                 Output Shape              Param #   \n",
      "=================================================================\n",
      "conv1d_1 (Conv1D)            (None, None, 32)          2272      \n",
      "_________________________________________________________________\n",
      "max_pooling1d_1 (MaxPooling1 (None, None, 32)          0         \n",
      "_________________________________________________________________\n",
      "conv1d_2 (Conv1D)            (None, None, 32)          5152      \n",
      "_________________________________________________________________\n",
      "gru_1 (GRU)                  (None, 32)                6240      \n",
      "_________________________________________________________________\n",
      "dense_1 (Dense)              (None, 1)                 33        \n",
      "=================================================================\n",
      "Total params: 13,697\n",
      "Trainable params: 13,697\n",
      "Non-trainable params: 0\n",
      "_________________________________________________________________\n"
     ]
    }
   ],
   "source": [
    "# with dropout\n",
    "K.clear_session()\n",
    "\n",
    "model = models.Sequential()\n",
    "model.add(layers.Conv1D(filters=32, kernel_size=5, activation='relu', \n",
    "                        input_shape=(None, float_data.shape[-1])))\n",
    "model.add(layers.MaxPool1D(pool_size=3))\n",
    "model.add(layers.Conv1D(filters=32, kernel_size=5, activation='relu'))\n",
    "model.add(layers.GRU(units=32, dropout=.1, recurrent_dropout=.5))\n",
    "model.add(layers.Dense(units=1, activation=None))\n",
    "\n",
    "model.summary()"
   ]
  },
  {
   "cell_type": "code",
   "execution_count": 79,
   "metadata": {},
   "outputs": [
    {
     "name": "stdout",
     "output_type": "stream",
     "text": [
      "Epoch 1/20\n",
      "500/500 [==============================] - 69s 139ms/step - loss: 0.3386 - val_loss: 0.2993\n",
      "Epoch 2/20\n",
      "500/500 [==============================] - 68s 136ms/step - loss: 0.3077 - val_loss: 0.2830\n",
      "Epoch 3/20\n",
      "500/500 [==============================] - 72s 144ms/step - loss: 0.2965 - val_loss: 0.2727\n",
      "Epoch 4/20\n",
      "500/500 [==============================] - 72s 144ms/step - loss: 0.2875 - val_loss: 0.2770\n",
      "Epoch 5/20\n",
      "500/500 [==============================] - 72s 144ms/step - loss: 0.2809 - val_loss: 0.2667\n",
      "Epoch 6/20\n",
      "500/500 [==============================] - 72s 144ms/step - loss: 0.2746 - val_loss: 0.2721\n",
      "Epoch 7/20\n",
      "500/500 [==============================] - 72s 144ms/step - loss: 0.2682 - val_loss: 0.2791\n",
      "Epoch 8/20\n",
      "500/500 [==============================] - 72s 145ms/step - loss: 0.2628 - val_loss: 0.2784\n",
      "Epoch 9/20\n",
      "500/500 [==============================] - 73s 146ms/step - loss: 0.2590 - val_loss: 0.2754\n",
      "Epoch 10/20\n",
      "500/500 [==============================] - 73s 146ms/step - loss: 0.2563 - val_loss: 0.2767\n",
      "Epoch 11/20\n",
      "500/500 [==============================] - 73s 147ms/step - loss: 0.2482 - val_loss: 0.2851\n",
      "Epoch 12/20\n",
      "500/500 [==============================] - 74s 149ms/step - loss: 0.2463 - val_loss: 0.2813\n",
      "Epoch 13/20\n",
      "500/500 [==============================] - 74s 148ms/step - loss: 0.2427 - val_loss: 0.2846\n",
      "Epoch 14/20\n",
      "500/500 [==============================] - 73s 147ms/step - loss: 0.2401 - val_loss: 0.2843\n",
      "Epoch 15/20\n",
      "500/500 [==============================] - 73s 146ms/step - loss: 0.2355 - val_loss: 0.2845\n",
      "Epoch 16/20\n",
      "500/500 [==============================] - 73s 146ms/step - loss: 0.2344 - val_loss: 0.2884\n",
      "Epoch 17/20\n",
      "500/500 [==============================] - 73s 146ms/step - loss: 0.2339 - val_loss: 0.2887\n",
      "Epoch 18/20\n",
      "500/500 [==============================] - 73s 147ms/step - loss: 0.2286 - val_loss: 0.2947\n",
      "Epoch 19/20\n",
      "500/500 [==============================] - 73s 146ms/step - loss: 0.2273 - val_loss: 0.3002\n",
      "Epoch 20/20\n",
      "500/500 [==============================] - 73s 147ms/step - loss: 0.2240 - val_loss: 0.2995\n"
     ]
    }
   ],
   "source": [
    "model.compile(loss='mae', optimizer='rmsprop')\n",
    "history = model.fit_generator(train_gen, \n",
    "                              steps_per_epoch=500, \n",
    "                              epochs=20, \n",
    "                              validation_data=val_gen, \n",
    "                              validation_steps=val_steps)"
   ]
  },
  {
   "cell_type": "code",
   "execution_count": 80,
   "metadata": {},
   "outputs": [
    {
     "data": {
      "image/png": "[encoded data removed]",
      "text/plain": [
       "<Figure size 720x288 with 2 Axes>"
      ]
     },
     "metadata": {},
     "output_type": "display_data"
    }
   ],
   "source": [
    "model.save('temperature_forecasting_conv1d_GRU_with_dropout.h5')\n",
    "\n",
    "display_result(history)"
   ]
  },
  {
   "cell_type": "code",
   "execution_count": null,
   "metadata": {},
   "outputs": [],
   "source": []
  },
  {
   "cell_type": "code",
   "execution_count": null,
   "metadata": {},
   "outputs": [],
   "source": []
  }
 ],
 "metadata": {
  "kernelspec": {
   "display_name": "Python [conda env:deep_learning]",
   "language": "python",
   "name": "conda-env-deep_learning-py"
  }
 },
 "nbformat": 4,
 "nbformat_minor": 2
}
